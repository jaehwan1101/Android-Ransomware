{
 "cells": [
  {
   "cell_type": "code",
   "execution_count": 1,
   "id": "d0504dde",
   "metadata": {},
   "outputs": [],
   "source": [
    "import os\n",
    "import numpy as np\n",
    "from tensorflow.keras.preprocessing.image import ImageDataGenerator\n",
    "from tensorflow.keras.applications import ResNet50\n",
    "from tensorflow.keras.applications.resnet50 import preprocess_input\n",
    "from tensorflow.keras.layers import Dense, GlobalAveragePooling2D\n",
    "from tensorflow.keras.models import Model\n",
    "from tensorflow.keras.optimizers import Adam\n",
    "from tensorflow.keras.metrics import AUC\n",
    "from sklearn.metrics import confusion_matrix\n",
    "import time"
   ]
  },
  {
   "cell_type": "code",
   "execution_count": 2,
   "id": "3ef1ce9e",
   "metadata": {},
   "outputs": [],
   "source": [
    "def image_data_generator(data_folder, img_size=(224, 224), batch_size=32, color_mode='rgb'):\n",
    "    datagen = ImageDataGenerator(preprocessing_function=preprocess_input)\n",
    "    generator = datagen.flow_from_directory(\n",
    "        data_folder,\n",
    "        target_size=img_size,\n",
    "        batch_size=batch_size,\n",
    "        class_mode='categorical',  # 변경된 부분\n",
    "        color_mode=color_mode\n",
    "    )\n",
    "    return generator"
   ]
  },
  {
   "cell_type": "code",
   "execution_count": 3,
   "id": "0bc75793",
   "metadata": {},
   "outputs": [],
   "source": [
    "def ResNet50_model(input_shape, num_classes):\n",
    "    base_model = ResNet50(weights='imagenet', include_top=False, input_shape=input_shape)\n",
    "    for layer in base_model.layers:\n",
    "        layer.trainable = False\n",
    "    x = base_model.output\n",
    "    x = GlobalAveragePooling2D()(x)\n",
    "    x = Dense(1024, activation='relu')(x)\n",
    "    predictions = Dense(num_classes, activation='softmax')(x)  # 변경된 부분\n",
    "    model = Model(inputs=base_model.input, outputs=predictions)\n",
    "    model.compile(optimizer=Adam(), loss='categorical_crossentropy', metrics=['accuracy', AUC(name='auc')])  # 변경된 부분\n",
    "    return model"
   ]
  },
  {
   "cell_type": "code",
   "execution_count": 4,
   "id": "4eb450d5",
   "metadata": {},
   "outputs": [
    {
     "name": "stdout",
     "output_type": "stream",
     "text": [
      "Found 320000 images belonging to 11 classes.\n",
      "Found 40000 images belonging to 11 classes.\n",
      "Found 40000 images belonging to 11 classes.\n",
      "Epoch 1/10\n",
      "2500/2500 [==============================] - 583s 232ms/step - loss: 1.7762 - accuracy: 0.5042 - auc: 0.7906 - val_loss: 1.7395 - val_accuracy: 0.5076 - val_auc: 0.8011\n",
      "Epoch 2/10\n",
      "2500/2500 [==============================] - 473s 189ms/step - loss: 1.7306 - accuracy: 0.5089 - auc: 0.8052 - val_loss: 1.7236 - val_accuracy: 0.5100 - val_auc: 0.8091\n",
      "Epoch 3/10\n",
      "2500/2500 [==============================] - 474s 189ms/step - loss: 1.7165 - accuracy: 0.5102 - auc: 0.8107 - val_loss: 1.7109 - val_accuracy: 0.5113 - val_auc: 0.8139\n",
      "Epoch 4/10\n",
      "2500/2500 [==============================] - 474s 189ms/step - loss: 1.7051 - accuracy: 0.5108 - auc: 0.8147 - val_loss: 1.7136 - val_accuracy: 0.5106 - val_auc: 0.8152\n",
      "Epoch 5/10\n",
      "2500/2500 [==============================] - 474s 189ms/step - loss: 1.6965 - accuracy: 0.5113 - auc: 0.8177 - val_loss: 1.6953 - val_accuracy: 0.5120 - val_auc: 0.8179\n",
      "Epoch 6/10\n",
      "2500/2500 [==============================] - 474s 190ms/step - loss: 1.6897 - accuracy: 0.5118 - auc: 0.8200 - val_loss: 1.6871 - val_accuracy: 0.5113 - val_auc: 0.8214\n",
      "Epoch 7/10\n",
      "2500/2500 [==============================] - 474s 189ms/step - loss: 1.6830 - accuracy: 0.5122 - auc: 0.8222 - val_loss: 1.6818 - val_accuracy: 0.5137 - val_auc: 0.8220\n",
      "Epoch 8/10\n",
      "2500/2500 [==============================] - 474s 190ms/step - loss: 1.6807 - accuracy: 0.5124 - auc: 0.8233 - val_loss: 1.6895 - val_accuracy: 0.5121 - val_auc: 0.8214\n",
      "Epoch 9/10\n",
      "2500/2500 [==============================] - 473s 189ms/step - loss: 1.6771 - accuracy: 0.5125 - auc: 0.8245 - val_loss: 1.6828 - val_accuracy: 0.5129 - val_auc: 0.8223\n",
      "Epoch 10/10\n",
      "2500/2500 [==============================] - 472s 189ms/step - loss: 1.6746 - accuracy: 0.5126 - auc: 0.8253 - val_loss: 1.6783 - val_accuracy: 0.5127 - val_auc: 0.8235\n",
      "313/313 [==============================] - 95s 305ms/step - loss: 1.6756 - accuracy: 0.5124 - auc: 0.8241\n",
      "Test Loss: 1.6755708456039429\n",
      "Test Accuracy: 0.5124499797821045\n",
      "Test AUC: 0.8241206407546997\n",
      "Test Duration: 95.7660 seconds\n"
     ]
    }
   ],
   "source": [
    "base_path = r'C:\\Users\\pc\\Desktop\\CNN\\All_feature_multiclass_CNN'\n",
    "train_data_folder = os.path.join(base_path, 'Train_Image')\n",
    "val_data_folder = os.path.join(base_path, 'Validation_Image')\n",
    "test_data_folder = os.path.join(base_path, 'Test_Image')\n",
    "\n",
    "# 데이터 제너레이터 생성\n",
    "train_generator = image_data_generator(train_data_folder, batch_size=128)\n",
    "val_generator = image_data_generator(val_data_folder, batch_size=128)\n",
    "test_generator = image_data_generator(test_data_folder, batch_size=128)\n",
    "\n",
    "# 모델 정의 (클래스 개수 11로 설정)\n",
    "model = ResNet50_model(input_shape=(224, 224, 3), num_classes=11)\n",
    "\n",
    "# 배치 크기와 에포크 설정\n",
    "epochs = 10\n",
    "\n",
    "# 모델 훈련\n",
    "history = model.fit(\n",
    "    train_generator,\n",
    "    epochs=epochs,\n",
    "    validation_data=val_generator\n",
    ")\n",
    "\n",
    "# 테스트하기 전에 시간 측정 시작\n",
    "start_time = time.time()\n",
    "\n",
    "# 모델 평가\n",
    "test_loss, test_accuracy, test_auc = model.evaluate(test_generator)\n",
    "\n",
    "# 시간 측정 종료 및 결과 출력\n",
    "end_time = time.time()\n",
    "elapsed_time = end_time - start_time\n",
    "\n",
    "print(\"Test Loss:\", test_loss)\n",
    "print(\"Test Accuracy:\", test_accuracy)\n",
    "print(\"Test AUC:\", test_auc)\n",
    "print(f\"Test Duration: {elapsed_time:.4f} seconds\")"
   ]
  },
  {
   "cell_type": "code",
   "execution_count": 5,
   "id": "372ae618",
   "metadata": {},
   "outputs": [
    {
     "name": "stdout",
     "output_type": "stream",
     "text": [
      "313/313 [==============================] - 52s 164ms/step\n",
      "Confusion Matrix:\n",
      "[[19617     2     0   165     0    31   117     1     0    65     2]\n",
      " [ 2203     0     0    15     0     1    16     0     0    12     0]\n",
      " [ 1440     0     0     7     0     0    12     0     0     4     0]\n",
      " [ 2538     0     0    25     0     3    19     0     0     8     0]\n",
      " [ 1434     0     0    12     0     6    15     0     0     6     0]\n",
      " [  274     0     0     4     0     1     3     0     0     3     0]\n",
      " [ 2517     0     0    24     0     2    26     1     0     9     0]\n",
      " [ 2303     0     0    19     0     3    15     0     0     9     1]\n",
      " [ 2010     0     0    18     0     4    17     0     0     4     3]\n",
      " [ 3077     0     0    30     0     6    16     0     0    10     0]\n",
      " [ 1777     0     0    14     0     4    10     0     0    10     0]]\n"
     ]
    }
   ],
   "source": [
    "from sklearn.metrics import confusion_matrix\n",
    "import numpy as np\n",
    "\n",
    "# 예측을 받습니다. 예측 결과는 각 클래스에 대한 확률을 반환합니다.\n",
    "predictions = model.predict(test_generator, steps=len(test_generator))\n",
    "\n",
    "# 각 예측에서 가장 큰 확률 값을 가진 인덱스를 찾아 해당 클래스로 설정합니다.\n",
    "predicted_classes = np.argmax(predictions, axis=1)\n",
    "\n",
    "# 실제 레이블을 얻습니다.\n",
    "true_classes = test_generator.classes\n",
    "\n",
    "# 테스트 제너레이터의 클래스 인덱스를 얻습니다.\n",
    "# class_indices는 {'class_name': index} 형태의 딕셔너리입니다.\n",
    "class_indices = test_generator.class_indices\n",
    "\n",
    "# 클래스 인덱스를 이름에 매핑하기 위한 딕셔너리를 뒤집습니다.\n",
    "# {index: 'class_name'} 형태로 만듭니다.\n",
    "index_to_class = {v: k for k, v in class_indices.items()}\n",
    "\n",
    "# 예측된 클래스 인덱스를 클래스 이름으로 변환합니다.\n",
    "predicted_class_labels = [index_to_class[i] for i in predicted_classes]\n",
    "\n",
    "# 실제 클래스 인덱스를 클래스 이름으로 변환합니다.\n",
    "true_class_labels = [index_to_class[i] for i in true_classes]\n",
    "\n",
    "# 혼동 행렬을 생성합니다.\n",
    "conf_matrix = confusion_matrix(true_class_labels, predicted_class_labels, labels=list(index_to_class.values()))\n",
    "\n",
    "print(\"Confusion Matrix:\")\n",
    "print(conf_matrix)"
   ]
  }
 ],
 "metadata": {
  "kernelspec": {
   "display_name": "Python 3 (ipykernel)",
   "language": "python",
   "name": "python3"
  },
  "language_info": {
   "codemirror_mode": {
    "name": "ipython",
    "version": 3
   },
   "file_extension": ".py",
   "mimetype": "text/x-python",
   "name": "python",
   "nbconvert_exporter": "python",
   "pygments_lexer": "ipython3",
   "version": "3.10.9"
  }
 },
 "nbformat": 4,
 "nbformat_minor": 5
}
