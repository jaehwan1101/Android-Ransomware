{
 "cells": [
  {
   "cell_type": "code",
   "execution_count": 2,
   "id": "5515eaee",
   "metadata": {},
   "outputs": [],
   "source": [
    "import glob\n",
    "import numpy as np\n",
    "import pandas as pd\n",
    "from sklearn.feature_selection import SelectKBest, chi2\n",
    "from sklearn.preprocessing import MinMaxScaler\n",
    "\n",
    "# 폴더 경로 지정\n",
    "folder_path = r'C:\\Users\\pc\\Desktop\\CNN\\CIC-AndMal2017'"
   ]
  },
  {
   "cell_type": "code",
   "execution_count": 3,
   "id": "a31c9799",
   "metadata": {},
   "outputs": [
    {
     "name": "stdout",
     "output_type": "stream",
     "text": [
      "Charger 클래스의 샘플 개수: 39551\n",
      "Jisut 클래스의 샘플 개수: 25672\n",
      "Koler 클래스의 샘플 개수: 44555\n",
      "Lockerpin 클래스의 샘플 개수: 25307\n",
      "Pletor 클래스의 샘플 개수: 4715\n",
      "PornDroid 클래스의 샘플 개수: 46082\n",
      "RansomBO 클래스의 샘플 개수: 39859\n",
      "Simplocker 클래스의 샘플 개수: 36340\n",
      "SVpeng 클래스의 샘플 개수: 54161\n",
      "WannaLocker 클래스의 샘플 개수: 32701\n"
     ]
    }
   ],
   "source": [
    "# 랜섬웨어 클래스별 파일에 있는 샘플 개수를 확인하기 위한 딕셔너리\n",
    "samples_per_class = {}\n",
    "\n",
    "# Ransomware 폴더 내의 10개 폴더 경로 리스트 받아오기\n",
    "ransomware_folder_list = glob.glob(folder_path + '\\\\Ransomware\\\\*')\n",
    "\n",
    "# 모든 파일 로드 및 샘플 개수 확인\n",
    "for folder in ransomware_folder_list:\n",
    "    ransomware_class = folder.split('\\\\')[-1]  # 랜섬웨어 클래스명 추출\n",
    "\n",
    "    file_paths = glob.glob(folder + '\\\\*.csv')\n",
    "    total_samples = 0  # 클래스별 전체 샘플 개수 초기화\n",
    "    for file_path in file_paths:\n",
    "        data = pd.read_csv(file_path)\n",
    "        total_samples += data.shape[0]  # 데이터프레임의 행 수 / 샘플 개수 더하기\n",
    "\n",
    "    samples_per_class[ransomware_class] = total_samples\n",
    "\n",
    "# 클래스별 샘플 개수 출력\n",
    "for ransomware_class, num_samples in samples_per_class.items():\n",
    "    print(f\"{ransomware_class} 클래스의 샘플 개수: {num_samples}\")"
   ]
  },
  {
   "cell_type": "code",
   "execution_count": 4,
   "id": "2b2e77c2",
   "metadata": {},
   "outputs": [
    {
     "name": "stdout",
     "output_type": "stream",
     "text": [
      "특성추출 benign_subset의 샘플 개수: 200000\n"
     ]
    }
   ],
   "source": [
    "benign_folder_path = r'C:\\Users\\pc\\Desktop\\CNN\\CIC-AndMal2017\\Benign'\n",
    "\n",
    "# 'Benign' 클래스의 파일 경로 리스트 받아오기\n",
    "benign_file_paths = glob.glob(benign_folder_path + '/*.csv')\n",
    "\n",
    "# 'Benign' 클래스의 데이터프레임 초기화\n",
    "benign_data = pd.DataFrame()\n",
    "\n",
    "# 'Benign' 클래스의 모든 파일 로드\n",
    "for file_path in benign_file_paths:\n",
    "    data = pd.read_csv(file_path)\n",
    "    benign_data = pd.concat([benign_data, data], ignore_index=True)\n",
    "\n",
    "# 'Benign' 클래스에서 200,000개 무작위 샘플 추출\n",
    "num_samples_benign = 200000\n",
    "labels = []\n",
    "\n",
    "if len(benign_data) > num_samples_benign:\n",
    "    feature_benign_subset = benign_data.sample(n=num_samples_benign, random_state=42)\n",
    "else:\n",
    "    feature_benign_subset = benign_data.copy()\n",
    "\n",
    "# Benign 데이터의 라벨을 labels 리스트에 추가\n",
    "labels.extend(feature_benign_subset[' Label'].tolist())\n",
    "\n",
    "print(\"특성추출 benign_subset의 샘플 개수:\", len(feature_benign_subset))"
   ]
  },
  {
   "cell_type": "code",
   "execution_count": 5,
   "id": "ef6624d5",
   "metadata": {},
   "outputs": [
    {
     "name": "stdout",
     "output_type": "stream",
     "text": [
      "특성추출 ransomware_subset의 샘플 개수: 200000\n"
     ]
    }
   ],
   "source": [
    "ransomware_folder_list = glob.glob(folder_path + '\\\\Ransomware\\\\*')\n",
    "all_ransomware_data = pd.DataFrame()\n",
    "\n",
    "for ransomware_folder_path in ransomware_folder_list:\n",
    "    ransomware_file_paths = glob.glob(ransomware_folder_path + '/*.csv')\n",
    "    \n",
    "    # 각 랜섬웨어 클래스의 모든 파일 로드\n",
    "    for file_path in ransomware_file_paths:\n",
    "        data = pd.read_csv(file_path)\n",
    "        all_ransomware_data = pd.concat([all_ransomware_data, data], ignore_index=True)\n",
    "\n",
    "# 전체 랜섬웨어 데이터에서 200,000개 샘플 무작위로 추출\n",
    "if len(all_ransomware_data) > 200000:\n",
    "    feature_ransomware_subset = all_ransomware_data.sample(n=200000, random_state=42, replace=False)\n",
    "else:\n",
    "    feature_ransomware_subset = all_ransomware_data.copy()\n",
    "\n",
    "# 랜섬웨어 데이터의 라벨을 labels 리스트에 추가\n",
    "labels.extend(feature_ransomware_subset[' Label'].tolist())\n",
    "\n",
    "print(\"특성추출 ransomware_subset의 샘플 개수:\", len(feature_ransomware_subset))"
   ]
  },
  {
   "cell_type": "code",
   "execution_count": 6,
   "id": "0f0d9c0d",
   "metadata": {},
   "outputs": [
    {
     "name": "stdout",
     "output_type": "stream",
     "text": [
      "최종 특성추출 데이터세트의 샘플 개수: 400000\n"
     ]
    }
   ],
   "source": [
    "# 'Benign' 클래스와 랜섬웨어 클래스의 데이터프레임들을 합치기\n",
    "feature_dataset = pd.concat([feature_benign_subset, feature_ransomware_subset], ignore_index=True)\n",
    "\n",
    "print(\"최종 특성추출 데이터세트의 샘플 개수:\", len(feature_dataset))"
   ]
  },
  {
   "cell_type": "code",
   "execution_count": null,
   "id": "d0b3c327",
   "metadata": {},
   "outputs": [],
   "source": [
    "# 타깃 변수 열 이름 확인\n",
    "target_variable = ' Label'  # 실제 타깃 변수 열 이름으로 수정\n",
    "\n",
    "# X와 y로 데이터 분할\n",
    "y = feature_dataset[target_variable]  # 타깃 변수\n",
    "X = feature_dataset.drop([target_variable], axis=1)  # 타깃 변수 제외한 나머지 특성\n",
    "\n",
    "# 불필요한 특성 제거 (예시: 'Flow ID', ' Timestamp', ' Source IP', ' Destination IP' 특성 제거)\n",
    "unnecessary_features = ['Flow ID', ' Timestamp', ' Source IP', ' Destination IP']\n",
    "X = X.drop(unnecessary_features, axis=1)\n",
    "\n",
    "# 각 열(feature)에 Min-Max 스케일링 적용\n",
    "scaler = MinMaxScaler()\n",
    "X_scaled = pd.DataFrame(scaler.fit_transform(X), columns=X.columns)\n",
    "\n",
    "# chi2를 사용하여 특성 선택 (하위 36개의 특성 선택)\n",
    "num_features_to_select = 36\n",
    "selector = SelectKBest(score_func=chi2, k=num_features_to_select)\n",
    "X_selected = selector.fit_transform(X_scaled, y)\n",
    "\n",
    "# 선택된 특성들의 인덱스 추출\n",
    "selected_feature_indices = selector.get_support(indices=True)\n",
    "\n",
    "# 선택된 특성들의 컬럼명 추출\n",
    "selected_feature_names = X.columns[selected_feature_indices]\n",
    "\n",
    "# 최종 선택된 특성들의 데이터프레임 생성\n",
    "X_final = X[selected_feature_names]\n",
    "\n",
    "# 결과 출력\n",
    "print(\"선택된 특성들의 컬럼명:\")\n",
    "print(selected_feature_names)\n",
    "print(\"\\n최종 선택된 특성들의 데이터프레임:\")\n",
    "print(X_final.head())"
   ]
  },
  {
   "cell_type": "code",
   "execution_count": 8,
   "id": "05f0906d",
   "metadata": {},
   "outputs": [
    {
     "name": "stdout",
     "output_type": "stream",
     "text": [
      "특성들의 순위와 가중치:\n",
      "1.  Fwd Packet Length Max: 68.51133868993816\n",
      "2.  Idle Std: 71.12354356709263\n",
      "3. Total Length of Fwd Packets: 73.42559166162557\n",
      "4.  Subflow Fwd Bytes: 73.42559166162557\n",
      "5.  Active Min: 83.28418721520666\n",
      "6.  Bwd IAT Max: 88.8963958229467\n",
      "7.  Bwd Packet Length Std: 114.4627489105487\n",
      "8. Bwd IAT Total: 127.52163666858264\n",
      "9. Active Mean: 177.51414388595342\n",
      "10.  Flow IAT Std: 185.62858152753807\n",
      "11.  Init_Win_bytes_backward: 187.01606362293234\n",
      "12. Fwd Packets/s: 223.70671692479854\n",
      "13.  Fwd IAT Min: 224.95806560317286\n",
      "14.  Flow Packets/s: 231.97393796382588\n",
      "15.  Fwd IAT Mean: 238.4838937395082\n",
      "16.  Fwd IAT Std: 251.5386000987008\n",
      "17.  Flow IAT Min: 262.0408382976124\n",
      "18.  Flow IAT Mean: 283.16758689898757\n",
      "19.  Source Port: 298.84531536111183\n",
      "20.  Idle Max: 303.9776781317766\n",
      "21. Idle Mean: 304.2946892955119\n",
      "22.  Idle Min: 312.0969996165415\n",
      "23.  Active Max: 359.15956346435263\n",
      "24.  Flow IAT Max: 379.90025003727374\n",
      "25. Fwd PSH Flags: 393.5098629097659\n",
      "26.  SYN Flag Count: 393.5098629097659\n",
      "27.  Fwd IAT Max: 428.06572964763967\n",
      "28.  Flow Duration: 474.47777042088455\n",
      "29. FIN Flag Count: 519.6043231246751\n",
      "30.  ACK Flag Count: 632.452861905098\n",
      "31.  Active Std: 661.6279329140683\n",
      "32. Init_Win_bytes_forward: 669.7201159011804\n",
      "33. Fwd IAT Total: 674.1053412599139\n",
      "34.  PSH Flag Count: 679.1462985043355\n",
      "35.  URG Flag Count: 1963.8994726792823\n",
      "36.  Destination Port: 2008.5383520095572\n"
     ]
    }
   ],
   "source": [
    "# 특성들의 가중치(Chi-square 통계량) 확인\n",
    "chi2_scores = selector.scores_[selected_feature_indices]\n",
    "\n",
    "# 특성들의 가중치를 기준으로 오름차순 정렬\n",
    "sorted_indices = chi2_scores.argsort()\n",
    "sorted_features = selected_feature_names[sorted_indices]\n",
    "sorted_chi2_scores = chi2_scores[sorted_indices]\n",
    "\n",
    "# 특성들의 가중치와 순위 출력\n",
    "print(\"특성들의 순위와 가중치:\")\n",
    "for i, (feature, score) in enumerate(zip(sorted_features, sorted_chi2_scores), 1):\n",
    "    print(f\"{i}. {feature}: {score}\")"
   ]
  },
  {
   "cell_type": "code",
   "execution_count": 9,
   "id": "56657bd0",
   "metadata": {},
   "outputs": [
    {
     "name": "stdout",
     "output_type": "stream",
     "text": [
      "train_benign_subset의 샘플 개수: 160000\n"
     ]
    }
   ],
   "source": [
    "benign_folder_path = r'C:\\Users\\pc\\Desktop\\CNN\\CIC-AndMal2017\\Benign'\n",
    "\n",
    "# 'Benign' 클래스의 파일 경로 리스트 받아오기\n",
    "benign_file_paths = glob.glob(benign_folder_path + '/*.csv')\n",
    "\n",
    "# 'Benign' 클래스의 데이터프레임 초기화\n",
    "benign_data = pd.DataFrame()\n",
    "\n",
    "# 'Benign' 클래스의 모든 파일 로드\n",
    "for file_path in benign_file_paths:\n",
    "    data = pd.read_csv(file_path)\n",
    "    benign_data = pd.concat([benign_data, data], ignore_index=True)\n",
    "\n",
    "# 'Benign' 클래스에서 160,000개 무작위 샘플 추출\n",
    "num_samples_benign = 160000\n",
    "labels = []\n",
    "\n",
    "if len(benign_data) > num_samples_benign:\n",
    "    train_benign_subset = benign_data.sample(n=num_samples_benign, random_state=42)\n",
    "else:\n",
    "    train_benign_subset = benign_data.copy()\n",
    "\n",
    "# Benign 데이터의 라벨을 labels 리스트에 추가\n",
    "labels.extend(train_benign_subset[' Label'].tolist())\n",
    "\n",
    "print(\"train_benign_subset의 샘플 개수:\", len(train_benign_subset))"
   ]
  },
  {
   "cell_type": "code",
   "execution_count": 10,
   "id": "b7a4a4df",
   "metadata": {},
   "outputs": [
    {
     "name": "stdout",
     "output_type": "stream",
     "text": [
      "train_ransomware_subset의 샘플 개수: 160000\n"
     ]
    }
   ],
   "source": [
    "ransomware_folder_list = glob.glob(folder_path + '\\\\Ransomware\\\\*')\n",
    "all_ransomware_data = pd.DataFrame()\n",
    "\n",
    "for ransomware_folder_path in ransomware_folder_list:\n",
    "    ransomware_file_paths = glob.glob(ransomware_folder_path + '/*.csv')\n",
    "    \n",
    "    # 각 랜섬웨어 클래스의 모든 파일 로드\n",
    "    for file_path in ransomware_file_paths:\n",
    "        data = pd.read_csv(file_path)\n",
    "        all_ransomware_data = pd.concat([all_ransomware_data, data], ignore_index=True)\n",
    "\n",
    "# 전체 랜섬웨어 데이터에서 160,000개 샘플 무작위로 추출\n",
    "if len(all_ransomware_data) > 160000:\n",
    "    train_ransomware_subset = all_ransomware_data.sample(n=160000, random_state=42, replace=False)\n",
    "else:\n",
    "    train_ransomware_subset = all_ransomware_data.copy()\n",
    "\n",
    "# 랜섬웨어 데이터의 라벨을 labels 리스트에 추가\n",
    "labels.extend(train_ransomware_subset[' Label'].tolist())\n",
    "\n",
    "print(\"train_ransomware_subset의 샘플 개수:\", len(train_ransomware_subset))"
   ]
  },
  {
   "cell_type": "code",
   "execution_count": 12,
   "id": "5e9966aa",
   "metadata": {},
   "outputs": [
    {
     "name": "stdout",
     "output_type": "stream",
     "text": [
      "최종 train 데이터세트의 샘플 개수: 320000\n"
     ]
    }
   ],
   "source": [
    "# 'Benign' 클래스와 랜섬웨어 클래스의 데이터프레임들을 합치기\n",
    "train_dataset = pd.concat([train_benign_subset, train_ransomware_subset], ignore_index=True)\n",
    "\n",
    "print(\"최종 train 데이터세트의 샘플 개수:\", len(train_dataset))"
   ]
  },
  {
   "cell_type": "code",
   "execution_count": 13,
   "id": "f2a86c85",
   "metadata": {},
   "outputs": [
    {
     "name": "stdout",
     "output_type": "stream",
     "text": [
      "정규화된 특성들의 데이터프레임:\n",
      "    Source Port   Destination Port   Flow Duration  \\\n",
      "0      0.592166           0.000811        0.000794   \n",
      "1      0.758065           0.001224        0.002154   \n",
      "2      0.564211           0.006780        0.085388   \n",
      "3      0.739433           0.001224        0.004174   \n",
      "4      0.720954           0.006780        0.024747   \n",
      "\n",
      "   Total Length of Fwd Packets   Fwd Packet Length Max  \\\n",
      "0                     0.000004                0.001924   \n",
      "1                     0.000000                0.000000   \n",
      "2                     0.000058                0.025503   \n",
      "3                     0.000101                0.048244   \n",
      "4                     0.000005                0.001135   \n",
      "\n",
      "    Bwd Packet Length Std   Flow Packets/s   Flow IAT Mean   Flow IAT Std  \\\n",
      "0                0.000000     1.048297e-05        0.000795       0.000000   \n",
      "1                0.000000     3.861314e-06        0.002155       0.000000   \n",
      "2                0.059695     4.796322e-07        0.009495       0.039757   \n",
      "3                0.229885     6.979654e-06        0.000696       0.001507   \n",
      "4                0.000000     3.284025e-07        0.024767       0.000000   \n",
      "\n",
      "    Flow IAT Max  ...  Init_Win_bytes_forward   Init_Win_bytes_backward  \\\n",
      "0       0.000795  ...                0.000000                  0.000000   \n",
      "1       0.002155  ...                0.021164                  0.002106   \n",
      "2       0.084188  ...                1.000000                  0.000916   \n",
      "3       0.002113  ...                1.000000                  1.000000   \n",
      "4       0.024767  ...                0.022690                  0.000000   \n",
      "\n",
      "   Active Mean   Active Std   Active Max   Active Min  Idle Mean   Idle Std  \\\n",
      "0     0.000000          0.0     0.000000     0.000000   0.000000        0.0   \n",
      "1     0.000000          0.0     0.000000     0.000000   0.000000        0.0   \n",
      "2     0.001415          0.0     0.001415     0.001415   0.084263        0.0   \n",
      "3     0.000000          0.0     0.000000     0.000000   0.000000        0.0   \n",
      "4     0.000000          0.0     0.000000     0.000000   0.000000        0.0   \n",
      "\n",
      "    Idle Max   Idle Min  \n",
      "0   0.000000   0.000000  \n",
      "1   0.000000   0.000000  \n",
      "2   0.084263   0.084263  \n",
      "3   0.000000   0.000000  \n",
      "4   0.000000   0.000000  \n",
      "\n",
      "[5 rows x 36 columns]\n"
     ]
    }
   ],
   "source": [
    "from sklearn.preprocessing import MinMaxScaler\n",
    "\n",
    "# 선택된 36가지 특성에 해당하는 열만 추출\n",
    "selected_feature_columns = X_final.columns\n",
    "selected_feature_values = train_dataset[selected_feature_columns]\n",
    "\n",
    "# Min-Max 스케일링을 사용하여 선택된 특성들을 0과 1 사이의 값으로 정규화\n",
    "scaler = MinMaxScaler()\n",
    "selected_feature_values_normalized = scaler.fit_transform(selected_feature_values)\n",
    "\n",
    "# 정규화된 특성들을 데이터프레임으로 변환\n",
    "X_normalized = pd.DataFrame(selected_feature_values_normalized, columns=selected_feature_columns)\n",
    "\n",
    "# 결과 출력\n",
    "print(\"정규화된 특성들의 데이터프레임:\")\n",
    "print(X_normalized.head())"
   ]
  },
  {
   "cell_type": "code",
   "execution_count": 14,
   "id": "c5926035",
   "metadata": {},
   "outputs": [
    {
     "name": "stdout",
     "output_type": "stream",
     "text": [
      "6x6 크기의 2차원 행렬:\n",
      "[[5.92165899e-01 8.11178964e-04 7.94301774e-04 4.00783933e-06\n",
      "  1.92383583e-03 0.00000000e+00]\n",
      " [1.04829678e-05 7.94961759e-04 0.00000000e+00 7.94961759e-04\n",
      "  7.95120099e-04 0.00000000e+00]\n",
      " [0.00000000e+00 0.00000000e+00 0.00000000e+00 0.00000000e+00\n",
      "  0.00000000e+00 0.00000000e+00]\n",
      " [0.00000000e+00 5.24146129e-06 0.00000000e+00 0.00000000e+00\n",
      "  0.00000000e+00 0.00000000e+00]\n",
      " [0.00000000e+00 4.00783933e-06 0.00000000e+00 0.00000000e+00\n",
      "  0.00000000e+00 0.00000000e+00]\n",
      " [0.00000000e+00 0.00000000e+00 0.00000000e+00 0.00000000e+00\n",
      "  0.00000000e+00 0.00000000e+00]]\n"
     ]
    }
   ],
   "source": [
    "# 선택된 36가지 특성을 6x6 크기의 2차원 행렬로 변환\n",
    "num_rows = 6\n",
    "num_columns = 6\n",
    "X_final_reshaped = X_normalized.values.reshape(-1, num_rows, num_columns)\n",
    "\n",
    "# 결과 출력\n",
    "print(\"6x6 크기의 2차원 행렬:\")\n",
    "print(X_final_reshaped[0])  # 첫 번째 샘플에 해당하는 6x6 행렬 출력"
   ]
  },
  {
   "cell_type": "code",
   "execution_count": 15,
   "id": "ddbce737",
   "metadata": {},
   "outputs": [
    {
     "name": "stdout",
     "output_type": "stream",
     "text": [
      "이미지 변환 및 저장이 완료되었습니다.\n"
     ]
    }
   ],
   "source": [
    "from PIL import Image\n",
    "import os\n",
    "\n",
    "# 이미지를 저장할 폴더를 생성합니다.\n",
    "save_folder = r'C:\\Users\\pc\\Desktop\\CNN\\36_feature_binary_CNN\\Train_Image\\\\'\n",
    "os.makedirs(os.path.join(save_folder, \"Benign\"), exist_ok=True)\n",
    "os.makedirs(os.path.join(save_folder, \"Ransomware\"), exist_ok=True)\n",
    "\n",
    "# 이미지 확대 비율 설정\n",
    "resize_factor = 10  # 10배 확대\n",
    "\n",
    "# X_final_reshaped를 이미지로 변환하여 저장합니다.\n",
    "num_samples = X_final_reshaped.shape[0]\n",
    "for i in range(num_samples):\n",
    "    # 1채널 16비트 PNG 이미지 생성\n",
    "    image_data = X_final_reshaped[i]\n",
    "    image_data = (image_data * 65535).astype('uint16')  # 16비트로 변환\n",
    "    image = Image.fromarray(image_data, 'I;16')  # 16비트 단일 채널 이미지로 변환\n",
    "\n",
    "    # 이미지 데이터 확대\n",
    "    image_data = np.repeat(image_data, resize_factor, axis=0)  # 행 확대\n",
    "    image_data = np.repeat(image_data, resize_factor, axis=1)  # 열 확대\n",
    "    \n",
    "    # 확대된 데이터를 다시 이미지로 변환\n",
    "    image = Image.fromarray(image_data, 'I;16')  # 16비트 단일 채널 이미지로 변환\n",
    "    \n",
    "    # 이미지의 라벨에 따라서 저장 위치 및 파일명 설정\n",
    "    if i < 160000:\n",
    "        label = \"Benign\"\n",
    "    else:\n",
    "        label = \"Ransomware\"\n",
    "\n",
    "    image_filename = f\"image_{i}.png\"\n",
    "    image_filepath = os.path.join(save_folder, label, image_filename)\n",
    "\n",
    "    # 해당 경로에 이미지가 이미 존재하는 경우 건너뛴다.\n",
    "    if os.path.exists(image_filepath):\n",
    "        continue\n",
    "\n",
    "    image.save(image_filepath)\n",
    "\n",
    "print(\"이미지 변환 및 저장이 완료되었습니다.\")"
   ]
  },
  {
   "cell_type": "code",
   "execution_count": 16,
   "id": "da49ed69",
   "metadata": {},
   "outputs": [],
   "source": [
    "import os\n",
    "import cv2\n",
    "import numpy as np\n",
    "\n",
    "# 라벨 목록 및 해당 라벨에 대한 정수 값 지정\n",
    "label_mapping = {\n",
    "    \"Benign\": 0,\n",
    "    \"Ransomware\": 1\n",
    "}\n",
    "\n",
    "# 이미지 데이터를 저장한 폴더 경로\n",
    "image_folder = r'C:\\Users\\pc\\Desktop\\CNN\\36_feature_binary_CNN\\Train_Image\\\\'\n",
    "\n",
    "X_data = []\n",
    "y_labels = []\n",
    "\n",
    "# 모든 라벨마다 폴더를 순회합니다.\n",
    "for label_str, label_int in label_mapping.items():\n",
    "    folder_path = os.path.join(image_folder, label_str)  # 해당 라벨의 폴더 경로\n",
    "    \n",
    "    # 해당 폴더 내의 모든 이미지 파일을 순차적으로 처리\n",
    "    for filename in os.listdir(folder_path):\n",
    "        image_path = os.path.join(folder_path, filename)\n",
    "        \n",
    "        # 16-bit 이미지 로딩\n",
    "        image = cv2.imread(image_path, cv2.IMREAD_UNCHANGED)\n",
    "        \n",
    "        if image is None:  # 이미지 로딩 실패\n",
    "            print(f\"Failed to load image at path: {image_path}\")\n",
    "            continue\n",
    "        \n",
    "        X_data.append(image)\n",
    "        y_labels.append(label_int)\n",
    "\n",
    "X_data = np.array(X_data, dtype=np.uint16)  # uint16 형태로 이미지 데이터 저장\n",
    "y_labels = np.array(y_labels)"
   ]
  },
  {
   "cell_type": "code",
   "execution_count": 17,
   "id": "3cd49e2d",
   "metadata": {},
   "outputs": [
    {
     "name": "stdout",
     "output_type": "stream",
     "text": [
      "validation_benign_subset의 샘플 개수: 20000\n"
     ]
    }
   ],
   "source": [
    "# train_benign_subset에 포함되지 않은 데이터 선택\n",
    "validation_data_candidate = benign_data.drop(train_benign_subset.index)\n",
    "\n",
    "# 선택된 데이터 중에서 20,000개를 무작위로 선택\n",
    "num_samples_validation = 20000\n",
    "if len(validation_data_candidate) > num_samples_validation:\n",
    "    validation_benign_subset = validation_data_candidate.sample(n=num_samples_validation, random_state=42)\n",
    "else:\n",
    "    validation_benign_subset = validation_data_candidate.copy()\n",
    "\n",
    "print(\"validation_benign_subset의 샘플 개수:\", len(validation_benign_subset))"
   ]
  },
  {
   "cell_type": "code",
   "execution_count": 18,
   "id": "f9b4f35d",
   "metadata": {},
   "outputs": [
    {
     "name": "stdout",
     "output_type": "stream",
     "text": [
      "validation_ransomware_subset의 샘플 개수: 20000\n"
     ]
    }
   ],
   "source": [
    "# train_ransomware_subset에 포함되지 않은 랜섬웨어 데이터 선택\n",
    "validation_ransomware_candidate = all_ransomware_data.drop(train_ransomware_subset.index)\n",
    "\n",
    "# 선택된 데이터 중에서 20,000개를 무작위로 선택\n",
    "num_samples_validation_ransomware = 20000\n",
    "if len(validation_ransomware_candidate) > num_samples_validation_ransomware:\n",
    "    validation_ransomware_subset = validation_ransomware_candidate.sample(n=num_samples_validation_ransomware, random_state=42)\n",
    "else:\n",
    "    validation_ransomware_subset = validation_ransomware_candidate.copy()\n",
    "\n",
    "print(\"validation_ransomware_subset의 샘플 개수:\", len(validation_ransomware_subset))"
   ]
  },
  {
   "cell_type": "code",
   "execution_count": 20,
   "id": "25786a6c",
   "metadata": {},
   "outputs": [
    {
     "name": "stdout",
     "output_type": "stream",
     "text": [
      "최종 validation 데이터세트의 샘플 개수: 40000\n"
     ]
    }
   ],
   "source": [
    "# 'Benign' 클래스와 랜섬웨어 클래스의 데이터프레임들을 합치기\n",
    "validation_dataset = pd.concat([validation_benign_subset, validation_ransomware_subset], ignore_index=True)\n",
    "\n",
    "print(\"최종 validation 데이터세트의 샘플 개수:\", len(validation_dataset))"
   ]
  },
  {
   "cell_type": "code",
   "execution_count": 21,
   "id": "a31a849d",
   "metadata": {},
   "outputs": [],
   "source": [
    "# 선택된 36가지 특성에 해당하는 열만 추출 (Validation 데이터셋)\n",
    "val_selected_feature_values = validation_dataset[selected_feature_columns]\n",
    "\n",
    "# Min-Max 스케일링을 사용하여 선택된 특성들을 0과 1 사이의 값으로 정규화 (Validation 데이터셋)\n",
    "val_selected_feature_values_normalized = scaler.transform(val_selected_feature_values)\n",
    "\n",
    "# 정규화된 특성들을 데이터프레임으로 변환 (Validation 데이터셋)\n",
    "X_val_normalized = pd.DataFrame(val_selected_feature_values_normalized, columns=selected_feature_columns)\n",
    "\n",
    "# 선택된 36가지 특성을 6x6 크기의 2차원 행렬로 변환 (Validation 데이터셋)\n",
    "X_val_reshaped = X_val_normalized.values.reshape(-1, num_rows, num_columns)"
   ]
  },
  {
   "cell_type": "code",
   "execution_count": 22,
   "id": "4675abcc",
   "metadata": {},
   "outputs": [
    {
     "name": "stdout",
     "output_type": "stream",
     "text": [
      "이미지 변환 및 저장이 완료되었습니다.\n"
     ]
    }
   ],
   "source": [
    "from PIL import Image\n",
    "import os\n",
    "\n",
    "# 이미지를 저장할 폴더를 생성합니다.\n",
    "save_folder = r'C:\\Users\\pc\\Desktop\\CNN\\36_feature_binary_CNN\\Validation_Image\\\\'\n",
    "os.makedirs(os.path.join(save_folder, \"Benign\"), exist_ok=True)\n",
    "os.makedirs(os.path.join(save_folder, \"Ransomware\"), exist_ok=True)\n",
    "\n",
    "# 이미지 확대 비율 설정\n",
    "resize_factor = 10  # 10배 확대\n",
    "\n",
    "# X_final_reshaped를 이미지로 변환하여 저장합니다.\n",
    "num_samples = X_val_reshaped.shape[0]\n",
    "for i in range(num_samples):\n",
    "    # 1채널 16비트 PNG 이미지 생성\n",
    "    image_data = X_val_reshaped[i]\n",
    "    image_data = (image_data * 65535).astype('uint16')  # 16비트로 변환\n",
    "    image = Image.fromarray(image_data, 'I;16')  # 16비트 단일 채널 이미지로 변환\n",
    "\n",
    "    # 이미지 데이터 확대\n",
    "    image_data = np.repeat(image_data, resize_factor, axis=0)  # 행 확대\n",
    "    image_data = np.repeat(image_data, resize_factor, axis=1)  # 열 확대\n",
    "    \n",
    "    # 확대된 데이터를 다시 이미지로 변환\n",
    "    image = Image.fromarray(image_data, 'I;16')  # 16비트 단일 채널 이미지로 변환\n",
    "    \n",
    "    # 이미지의 라벨에 따라서 저장 위치 및 파일명 설정\n",
    "    if i < 20000:\n",
    "        label = \"Benign\"\n",
    "    else:\n",
    "        label = \"Ransomware\"\n",
    "\n",
    "    image_filename = f\"image_{i}.png\"\n",
    "    image_filepath = os.path.join(save_folder, label, image_filename)\n",
    "\n",
    "    # 해당 경로에 이미지가 이미 존재하는 경우 건너뛴다.\n",
    "    if os.path.exists(image_filepath):\n",
    "        continue\n",
    "\n",
    "    image.save(image_filepath)\n",
    "\n",
    "print(\"이미지 변환 및 저장이 완료되었습니다.\")"
   ]
  },
  {
   "cell_type": "code",
   "execution_count": 23,
   "id": "e4c46c24",
   "metadata": {},
   "outputs": [],
   "source": [
    "import os\n",
    "import cv2\n",
    "import numpy as np\n",
    "\n",
    "# 라벨 목록 및 해당 라벨에 대한 정수 값 지정\n",
    "label_mapping = {\n",
    "    \"Benign\": 0,\n",
    "    \"Ransomware\": 1\n",
    "}\n",
    "\n",
    "# 이미지 데이터를 저장한 폴더 경로\n",
    "image_folder = r'C:\\Users\\pc\\Desktop\\CNN\\36_feature_binary_CNN\\Validation_Image\\\\'  # Modified path to \"Validation_Image\"\n",
    "\n",
    "X_val_data = []  # Changed variable name to X_val_data for clarity\n",
    "y_val_labels = []  # Changed variable name to y_val_labels for clarity\n",
    "\n",
    "# 모든 라벨마다 폴더를 순회합니다.\n",
    "for label_str, label_int in label_mapping.items():\n",
    "    folder_path = os.path.join(image_folder, label_str)  # 해당 라벨의 폴더 경로\n",
    "    \n",
    "    # 해당 폴더 내의 모든 이미지 파일을 순차적으로 처리\n",
    "    for filename in os.listdir(folder_path):\n",
    "        image_path = os.path.join(folder_path, filename)\n",
    "        \n",
    "        # 16-bit 이미지 로딩\n",
    "        image = cv2.imread(image_path, cv2.IMREAD_UNCHANGED)\n",
    "        \n",
    "        if image is None:  # 이미지 로딩 실패\n",
    "            print(f\"Failed to load image at path: {image_path}\")\n",
    "            continue\n",
    "        \n",
    "        X_val_data.append(image)  # Changed variable name\n",
    "        y_val_labels.append(label_int)  # Changed variable name\n",
    "\n",
    "X_val_data = np.array(X_val_data, dtype=np.uint16)  # uint16 형태로 이미지 데이터 저장, changed variable name\n",
    "y_val_labels = np.array(y_val_labels)  # Changed variable name"
   ]
  },
  {
   "cell_type": "code",
   "execution_count": 24,
   "id": "3c6cf848",
   "metadata": {},
   "outputs": [
    {
     "name": "stdout",
     "output_type": "stream",
     "text": [
      "test_benign_subset의 샘플 개수: 20000\n"
     ]
    }
   ],
   "source": [
    "# train_benign_subset 및 validation_benign_subset에 포함되지 않은 데이터 선택\n",
    "test_data_candidate = benign_data.drop(train_benign_subset.index).drop(validation_benign_subset.index)\n",
    "\n",
    "# 선택된 데이터 중에서 20,000개를 무작위로 선택\n",
    "num_samples_test = 20000\n",
    "if len(test_data_candidate) > num_samples_test:\n",
    "    test_benign_subset = test_data_candidate.sample(n=num_samples_test, random_state=42)\n",
    "else:\n",
    "    test_benign_subset = test_data_candidate.copy()\n",
    "\n",
    "print(\"test_benign_subset의 샘플 개수:\", len(test_benign_subset))"
   ]
  },
  {
   "cell_type": "code",
   "execution_count": 25,
   "id": "a2620b25",
   "metadata": {},
   "outputs": [
    {
     "name": "stdout",
     "output_type": "stream",
     "text": [
      "test_ransomware_subset의 샘플 개수: 20000\n"
     ]
    }
   ],
   "source": [
    "# validation_ransomware_subset에 포함되지 않은 랜섬웨어 데이터 선택\n",
    "test_ransomware_candidate = validation_ransomware_candidate.drop(validation_ransomware_subset.index)\n",
    "\n",
    "# 선택된 데이터 중에서 20,000개를 무작위로 선택\n",
    "num_samples_test_ransomware = 20000\n",
    "if len(test_ransomware_candidate) > num_samples_test_ransomware:\n",
    "    test_ransomware_subset = test_ransomware_candidate.sample(n=num_samples_test_ransomware, random_state=42)\n",
    "else:\n",
    "    test_ransomware_subset = test_ransomware_candidate.copy()\n",
    "\n",
    "print(\"test_ransomware_subset의 샘플 개수:\", len(test_ransomware_subset))"
   ]
  },
  {
   "cell_type": "code",
   "execution_count": 27,
   "id": "86645a89",
   "metadata": {},
   "outputs": [
    {
     "name": "stdout",
     "output_type": "stream",
     "text": [
      "최종 test 데이터세트의 샘플 개수: 40000\n"
     ]
    }
   ],
   "source": [
    "# 'Benign' 클래스와 랜섬웨어 클래스의 데이터프레임들을 합치기\n",
    "test_dataset = pd.concat([test_benign_subset, test_ransomware_subset], ignore_index=True)\n",
    "\n",
    "print(\"최종 test 데이터세트의 샘플 개수:\", len(test_dataset))"
   ]
  },
  {
   "cell_type": "code",
   "execution_count": 28,
   "id": "696103e3",
   "metadata": {},
   "outputs": [],
   "source": [
    "# 선택된 36가지 특성에 해당하는 열만 추출 (Test 데이터셋)\n",
    "test_selected_feature_values = test_dataset[selected_feature_columns]\n",
    "\n",
    "# Min-Max 스케일링을 사용하여 선택된 특성들을 0과 1 사이의 값으로 정규화 (Test 데이터셋)\n",
    "test_selected_feature_values_normalized = scaler.transform(test_selected_feature_values)\n",
    "\n",
    "# 정규화된 특성들을 데이터프레임으로 변환 (Test 데이터셋)\n",
    "X_test_normalized = pd.DataFrame(test_selected_feature_values_normalized, columns=selected_feature_columns)\n",
    "\n",
    "# 선택된 36가지 특성을 6x6 크기의 2차원 행렬로 변환 (Test 데이터셋)\n",
    "X_test_reshaped = X_test_normalized.values.reshape(-1, num_rows, num_columns)"
   ]
  },
  {
   "cell_type": "code",
   "execution_count": 29,
   "id": "5e674e56",
   "metadata": {},
   "outputs": [
    {
     "name": "stdout",
     "output_type": "stream",
     "text": [
      "이미지 변환 및 저장이 완료되었습니다.\n"
     ]
    }
   ],
   "source": [
    "from PIL import Image\n",
    "import os\n",
    "\n",
    "# 이미지를 저장할 폴더를 생성합니다.\n",
    "save_folder = r'C:\\Users\\pc\\Desktop\\CNN\\36_feature_binary_CNN\\Test_Image\\\\'\n",
    "os.makedirs(os.path.join(save_folder, \"Benign\"), exist_ok=True)\n",
    "os.makedirs(os.path.join(save_folder, \"Ransomware\"), exist_ok=True)\n",
    "\n",
    "# 이미지 확대 비율 설정\n",
    "resize_factor = 10  # 10배 확대\n",
    "\n",
    "# X_final_reshaped를 이미지로 변환하여 저장합니다.\n",
    "num_samples = X_test_reshaped.shape[0]\n",
    "for i in range(num_samples):\n",
    "    # 1채널 16비트 PNG 이미지 생성\n",
    "    image_data = X_test_reshaped[i]\n",
    "    image_data = (image_data * 65535).astype('uint16')  # 16비트로 변환\n",
    "    image = Image.fromarray(image_data, 'I;16')  # 16비트 단일 채널 이미지로 변환\n",
    "\n",
    "    # 이미지 데이터 확대\n",
    "    image_data = np.repeat(image_data, resize_factor, axis=0)  # 행 확대\n",
    "    image_data = np.repeat(image_data, resize_factor, axis=1)  # 열 확대\n",
    "    \n",
    "    # 확대된 데이터를 다시 이미지로 변환\n",
    "    image = Image.fromarray(image_data, 'I;16')  # 16비트 단일 채널 이미지로 변환\n",
    "    \n",
    "    # 이미지의 라벨에 따라서 저장 위치 및 파일명 설정\n",
    "    if i < 20000:\n",
    "        label = \"Benign\"\n",
    "    else:\n",
    "        label = \"Ransomware\"\n",
    "\n",
    "    image_filename = f\"image_{i}.png\"\n",
    "    image_filepath = os.path.join(save_folder, label, image_filename)\n",
    "\n",
    "    # 해당 경로에 이미지가 이미 존재하는 경우 건너뛴다.\n",
    "    if os.path.exists(image_filepath):\n",
    "        continue\n",
    "\n",
    "    image.save(image_filepath)\n",
    "\n",
    "print(\"이미지 변환 및 저장이 완료되었습니다.\")"
   ]
  },
  {
   "cell_type": "code",
   "execution_count": 30,
   "id": "1b7a5ae5",
   "metadata": {},
   "outputs": [],
   "source": [
    "import os\n",
    "import cv2\n",
    "import numpy as np\n",
    "\n",
    "# 라벨 목록 및 해당 라벨에 대한 정수 값 지정\n",
    "label_mapping = {\n",
    "    \"Benign\": 0,\n",
    "    \"Ransomware\": 1\n",
    "}\n",
    "\n",
    "# 이미지 데이터를 저장한 폴더 경로\n",
    "image_folder = r'C:\\Users\\pc\\Desktop\\CNN\\36_feature_binary_CNN\\Test_Image\\\\'  # Modified path to \"Test_Image\"\n",
    "\n",
    "X_test_data = []  # Changed variable name to X_test_data for clarity\n",
    "y_test_labels = []  # Changed variable name to y_test_labels for clarity\n",
    "\n",
    "# 모든 라벨마다 폴더를 순회합니다.\n",
    "for label_str, label_int in label_mapping.items():\n",
    "    folder_path = os.path.join(image_folder, label_str)  # 해당 라벨의 폴더 경로\n",
    "    \n",
    "    # 해당 폴더 내의 모든 이미지 파일을 순차적으로 처리\n",
    "    for filename in os.listdir(folder_path):\n",
    "        image_path = os.path.join(folder_path, filename)\n",
    "        \n",
    "        # 16-bit 이미지 로딩\n",
    "        image = cv2.imread(image_path, cv2.IMREAD_UNCHANGED)\n",
    "        \n",
    "        if image is None:  # 이미지 로딩 실패\n",
    "            print(f\"Failed to load image at path: {image_path}\")\n",
    "            continue\n",
    "        \n",
    "        X_test_data.append(image)  # Changed variable name\n",
    "        y_test_labels.append(label_int)  # Changed variable name\n",
    "\n",
    "X_test_data = np.array(X_test_data, dtype=np.uint16)  # uint16 형태로 이미지 데이터 저장, changed variable name\n",
    "y_test_labels = np.array(y_test_labels)  # Changed variable name"
   ]
  }
 ],
 "metadata": {
  "kernelspec": {
   "display_name": "Python 3 (ipykernel)",
   "language": "python",
   "name": "python3"
  },
  "language_info": {
   "codemirror_mode": {
    "name": "ipython",
    "version": 3
   },
   "file_extension": ".py",
   "mimetype": "text/x-python",
   "name": "python",
   "nbconvert_exporter": "python",
   "pygments_lexer": "ipython3",
   "version": "3.10.9"
  }
 },
 "nbformat": 4,
 "nbformat_minor": 5
}
