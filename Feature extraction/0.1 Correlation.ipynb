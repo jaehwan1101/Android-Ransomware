{
 "cells": [
  {
   "cell_type": "code",
   "execution_count": 1,
   "id": "3368b1ac",
   "metadata": {},
   "outputs": [],
   "source": [
    "import glob\n",
    "import numpy as np\n",
    "import pandas as pd\n",
    "from sklearn.feature_selection import SelectKBest, chi2\n",
    "from sklearn.preprocessing import MinMaxScaler\n",
    "\n",
    "# 폴더 경로 지정\n",
    "folder_path = r'C:\\Users\\pc\\Desktop\\CNN\\CIC-AndMal2017'"
   ]
  },
  {
   "cell_type": "code",
   "execution_count": 2,
   "id": "59a19991",
   "metadata": {},
   "outputs": [
    {
     "name": "stdout",
     "output_type": "stream",
     "text": [
      "train_benign_subset의 샘플 개수: 160000\n"
     ]
    }
   ],
   "source": [
    "benign_folder_path = r'C:\\Users\\pc\\Desktop\\CNN\\CIC-AndMal2017\\Benign'\n",
    "\n",
    "# 'Benign' 클래스의 파일 경로 리스트 받아오기\n",
    "benign_file_paths = glob.glob(benign_folder_path + '/*.csv')\n",
    "\n",
    "# 'Benign' 클래스의 데이터프레임 초기화\n",
    "benign_data = pd.DataFrame()\n",
    "\n",
    "# 'Benign' 클래스의 모든 파일 로드\n",
    "for file_path in benign_file_paths:\n",
    "    data = pd.read_csv(file_path)\n",
    "    benign_data = pd.concat([benign_data, data], ignore_index=True)\n",
    "\n",
    "# 'Benign' 클래스에서 160,000개 무작위 샘플 추출\n",
    "num_samples_benign = 160000\n",
    "labels = []\n",
    "\n",
    "if len(benign_data) > num_samples_benign:\n",
    "    train_benign_subset = benign_data.sample(n=num_samples_benign, random_state=42)\n",
    "else:\n",
    "    train_benign_subset = benign_data.copy()\n",
    "\n",
    "# Benign 데이터의 라벨을 labels 리스트에 추가\n",
    "labels.extend(train_benign_subset[' Label'].tolist())\n",
    "\n",
    "print(\"train_benign_subset의 샘플 개수:\", len(train_benign_subset))"
   ]
  },
  {
   "cell_type": "code",
   "execution_count": 3,
   "id": "a0567cf7",
   "metadata": {},
   "outputs": [
    {
     "name": "stdout",
     "output_type": "stream",
     "text": [
      "train_ransomware_subset의 샘플 개수: 160000\n"
     ]
    }
   ],
   "source": [
    "ransomware_folder_list = glob.glob(folder_path + '\\\\Ransomware\\\\*')\n",
    "all_ransomware_data = pd.DataFrame()\n",
    "\n",
    "for ransomware_folder_path in ransomware_folder_list:\n",
    "    ransomware_file_paths = glob.glob(ransomware_folder_path + '/*.csv')\n",
    "    \n",
    "    # 각 랜섬웨어 클래스의 모든 파일 로드\n",
    "    for file_path in ransomware_file_paths:\n",
    "        data = pd.read_csv(file_path)\n",
    "        all_ransomware_data = pd.concat([all_ransomware_data, data], ignore_index=True)\n",
    "\n",
    "# 전체 랜섬웨어 데이터에서 160,000개 샘플 무작위로 추출\n",
    "if len(all_ransomware_data) > 160000:\n",
    "    train_ransomware_subset = all_ransomware_data.sample(n=160000, random_state=42, replace=False)\n",
    "else:\n",
    "    train_ransomware_subset = all_ransomware_data.copy()\n",
    "\n",
    "# 랜섬웨어 데이터의 라벨을 labels 리스트에 추가\n",
    "labels.extend(train_ransomware_subset[' Label'].tolist())\n",
    "\n",
    "print(\"train_ransomware_subset의 샘플 개수:\", len(train_ransomware_subset))"
   ]
  },
  {
   "cell_type": "code",
   "execution_count": 4,
   "id": "3c211d0e",
   "metadata": {},
   "outputs": [
    {
     "name": "stdout",
     "output_type": "stream",
     "text": [
      "최종 train 데이터세트의 샘플 개수: 320000\n"
     ]
    }
   ],
   "source": [
    "# 'Benign' 클래스와 랜섬웨어 클래스의 데이터프레임들을 합치기\n",
    "train_dataset = pd.concat([train_benign_subset, train_ransomware_subset], ignore_index=True)\n",
    "\n",
    "print(\"최종 train 데이터세트의 샘플 개수:\", len(train_dataset))"
   ]
  },
  {
   "cell_type": "code",
   "execution_count": 6,
   "id": "55001671",
   "metadata": {},
   "outputs": [
    {
     "name": "stdout",
     "output_type": "stream",
     "text": [
      "정규화된 선택된 특성들의 데이터프레임:\n",
      "    ACK Flag Count   Active Max   Active Min   Active Std  \\\n",
      "0              0.0     0.000000     0.000000          0.0   \n",
      "1              1.0     0.000000     0.000000          0.0   \n",
      "2              0.0     0.001415     0.001415          0.0   \n",
      "3              0.0     0.000000     0.000000          0.0   \n",
      "4              1.0     0.000000     0.000000          0.0   \n",
      "\n",
      "    Average Packet Size   Avg Bwd Segment Size   Avg Fwd Segment Size  \\\n",
      "0              0.050957               0.070548               0.013209   \n",
      "1              0.000000               0.000000               0.000000   \n",
      "2              0.042511               0.025616               0.038476   \n",
      "3              0.120576               0.089212               0.110414   \n",
      "4              0.019426               0.000000               0.007790   \n",
      "\n",
      "    Bwd Header Length   Bwd IAT Max   Bwd IAT Mean  ...  \\\n",
      "0            0.999152      0.000000       0.000000  ...   \n",
      "1            0.999152      0.000000       0.000000  ...   \n",
      "2            0.999152      0.084283       0.021577  ...   \n",
      "3            0.999152      0.002052       0.000696  ...   \n",
      "4            0.999152      0.000000       0.000000  ...   \n",
      "\n",
      "   Bwd Packet Length Max  Destination IP  Flow Bytes/s  Fwd IAT Total  \\\n",
      "0               0.007904        0.038309  1.124351e-05       0.000000   \n",
      "1               0.000000        0.704979  0.000000e+00       0.000000   \n",
      "2               0.011971        0.409119  5.561045e-07       0.000752   \n",
      "3               0.039979        0.549363  2.258761e-05       0.002141   \n",
      "4               0.000000        0.674715  1.169069e-07       0.024747   \n",
      "\n",
      "   Fwd PSH Flags  Fwd Packets/s  Idle Mean  Init_Win_bytes_forward  \\\n",
      "0            0.0   5.241461e-06   0.000000                0.000000   \n",
      "1            0.0   1.930635e-06   0.000000                0.021164   \n",
      "2            0.0   2.397935e-07   0.084263                1.000000   \n",
      "3            0.0   2.990662e-06   0.000000                1.000000   \n",
      "4            1.0   3.325500e-07   0.000000                0.022690   \n",
      "\n",
      "   Subflow Fwd Packets  Total Length of Fwd Packets  \n",
      "0             0.000000                     0.000004  \n",
      "1             0.000000                     0.000000  \n",
      "2             0.000594                     0.000058  \n",
      "3             0.000297                     0.000101  \n",
      "4             0.000149                     0.000005  \n",
      "\n",
      "[5 rows x 52 columns]\n"
     ]
    }
   ],
   "source": [
    "from sklearn.preprocessing import MinMaxScaler\n",
    "from sklearn.impute import SimpleImputer\n",
    "\n",
    "# IP 주소를 수치형 데이터로 변환하는 함수\n",
    "def ip_to_numeric(ip):\n",
    "    if not isinstance(ip, str):\n",
    "        return np.nan\n",
    "    return sum(int(octet) * 256 ** (3 - index) for index, octet in enumerate(ip.split('.')))\n",
    "\n",
    "# Apply the ip_to_numeric function to the 'Destination IP' column\n",
    "train_dataset['Destination IP'] = train_dataset[' Destination IP'].apply(ip_to_numeric)\n",
    "\n",
    "# 상관분석으로 선택된 특성들만 사용\n",
    "selected_features = [\n",
    "    ' ACK Flag Count',\n",
    "    ' Active Max',\n",
    "    ' Active Min',\n",
    "    ' Active Std',\n",
    "    ' Average Packet Size',\n",
    "    ' Avg Bwd Segment Size',\n",
    "    ' Avg Fwd Segment Size',\n",
    "    ' Bwd Header Length',\n",
    "    ' Bwd IAT Max',\n",
    "    ' Bwd IAT Mean',\n",
    "    ' Bwd Packet Length Mean',\n",
    "    ' Bwd Packet Length Std',\n",
    "    ' Bwd Packets/s',\n",
    "    ' Flow Duration',\n",
    "    ' Flow Packets/s',\n",
    "    ' Fwd Header Length',\n",
    "    ' Fwd IAT Mean',\n",
    "    ' Fwd Packet Length Max',\n",
    "    ' Fwd Packet Length Mean',\n",
    "    ' Fwd Packet Length Std',\n",
    "    ' Idle Max',\n",
    "    ' Idle Min',\n",
    "    ' Idle Std',\n",
    "    ' Max Packet Length',\n",
    "    ' Min Packet Length',\n",
    "    ' PSH Flag Count',\n",
    "    ' Packet Length Mean',\n",
    "    ' Packet Length Std',\n",
    "    ' Packet Length Variance',\n",
    "    ' Protocol',\n",
    "    ' SYN Flag Count',\n",
    "    ' Subflow Bwd Bytes',\n",
    "    ' Subflow Bwd Packets',\n",
    "    ' Subflow Fwd Bytes',\n",
    "    ' Total Backward Packets',\n",
    "    ' Total Fwd Packets',\n",
    "    ' Total Length of Bwd Packets',\n",
    "    ' URG Flag Count',\n",
    "    ' act_data_pkt_fwd',\n",
    "    ' min_seg_size_forward',\n",
    "    'Active Mean',\n",
    "    'Bwd IAT Total',\n",
    "    'Bwd Packet Length Max',\n",
    "    'Destination IP',\n",
    "    'Flow Bytes/s',\n",
    "    'Fwd IAT Total',\n",
    "    'Fwd PSH Flags',\n",
    "    'Fwd Packets/s',\n",
    "    'Idle Mean',\n",
    "    'Init_Win_bytes_forward',\n",
    "    'Subflow Fwd Packets',\n",
    "    'Total Length of Fwd Packets'\n",
    "]\n",
    "\n",
    "# 선택된 특성만 포함하는 데이터프레임 생성\n",
    "X_selected = train_dataset[selected_features]\n",
    "\n",
    "# 데이터 스케일링\n",
    "scaler = MinMaxScaler()\n",
    "scaler.fit(train_dataset[selected_features])  # 스케일러 학습\n",
    "X_scaled = scaler.transform(train_dataset[selected_features])  # 훈련 데이터에 스케일러 적용\n",
    "\n",
    "# 정규화된 특성들을 데이터프레임으로 변환\n",
    "X_normalized = pd.DataFrame(X_scaled, columns=selected_features)\n",
    "\n",
    "# 타깃 변수 데이터로 변환\n",
    "y = np.array(labels)\n",
    "\n",
    "# 결과 출력\n",
    "print(\"정규화된 선택된 특성들의 데이터프레임:\")\n",
    "print(X_normalized.head())"
   ]
  },
  {
   "cell_type": "code",
   "execution_count": 8,
   "id": "4c5069a8",
   "metadata": {},
   "outputs": [
    {
     "name": "stdout",
     "output_type": "stream",
     "text": [
      "8x8 크기의 2차원 행렬:\n",
      "[0.         0.         0.         0.         0.05095721 0.07054795\n",
      " 0.01320908 0.99915187]\n",
      "[0.00000000e+00 0.00000000e+00 7.05479452e-02 0.00000000e+00\n",
      " 1.04913080e-05 7.94301774e-04 1.04829678e-05 9.93128604e-01]\n",
      "[0.         0.00192384 0.01320908 0.         0.         0.\n",
      " 0.         0.0050809 ]\n",
      "[3.29391892e-02 0.00000000e+00 4.29520645e-02 1.40823008e-02\n",
      " 1.98311196e-04 1.00000000e+00 0.00000000e+00 4.79270392e-06]\n",
      "[6.70690812e-05 4.00783933e-06 6.70690812e-05 0.00000000e+00\n",
      " 4.79270392e-06 0.00000000e+00 0.00000000e+00 8.91079304e-01]\n",
      "[0.00000000e+00 0.00000000e+00 7.90362185e-03 3.83092022e-02\n",
      " 1.12435149e-05 0.00000000e+00 0.00000000e+00 5.24146129e-06]\n",
      "[0.00000000e+00 0.00000000e+00 0.00000000e+00 4.00783933e-06\n",
      " 0.00000000e+00 0.00000000e+00 0.00000000e+00 0.00000000e+00]\n",
      "[0. 0. 0. 0. 0. 0. 0. 0.]\n"
     ]
    }
   ],
   "source": [
    "X_padded = np.pad(X_normalized.values, ((0, 0), (0, 12)), mode='constant', constant_values=0)\n",
    "\n",
    "# 선택된 특성을 8x8 크기의 2차원 행렬로 변환\n",
    "num_rows = 8\n",
    "num_columns = 8\n",
    "X_reshaped = X_padded.reshape(-1, num_rows, num_columns)\n",
    "\n",
    "# 결과 출력\n",
    "print(\"8x8 크기의 2차원 행렬:\")\n",
    "for i in range(num_rows):\n",
    "    print(X_reshaped[0][i])  # 첫 번째 샘플에 해당하는 2x3 행렬 출력"
   ]
  },
  {
   "cell_type": "code",
   "execution_count": 11,
   "id": "0c06eab3",
   "metadata": {},
   "outputs": [
    {
     "name": "stdout",
     "output_type": "stream",
     "text": [
      "이미지 변환 및 저장이 완료되었습니다.\n"
     ]
    }
   ],
   "source": [
    "from PIL import Image\n",
    "import os\n",
    "\n",
    "# 이미지를 저장할 폴더를 생성합니다.\n",
    "save_folder = r'C:\\Users\\pc\\Desktop\\CNN\\Correlation\\0.1_threshold\\Train_Image\\\\'\n",
    "os.makedirs(os.path.join(save_folder, \"Benign\"), exist_ok=True)\n",
    "os.makedirs(os.path.join(save_folder, \"Ransomware\"), exist_ok=True)\n",
    "\n",
    "# 이미지 확대 비율 설정\n",
    "resize_factor = 10  # 10배 확대\n",
    "\n",
    "# X_final_reshaped를 이미지로 변환하여 저장합니다.\n",
    "num_samples = X_reshaped.shape[0]\n",
    "for i in range(num_samples):\n",
    "    # 1채널 16비트 PNG 이미지 생성\n",
    "    image_data = X_reshaped[i]\n",
    "    image_data = (image_data * 65535).astype('uint16')  # 16비트로 변환\n",
    "    image = Image.fromarray(image_data, 'I;16')  # 16비트 단일 채널 이미지로 변환\n",
    "\n",
    "    # 이미지 데이터 확대\n",
    "    image_data = np.repeat(image_data, resize_factor, axis=0)  # 행 확대\n",
    "    image_data = np.repeat(image_data, resize_factor, axis=1)  # 열 확대\n",
    "    \n",
    "    # 확대된 데이터를 다시 이미지로 변환\n",
    "    image = Image.fromarray(image_data, 'I;16')  # 16비트 단일 채널 이미지로 변환\n",
    "    \n",
    "    # 이미지의 라벨에 따라서 저장 위치 및 파일명 설정\n",
    "    if i < 160000:\n",
    "        label = \"Benign\"\n",
    "    else:\n",
    "        label = \"Ransomware\"\n",
    "\n",
    "    image_filename = f\"image_{i}.png\"\n",
    "    image_filepath = os.path.join(save_folder, label, image_filename)\n",
    "\n",
    "    # 해당 경로에 이미지가 이미 존재하는 경우 건너뛴다.\n",
    "    if os.path.exists(image_filepath):\n",
    "        continue\n",
    "\n",
    "    image.save(image_filepath)\n",
    "\n",
    "print(\"이미지 변환 및 저장이 완료되었습니다.\")"
   ]
  },
  {
   "cell_type": "code",
   "execution_count": 12,
   "id": "905e9bb8",
   "metadata": {},
   "outputs": [],
   "source": [
    "import os\n",
    "import cv2\n",
    "import numpy as np\n",
    "\n",
    "# 라벨 목록 및 해당 라벨에 대한 정수 값 지정\n",
    "label_mapping = {\n",
    "    \"Benign\": 0,\n",
    "    \"Ransomware\": 1\n",
    "}\n",
    "\n",
    "# 이미지 데이터를 저장한 폴더 경로\n",
    "image_folder = r'C:\\Users\\pc\\Desktop\\CNN\\Correlation\\0.1_threshold\\Train_Image\\\\'\n",
    "X_data = []\n",
    "y_labels = []\n",
    "\n",
    "# 모든 라벨마다 폴더를 순회합니다.\n",
    "for label_str, label_int in label_mapping.items():\n",
    "    folder_path = os.path.join(image_folder, label_str)  # 해당 라벨의 폴더 경로\n",
    "    \n",
    "    # 해당 폴더 내의 모든 이미지 파일을 순차적으로 처리\n",
    "    for filename in os.listdir(folder_path):\n",
    "        image_path = os.path.join(folder_path, filename)\n",
    "        \n",
    "        # 16-bit 이미지 로딩\n",
    "        image = cv2.imread(image_path, cv2.IMREAD_UNCHANGED)\n",
    "        \n",
    "        if image is None:  # 이미지 로딩 실패\n",
    "            print(f\"Failed to load image at path: {image_path}\")\n",
    "            continue\n",
    "        \n",
    "        X_data.append(image)\n",
    "        y_labels.append(label_int)\n",
    "\n",
    "X_data = np.array(X_data, dtype=np.uint16)  # uint16 형태로 이미지 데이터 저장\n",
    "y_labels = np.array(y_labels)"
   ]
  },
  {
   "cell_type": "code",
   "execution_count": 13,
   "id": "26962055",
   "metadata": {},
   "outputs": [
    {
     "name": "stdout",
     "output_type": "stream",
     "text": [
      "Label 0 has 160000 samples\n",
      "Label 1 has 160000 samples\n",
      "Showing images for label: Benign\n"
     ]
    },
    {
     "data": {
      "image/png": "[encoded data removed]",
      "text/plain": [
       "<Figure size 1500x300 with 5 Axes>"
      ]
     },
     "metadata": {},
     "output_type": "display_data"
    },
    {
     "name": "stdout",
     "output_type": "stream",
     "text": [
      "Showing images for label: Ransomware\n"
     ]
    },
    {
     "data": {
      "image/png": "[encoded data removed]",
      "text/plain": [
       "<Figure size 1500x300 with 5 Axes>"
      ]
     },
     "metadata": {},
     "output_type": "display_data"
    }
   ],
   "source": [
    "import numpy as np\n",
    "from collections import Counter\n",
    "import matplotlib.pyplot as plt\n",
    "\n",
    "# 라벨의 분포를 확인합니다.\n",
    "label_counts = Counter(y_labels)\n",
    "for label, count in label_counts.items():\n",
    "    print(f\"Label {label} has {count} samples\")\n",
    "\n",
    "# 라벨별로 이미지 몇 개를 시각화합니다.\n",
    "num_images_to_show = 5  # 시각화할 이미지의 수를 설정합니다.\n",
    "\n",
    "for label in label_mapping:\n",
    "    print(f\"Showing images for label: {label}\")\n",
    "    indices = [i for i, l in enumerate(y_labels) if l == label_mapping[label]]\n",
    "    fig, axes = plt.subplots(1, num_images_to_show, figsize=(15, 3))\n",
    "    for ax, idx in zip(axes, indices[:num_images_to_show]):\n",
    "        ax.imshow(X_data[idx], cmap='gray')  # 16비트 이미지이므로 cmap='gray'를 사용합니다.\n",
    "        ax.axis('off')\n",
    "    plt.show()"
   ]
  },
  {
   "cell_type": "code",
   "execution_count": 14,
   "id": "d4a2184a",
   "metadata": {},
   "outputs": [
    {
     "name": "stdout",
     "output_type": "stream",
     "text": [
      "validation_benign_subset의 샘플 개수: 20000\n"
     ]
    }
   ],
   "source": [
    "# train_benign_subset에 포함되지 않은 데이터 선택\n",
    "validation_data_candidate = benign_data.drop(train_benign_subset.index)\n",
    "\n",
    "# 선택된 데이터 중에서 20,000개를 무작위로 선택\n",
    "num_samples_validation = 20000\n",
    "if len(validation_data_candidate) > num_samples_validation:\n",
    "    validation_benign_subset = validation_data_candidate.sample(n=num_samples_validation, random_state=42)\n",
    "else:\n",
    "    validation_benign_subset = validation_data_candidate.copy()\n",
    "\n",
    "print(\"validation_benign_subset의 샘플 개수:\", len(validation_benign_subset))"
   ]
  },
  {
   "cell_type": "code",
   "execution_count": 15,
   "id": "75f667e4",
   "metadata": {},
   "outputs": [
    {
     "name": "stdout",
     "output_type": "stream",
     "text": [
      "validation_ransomware_subset의 샘플 개수: 20000\n"
     ]
    }
   ],
   "source": [
    "# train_ransomware_subset에 포함되지 않은 랜섬웨어 데이터 선택\n",
    "validation_ransomware_candidate = all_ransomware_data.drop(train_ransomware_subset.index)\n",
    "\n",
    "# 선택된 데이터 중에서 20,000개를 무작위로 선택\n",
    "num_samples_validation_ransomware = 20000\n",
    "if len(validation_ransomware_candidate) > num_samples_validation_ransomware:\n",
    "    validation_ransomware_subset = validation_ransomware_candidate.sample(n=num_samples_validation_ransomware, random_state=42)\n",
    "else:\n",
    "    validation_ransomware_subset = validation_ransomware_candidate.copy()\n",
    "\n",
    "print(\"validation_ransomware_subset의 샘플 개수:\", len(validation_ransomware_subset))"
   ]
  },
  {
   "cell_type": "code",
   "execution_count": 16,
   "id": "56afb32a",
   "metadata": {},
   "outputs": [
    {
     "name": "stdout",
     "output_type": "stream",
     "text": [
      "최종 validation 데이터세트의 샘플 개수: 40000\n"
     ]
    }
   ],
   "source": [
    "# 'Benign' 클래스와 랜섬웨어 클래스의 데이터프레임들을 합치기\n",
    "validation_dataset = pd.concat([validation_benign_subset, validation_ransomware_subset], ignore_index=True)\n",
    "\n",
    "print(\"최종 validation 데이터세트의 샘플 개수:\", len(validation_dataset))"
   ]
  },
  {
   "cell_type": "code",
   "execution_count": 17,
   "id": "4c90b736",
   "metadata": {},
   "outputs": [
    {
     "name": "stdout",
     "output_type": "stream",
     "text": [
      "정규화된 선택된 특성들의 데이터프레임:\n",
      "    ACK Flag Count   Active Max   Active Min   Active Std  \\\n",
      "0              0.0          0.0          0.0          0.0   \n",
      "1              0.0          0.0          0.0          0.0   \n",
      "2              1.0          0.0          0.0          0.0   \n",
      "3              0.0          0.0          0.0          0.0   \n",
      "4              0.0          0.0          0.0          0.0   \n",
      "\n",
      "    Average Packet Size   Avg Bwd Segment Size   Avg Fwd Segment Size  \\\n",
      "0              0.240616               0.339937               0.117127   \n",
      "1              0.000000               0.000000               0.000000   \n",
      "2              0.000000               0.000000               0.000000   \n",
      "3              0.096284               0.168493               0.016257   \n",
      "4              0.000000               0.000000               0.000000   \n",
      "\n",
      "    Bwd Header Length   Bwd IAT Max   Bwd IAT Mean  ...  \\\n",
      "0            0.999152      0.002952       0.001564  ...   \n",
      "1            0.999152      0.000000       0.000000  ...   \n",
      "2            0.999152      0.000000       0.000000  ...   \n",
      "3            0.999152      0.000000       0.000000  ...   \n",
      "4            0.999152      0.000000       0.000000  ...   \n",
      "\n",
      "   Bwd Packet Length Max  Destination IP  Flow Bytes/s  Fwd IAT Total  \\\n",
      "0               0.098297        0.406738      0.000034       0.018759   \n",
      "1               0.000000        0.408328      0.000000       0.159377   \n",
      "2               0.000000        0.038309      0.000000       0.000000   \n",
      "3               0.018877        0.038309      0.000036       0.000000   \n",
      "4               0.000000        0.029844      0.000000       0.712512   \n",
      "\n",
      "   Fwd PSH Flags  Fwd Packets/s  Idle Mean  Init_Win_bytes_forward  \\\n",
      "0            0.0   2.439043e-06   0.000000                1.000000   \n",
      "1            0.0   7.423815e-08   0.000000                1.000000   \n",
      "2            0.0   2.317992e-04   0.000000                0.005463   \n",
      "3            0.0   8.143642e-06   0.000000                0.000000   \n",
      "4            0.0   7.503029e-09   0.713734                0.000000   \n",
      "\n",
      "   Subflow Fwd Packets  Total Length of Fwd Packets  \n",
      "0             0.001485                     0.000391  \n",
      "1             0.000297                     0.000000  \n",
      "2             0.000000                     0.000000  \n",
      "3             0.000000                     0.000005  \n",
      "4             0.000149                     0.000000  \n",
      "\n",
      "[5 rows x 52 columns]\n"
     ]
    }
   ],
   "source": [
    "from sklearn.preprocessing import MinMaxScaler\n",
    "from sklearn.impute import SimpleImputer\n",
    "\n",
    "# IP 주소를 수치형 데이터로 변환하는 함수\n",
    "def ip_to_numeric(ip):\n",
    "    if not isinstance(ip, str):\n",
    "        return np.nan\n",
    "    return sum(int(octet) * 256 ** (3 - index) for index, octet in enumerate(ip.split('.')))\n",
    "\n",
    "# Apply the ip_to_numeric function to the 'Destination IP' column\n",
    "validation_dataset['Destination IP'] = validation_dataset[' Destination IP'].apply(ip_to_numeric)\n",
    "\n",
    "# 상관분석으로 선택된 특성들만 사용\n",
    "selected_features = [\n",
    "    ' ACK Flag Count',\n",
    "    ' Active Max',\n",
    "    ' Active Min',\n",
    "    ' Active Std',\n",
    "    ' Average Packet Size',\n",
    "    ' Avg Bwd Segment Size',\n",
    "    ' Avg Fwd Segment Size',\n",
    "    ' Bwd Header Length',\n",
    "    ' Bwd IAT Max',\n",
    "    ' Bwd IAT Mean',\n",
    "    ' Bwd Packet Length Mean',\n",
    "    ' Bwd Packet Length Std',\n",
    "    ' Bwd Packets/s',\n",
    "    ' Flow Duration',\n",
    "    ' Flow Packets/s',\n",
    "    ' Fwd Header Length',\n",
    "    ' Fwd IAT Mean',\n",
    "    ' Fwd Packet Length Max',\n",
    "    ' Fwd Packet Length Mean',\n",
    "    ' Fwd Packet Length Std',\n",
    "    ' Idle Max',\n",
    "    ' Idle Min',\n",
    "    ' Idle Std',\n",
    "    ' Max Packet Length',\n",
    "    ' Min Packet Length',\n",
    "    ' PSH Flag Count',\n",
    "    ' Packet Length Mean',\n",
    "    ' Packet Length Std',\n",
    "    ' Packet Length Variance',\n",
    "    ' Protocol',\n",
    "    ' SYN Flag Count',\n",
    "    ' Subflow Bwd Bytes',\n",
    "    ' Subflow Bwd Packets',\n",
    "    ' Subflow Fwd Bytes',\n",
    "    ' Total Backward Packets',\n",
    "    ' Total Fwd Packets',\n",
    "    ' Total Length of Bwd Packets',\n",
    "    ' URG Flag Count',\n",
    "    ' act_data_pkt_fwd',\n",
    "    ' min_seg_size_forward',\n",
    "    'Active Mean',\n",
    "    'Bwd IAT Total',\n",
    "    'Bwd Packet Length Max',\n",
    "    'Destination IP',\n",
    "    'Flow Bytes/s',\n",
    "    'Fwd IAT Total',\n",
    "    'Fwd PSH Flags',\n",
    "    'Fwd Packets/s',\n",
    "    'Idle Mean',\n",
    "    'Init_Win_bytes_forward',\n",
    "    'Subflow Fwd Packets',\n",
    "    'Total Length of Fwd Packets'\n",
    "]\n",
    "\n",
    "# 선택된 특성만 포함하는 데이터프레임 생성\n",
    "val_X_selected = validation_dataset[selected_features]\n",
    "\n",
    "# 앞서 훈련 데이터에 대해 학습한 MinMaxScaler 인스턴스를 사용하여 검증 데이터를 변환\n",
    "val_X_scaled = scaler.transform(val_X_selected)\n",
    "\n",
    "# 정규화된 특성들을 데이터프레임으로 변환\n",
    "val_X_normalized = pd.DataFrame(val_X_scaled, columns=selected_features)\n",
    "\n",
    "# 타깃 변수 데이터로 변환\n",
    "y = np.array(labels)\n",
    "\n",
    "# 결과 출력\n",
    "print(\"정규화된 선택된 특성들의 데이터프레임:\")\n",
    "print(val_X_normalized.head())"
   ]
  },
  {
   "cell_type": "code",
   "execution_count": 18,
   "id": "cad176cd",
   "metadata": {},
   "outputs": [
    {
     "name": "stdout",
     "output_type": "stream",
     "text": [
      "8x8 크기의 2차원 행렬:\n",
      "[0.         0.         0.         0.         0.24061562 0.33993678\n",
      " 0.11712666 0.99915187]\n",
      "[2.95166070e-03 1.56433109e-03 3.39936776e-01 5.43821623e-01\n",
      " 5.77492112e-06 1.87593086e-02 5.32235618e-06 9.93128606e-01]\n",
      "[0.00187749 0.03413575 0.11712666 0.08024021 0.         0.\n",
      " 0.         0.06319061]\n",
      "[0.00000000e+00 1.00000000e+00 2.92055055e-01 1.90308719e-01\n",
      " 3.62174087e-02 3.52941176e-01 0.00000000e+00 3.00218696e-04]\n",
      "[8.71898055e-04 3.90918483e-04 8.71898055e-04 1.48500149e-03\n",
      " 3.00218696e-04 0.00000000e+00 8.91000891e-04 8.91079311e-01]\n",
      "[0.00000000e+00 1.85300339e-02 9.82965009e-02 4.06737996e-01\n",
      " 3.43846682e-05 1.87593336e-02 0.00000000e+00 2.43904316e-06]\n",
      "[0.00000000e+00 1.00000000e+00 1.48500149e-03 3.90918483e-04\n",
      " 0.00000000e+00 0.00000000e+00 0.00000000e+00 0.00000000e+00]\n",
      "[0. 0. 0. 0. 0. 0. 0. 0.]\n"
     ]
    }
   ],
   "source": [
    "X_val_padded = np.pad(val_X_normalized.values, ((0, 0), (0, 12)), mode='constant', constant_values=0)\n",
    "\n",
    "# 선택된 특성을 8x8 크기의 2차원 행렬로 변환\n",
    "num_rows = 8\n",
    "num_columns = 8\n",
    "X_val_reshaped = X_val_padded.reshape(-1, num_rows, num_columns)\n",
    "\n",
    "# 결과 출력\n",
    "print(\"8x8 크기의 2차원 행렬:\")\n",
    "for i in range(num_rows):\n",
    "    print(X_val_reshaped[0][i])  # 첫 번째 샘플에 해당하는 2x3 행렬 출력"
   ]
  },
  {
   "cell_type": "code",
   "execution_count": 19,
   "id": "71c6bb27",
   "metadata": {},
   "outputs": [
    {
     "name": "stdout",
     "output_type": "stream",
     "text": [
      "이미지 변환 및 저장이 완료되었습니다.\n"
     ]
    }
   ],
   "source": [
    "from PIL import Image\n",
    "import os\n",
    "\n",
    "# 이미지를 저장할 폴더를 생성합니다.\n",
    "save_folder = r'C:\\Users\\pc\\Desktop\\CNN\\Correlation\\0.1_threshold\\Validation_Image\\\\'\n",
    "os.makedirs(os.path.join(save_folder, \"Benign\"), exist_ok=True)\n",
    "os.makedirs(os.path.join(save_folder, \"Ransomware\"), exist_ok=True)\n",
    "\n",
    "# 이미지 확대 비율 설정\n",
    "resize_factor = 10  # 10배 확대\n",
    "\n",
    "# X_final_reshaped를 이미지로 변환하여 저장합니다.\n",
    "num_samples = X_val_reshaped.shape[0]\n",
    "for i in range(num_samples):\n",
    "    # 1채널 16비트 PNG 이미지 생성\n",
    "    image_data = X_val_reshaped[i]\n",
    "    image_data = (image_data * 65535).astype('uint16')  # 16비트로 변환\n",
    "    image = Image.fromarray(image_data, 'I;16')  # 16비트 단일 채널 이미지로 변환\n",
    "\n",
    "    # 이미지 데이터 확대\n",
    "    image_data = np.repeat(image_data, resize_factor, axis=0)  # 행 확대\n",
    "    image_data = np.repeat(image_data, resize_factor, axis=1)  # 열 확대\n",
    "    \n",
    "    # 확대된 데이터를 다시 이미지로 변환\n",
    "    image = Image.fromarray(image_data, 'I;16')  # 16비트 단일 채널 이미지로 변환\n",
    "    \n",
    "    # 이미지의 라벨에 따라서 저장 위치 및 파일명 설정\n",
    "    if i < 20000:\n",
    "        label = \"Benign\"\n",
    "    else:\n",
    "        label = \"Ransomware\"\n",
    "\n",
    "    image_filename = f\"image_{i}.png\"\n",
    "    image_filepath = os.path.join(save_folder, label, image_filename)\n",
    "\n",
    "    # 해당 경로에 이미지가 이미 존재하는 경우 건너뛴다.\n",
    "    if os.path.exists(image_filepath):\n",
    "        continue\n",
    "\n",
    "    image.save(image_filepath)\n",
    "\n",
    "print(\"이미지 변환 및 저장이 완료되었습니다.\")"
   ]
  },
  {
   "cell_type": "code",
   "execution_count": 20,
   "id": "cf16362e",
   "metadata": {},
   "outputs": [],
   "source": [
    "import os\n",
    "import cv2\n",
    "import numpy as np\n",
    "\n",
    "# 라벨 목록 및 해당 라벨에 대한 정수 값 지정\n",
    "label_mapping = {\n",
    "    \"Benign\": 0,\n",
    "    \"Ransomware\": 1\n",
    "}\n",
    "\n",
    "# 이미지 데이터를 저장한 폴더 경로\n",
    "image_folder = r'C:\\Users\\pc\\Desktop\\CNN\\Correlation\\0.1_threshold\\Validation_Image\\\\'  # Modified path to \"Validation_Image\"\n",
    "\n",
    "X_val_data = []  # Changed variable name to X_val_data for clarity\n",
    "y_val_labels = []  # Changed variable name to y_val_labels for clarity\n",
    "\n",
    "# 모든 라벨마다 폴더를 순회합니다.\n",
    "for label_str, label_int in label_mapping.items():\n",
    "    folder_path = os.path.join(image_folder, label_str)  # 해당 라벨의 폴더 경로\n",
    "    \n",
    "    # 해당 폴더 내의 모든 이미지 파일을 순차적으로 처리\n",
    "    for filename in os.listdir(folder_path):\n",
    "        image_path = os.path.join(folder_path, filename)\n",
    "        \n",
    "        # 16-bit 이미지 로딩\n",
    "        image = cv2.imread(image_path, cv2.IMREAD_UNCHANGED)\n",
    "        \n",
    "        if image is None:  # 이미지 로딩 실패\n",
    "            print(f\"Failed to load image at path: {image_path}\")\n",
    "            continue\n",
    "        \n",
    "        X_val_data.append(image)  # Changed variable name\n",
    "        y_val_labels.append(label_int)  # Changed variable name\n",
    "\n",
    "X_val_data = np.array(X_val_data, dtype=np.uint16)  # uint16 형태로 이미지 데이터 저장, changed variable name\n",
    "y_val_labels = np.array(y_val_labels)  # Changed variable name"
   ]
  },
  {
   "cell_type": "code",
   "execution_count": 21,
   "id": "271bc802",
   "metadata": {},
   "outputs": [
    {
     "name": "stdout",
     "output_type": "stream",
     "text": [
      "Label 0 has 160000 samples\n",
      "Label 1 has 160000 samples\n",
      "Showing images for label: Benign\n"
     ]
    },
    {
     "data": {
      "image/png": "[encoded data removed]",
      "text/plain": [
       "<Figure size 1500x300 with 5 Axes>"
      ]
     },
     "metadata": {},
     "output_type": "display_data"
    },
    {
     "name": "stdout",
     "output_type": "stream",
     "text": [
      "Showing images for label: Ransomware\n"
     ]
    },
    {
     "data": {
      "image/png": "[encoded data removed]",
      "text/plain": [
       "<Figure size 1500x300 with 5 Axes>"
      ]
     },
     "metadata": {},
     "output_type": "display_data"
    }
   ],
   "source": [
    "import numpy as np\n",
    "from collections import Counter\n",
    "import matplotlib.pyplot as plt\n",
    "\n",
    "# 라벨의 분포를 확인합니다.\n",
    "label_counts = Counter(y_labels)\n",
    "for label, count in label_counts.items():\n",
    "    print(f\"Label {label} has {count} samples\")\n",
    "\n",
    "# 라벨별로 이미지 몇 개를 시각화합니다.\n",
    "num_images_to_show = 5  # 시각화할 이미지의 수를 설정합니다.\n",
    "\n",
    "for label in label_mapping:\n",
    "    print(f\"Showing images for label: {label}\")\n",
    "    indices = [i for i, l in enumerate(y_val_labels) if l == label_mapping[label]]\n",
    "    fig, axes = plt.subplots(1, num_images_to_show, figsize=(15, 3))\n",
    "    for ax, idx in zip(axes, indices[:num_images_to_show]):\n",
    "        ax.imshow(X_val_data[idx], cmap='gray')  # 16비트 이미지이므로 cmap='gray'를 사용합니다.\n",
    "        ax.axis('off')\n",
    "    plt.show()"
   ]
  },
  {
   "cell_type": "code",
   "execution_count": 22,
   "id": "254fcce2",
   "metadata": {},
   "outputs": [
    {
     "name": "stdout",
     "output_type": "stream",
     "text": [
      "test_benign_subset의 샘플 개수: 20000\n"
     ]
    }
   ],
   "source": [
    "# train_benign_subset 및 validation_benign_subset에 포함되지 않은 데이터 선택\n",
    "test_data_candidate = benign_data.drop(train_benign_subset.index).drop(validation_benign_subset.index)\n",
    "\n",
    "# 선택된 데이터 중에서 20,000개를 무작위로 선택\n",
    "num_samples_test = 20000\n",
    "if len(test_data_candidate) > num_samples_test:\n",
    "    test_benign_subset = test_data_candidate.sample(n=num_samples_test, random_state=42)\n",
    "else:\n",
    "    test_benign_subset = test_data_candidate.copy()\n",
    "\n",
    "print(\"test_benign_subset의 샘플 개수:\", len(test_benign_subset))"
   ]
  },
  {
   "cell_type": "code",
   "execution_count": 23,
   "id": "5dcd9759",
   "metadata": {},
   "outputs": [
    {
     "name": "stdout",
     "output_type": "stream",
     "text": [
      "test_ransomware_subset의 샘플 개수: 20000\n"
     ]
    }
   ],
   "source": [
    "# validation_ransomware_subset에 포함되지 않은 랜섬웨어 데이터 선택\n",
    "test_ransomware_candidate = validation_ransomware_candidate.drop(validation_ransomware_subset.index)\n",
    "\n",
    "# 선택된 데이터 중에서 20,000개를 무작위로 선택\n",
    "num_samples_test_ransomware = 20000\n",
    "if len(test_ransomware_candidate) > num_samples_test_ransomware:\n",
    "    test_ransomware_subset = test_ransomware_candidate.sample(n=num_samples_test_ransomware, random_state=42)\n",
    "else:\n",
    "    test_ransomware_subset = test_ransomware_candidate.copy()\n",
    "\n",
    "print(\"test_ransomware_subset의 샘플 개수:\", len(test_ransomware_subset))"
   ]
  },
  {
   "cell_type": "code",
   "execution_count": 24,
   "id": "3518f826",
   "metadata": {},
   "outputs": [
    {
     "name": "stdout",
     "output_type": "stream",
     "text": [
      "최종 test 데이터세트의 샘플 개수: 40000\n"
     ]
    }
   ],
   "source": [
    "# 'Benign' 클래스와 랜섬웨어 클래스의 데이터프레임들을 합치기\n",
    "test_dataset = pd.concat([test_benign_subset, test_ransomware_subset], ignore_index=True)\n",
    "\n",
    "print(\"최종 test 데이터세트의 샘플 개수:\", len(test_dataset))"
   ]
  },
  {
   "cell_type": "code",
   "execution_count": 25,
   "id": "90a2b41e",
   "metadata": {},
   "outputs": [
    {
     "name": "stdout",
     "output_type": "stream",
     "text": [
      "정규화된 선택된 특성들의 데이터프레임:\n",
      "    ACK Flag Count   Active Max   Active Min   Active Std  \\\n",
      "0              0.0          0.0          0.0          0.0   \n",
      "1              0.0          0.0          0.0          0.0   \n",
      "2              0.0          0.0          0.0          0.0   \n",
      "3              0.0          0.0          0.0          0.0   \n",
      "4              0.0          0.0          0.0          0.0   \n",
      "\n",
      "    Average Packet Size   Avg Bwd Segment Size   Avg Fwd Segment Size  \\\n",
      "0              0.196767               0.341324               0.067936   \n",
      "1              0.169388               0.434075               0.011685   \n",
      "2              0.089527               0.165753               0.012870   \n",
      "3              0.331300               0.394178               0.147586   \n",
      "4              0.000000               0.000000               0.000000   \n",
      "\n",
      "    Bwd Header Length   Bwd IAT Max   Bwd IAT Mean  ...  \\\n",
      "0            0.999152      0.019286       0.001952  ...   \n",
      "1            0.999152      0.000537       0.000146  ...   \n",
      "2            0.999152      0.000000       0.000000  ...   \n",
      "3            0.999152      0.001750       0.000399  ...   \n",
      "4            0.999152      0.000000       0.000000  ...   \n",
      "\n",
      "   Bwd Packet Length Max  Destination IP  Flow Bytes/s  Fwd IAT Total  \\\n",
      "0               0.111111        0.678711      0.000025       0.021405   \n",
      "1               0.112032        0.280540      0.000004       0.087383   \n",
      "2               0.018570        0.038309      0.002034       0.000000   \n",
      "3               0.103591        0.674715      0.000140       0.004156   \n",
      "4               0.000000        0.409273      0.000000       0.084303   \n",
      "\n",
      "   Fwd PSH Flags  Fwd Packets/s  Idle Mean  Init_Win_bytes_forward  \\\n",
      "0            0.0   2.331734e-06        0.0                     1.0   \n",
      "1            0.0   4.726365e-07        0.0                     1.0   \n",
      "2            0.0   4.812278e-04        0.0                     0.0   \n",
      "3            0.0   8.015938e-06        0.0                     0.0   \n",
      "4            0.0   1.440821e-07        0.0                     1.0   \n",
      "\n",
      "   Subflow Fwd Packets  Total Length of Fwd Packets  \n",
      "0             0.001634                     0.000247  \n",
      "1             0.001337                     0.000035  \n",
      "2             0.000000                     0.000004  \n",
      "3             0.001040                     0.000358  \n",
      "4             0.000297                     0.000000  \n",
      "\n",
      "[5 rows x 52 columns]\n"
     ]
    }
   ],
   "source": [
    "from sklearn.preprocessing import MinMaxScaler\n",
    "from sklearn.impute import SimpleImputer\n",
    "\n",
    "# IP 주소를 수치형 데이터로 변환하는 함수\n",
    "def ip_to_numeric(ip):\n",
    "    if not isinstance(ip, str):\n",
    "        return np.nan\n",
    "    return sum(int(octet) * 256 ** (3 - index) for index, octet in enumerate(ip.split('.')))\n",
    "\n",
    "# Apply the ip_to_numeric function to the 'Destination IP' column\n",
    "test_dataset['Destination IP'] = test_dataset[' Destination IP'].apply(ip_to_numeric)\n",
    "\n",
    "# 상관분석으로 선택된 특성들만 사용\n",
    "selected_features = [\n",
    "    ' ACK Flag Count',\n",
    "    ' Active Max',\n",
    "    ' Active Min',\n",
    "    ' Active Std',\n",
    "    ' Average Packet Size',\n",
    "    ' Avg Bwd Segment Size',\n",
    "    ' Avg Fwd Segment Size',\n",
    "    ' Bwd Header Length',\n",
    "    ' Bwd IAT Max',\n",
    "    ' Bwd IAT Mean',\n",
    "    ' Bwd Packet Length Mean',\n",
    "    ' Bwd Packet Length Std',\n",
    "    ' Bwd Packets/s',\n",
    "    ' Flow Duration',\n",
    "    ' Flow Packets/s',\n",
    "    ' Fwd Header Length',\n",
    "    ' Fwd IAT Mean',\n",
    "    ' Fwd Packet Length Max',\n",
    "    ' Fwd Packet Length Mean',\n",
    "    ' Fwd Packet Length Std',\n",
    "    ' Idle Max',\n",
    "    ' Idle Min',\n",
    "    ' Idle Std',\n",
    "    ' Max Packet Length',\n",
    "    ' Min Packet Length',\n",
    "    ' PSH Flag Count',\n",
    "    ' Packet Length Mean',\n",
    "    ' Packet Length Std',\n",
    "    ' Packet Length Variance',\n",
    "    ' Protocol',\n",
    "    ' SYN Flag Count',\n",
    "    ' Subflow Bwd Bytes',\n",
    "    ' Subflow Bwd Packets',\n",
    "    ' Subflow Fwd Bytes',\n",
    "    ' Total Backward Packets',\n",
    "    ' Total Fwd Packets',\n",
    "    ' Total Length of Bwd Packets',\n",
    "    ' URG Flag Count',\n",
    "    ' act_data_pkt_fwd',\n",
    "    ' min_seg_size_forward',\n",
    "    'Active Mean',\n",
    "    'Bwd IAT Total',\n",
    "    'Bwd Packet Length Max',\n",
    "    'Destination IP',\n",
    "    'Flow Bytes/s',\n",
    "    'Fwd IAT Total',\n",
    "    'Fwd PSH Flags',\n",
    "    'Fwd Packets/s',\n",
    "    'Idle Mean',\n",
    "    'Init_Win_bytes_forward',\n",
    "    'Subflow Fwd Packets',\n",
    "    'Total Length of Fwd Packets'\n",
    "]\n",
    "\n",
    "# 선택된 특성만 포함하는 데이터프레임 생성\n",
    "test_X_selected = test_dataset[selected_features]\n",
    "\n",
    "# 앞서 훈련 데이터에 대해 학습한 MinMaxScaler 인스턴스를 사용하여 테스트 데이터를 변환\n",
    "test_X_scaled = scaler.transform(test_X_selected)\n",
    "\n",
    "# 정규화된 특성들을 데이터프레임으로 변환\n",
    "test_X_normalized = pd.DataFrame(test_X_scaled, columns=selected_features)\n",
    "\n",
    "# 타깃 변수 데이터로 변환\n",
    "y = np.array(labels)\n",
    "\n",
    "# 결과 출력\n",
    "print(\"정규화된 선택된 특성들의 데이터프레임:\")\n",
    "print(test_X_normalized.head())"
   ]
  },
  {
   "cell_type": "code",
   "execution_count": 26,
   "id": "f9d62f27",
   "metadata": {},
   "outputs": [
    {
     "name": "stdout",
     "output_type": "stream",
     "text": [
      "8x8 크기의 2차원 행렬:\n",
      "[0.         0.         0.         0.         0.19676708 0.3413242\n",
      " 0.06793644 0.99915187]\n",
      "[1.92861777e-02 1.95151643e-03 3.41324201e-01 5.26239224e-01\n",
      " 4.67185294e-06 2.14048228e-02 4.66351271e-06 9.93128606e-01]\n",
      "[0.00194751 0.05880032 0.06793644 0.09661768 0.         0.\n",
      " 0.         0.07142857]\n",
      "[0.00000000e+00 1.00000000e+00 2.38832463e-01 1.95916596e-01\n",
      " 3.83833126e-02 3.52941176e-01 0.00000000e+00 2.78256014e-04]\n",
      "[8.04828974e-04 2.47355622e-04 8.04828974e-04 1.63350163e-03\n",
      " 2.78256014e-04 0.00000000e+00 5.94000594e-04 8.91079311e-01]\n",
      "[0.00000000e+00 2.11900113e-02 1.11111111e-01 6.78711428e-01\n",
      " 2.46432897e-05 2.14048502e-02 0.00000000e+00 2.33173377e-06]\n",
      "[0.00000000e+00 1.00000000e+00 1.63350163e-03 2.47355622e-04\n",
      " 0.00000000e+00 0.00000000e+00 0.00000000e+00 0.00000000e+00]\n",
      "[0. 0. 0. 0. 0. 0. 0. 0.]\n"
     ]
    }
   ],
   "source": [
    "X_test_padded = np.pad(test_X_normalized.values, ((0, 0), (0, 12)), mode='constant', constant_values=0)\n",
    "\n",
    "# 선택된 특성을 8x8 크기의 2차원 행렬로 변환\n",
    "num_rows = 8\n",
    "num_columns = 8\n",
    "X_test_reshaped = X_test_padded.reshape(-1, num_rows, num_columns)\n",
    "\n",
    "# 결과 출력\n",
    "print(\"8x8 크기의 2차원 행렬:\")\n",
    "for i in range(num_rows):\n",
    "    print(X_test_reshaped[0][i])  # 첫 번째 샘플에 해당하는 2x3 행렬 출력"
   ]
  },
  {
   "cell_type": "code",
   "execution_count": 27,
   "id": "2392c134",
   "metadata": {},
   "outputs": [
    {
     "name": "stdout",
     "output_type": "stream",
     "text": [
      "이미지 변환 및 저장이 완료되었습니다.\n"
     ]
    }
   ],
   "source": [
    "from PIL import Image\n",
    "import os\n",
    "\n",
    "# 이미지를 저장할 폴더를 생성합니다.\n",
    "save_folder = r'C:\\Users\\pc\\Desktop\\CNN\\Correlation\\0.1_threshold\\Test_Image\\\\'\n",
    "os.makedirs(os.path.join(save_folder, \"Benign\"), exist_ok=True)\n",
    "os.makedirs(os.path.join(save_folder, \"Ransomware\"), exist_ok=True)\n",
    "\n",
    "# 이미지 확대 비율 설정\n",
    "resize_factor = 10  # 10배 확대\n",
    "\n",
    "# X_final_reshaped를 이미지로 변환하여 저장합니다.\n",
    "num_samples = X_test_reshaped.shape[0]\n",
    "for i in range(num_samples):\n",
    "    # 1채널 16비트 PNG 이미지 생성\n",
    "    image_data = X_test_reshaped[i]\n",
    "    image_data = (image_data * 65535).astype('uint16')  # 16비트로 변환\n",
    "    image = Image.fromarray(image_data, 'I;16')  # 16비트 단일 채널 이미지로 변환\n",
    "\n",
    "    # 이미지 데이터 확대\n",
    "    image_data = np.repeat(image_data, resize_factor, axis=0)  # 행 확대\n",
    "    image_data = np.repeat(image_data, resize_factor, axis=1)  # 열 확대\n",
    "    \n",
    "    # 확대된 데이터를 다시 이미지로 변환\n",
    "    image = Image.fromarray(image_data, 'I;16')  # 16비트 단일 채널 이미지로 변환\n",
    "    \n",
    "    # 이미지의 라벨에 따라서 저장 위치 및 파일명 설정\n",
    "    if i < 20000:\n",
    "        label = \"Benign\"\n",
    "    else:\n",
    "        label = \"Ransomware\"\n",
    "\n",
    "    image_filename = f\"image_{i}.png\"\n",
    "    image_filepath = os.path.join(save_folder, label, image_filename)\n",
    "\n",
    "    # 해당 경로에 이미지가 이미 존재하는 경우 건너뛴다.\n",
    "    if os.path.exists(image_filepath):\n",
    "        continue\n",
    "\n",
    "    image.save(image_filepath)\n",
    "\n",
    "print(\"이미지 변환 및 저장이 완료되었습니다.\")"
   ]
  },
  {
   "cell_type": "code",
   "execution_count": 28,
   "id": "dd52be1c",
   "metadata": {},
   "outputs": [],
   "source": [
    "import os\n",
    "import cv2\n",
    "import numpy as np\n",
    "\n",
    "# 라벨 목록 및 해당 라벨에 대한 정수 값 지정\n",
    "label_mapping = {\n",
    "    \"Benign\": 0,\n",
    "    \"Ransomware\": 1\n",
    "}\n",
    "\n",
    "# 이미지 데이터를 저장한 폴더 경로\n",
    "image_folder = r'C:\\Users\\pc\\Desktop\\CNN\\Correlation\\0.1_threshold\\Test_Image\\\\'  # Modified path to \"Test_Image\"\n",
    "\n",
    "X_test_data = []  # Changed variable name to X_test_data for clarity\n",
    "y_test_labels = []  # Changed variable name to y_test_labels for clarity\n",
    "\n",
    "# 모든 라벨마다 폴더를 순회합니다.\n",
    "for label_str, label_int in label_mapping.items():\n",
    "    folder_path = os.path.join(image_folder, label_str)  # 해당 라벨의 폴더 경로\n",
    "    \n",
    "    # 해당 폴더 내의 모든 이미지 파일을 순차적으로 처리\n",
    "    for filename in os.listdir(folder_path):\n",
    "        image_path = os.path.join(folder_path, filename)\n",
    "        \n",
    "        # 16-bit 이미지 로딩\n",
    "        image = cv2.imread(image_path, cv2.IMREAD_UNCHANGED)\n",
    "        \n",
    "        if image is None:  # 이미지 로딩 실패\n",
    "            print(f\"Failed to load image at path: {image_path}\")\n",
    "            continue\n",
    "        \n",
    "        X_test_data.append(image)  # Changed variable name\n",
    "        y_test_labels.append(label_int)  # Changed variable name\n",
    "\n",
    "X_test_data = np.array(X_test_data, dtype=np.uint16)  # uint16 형태로 이미지 데이터 저장, changed variable name\n",
    "y_test_labels = np.array(y_test_labels)  # Changed variable name"
   ]
  }
 ],
 "metadata": {
  "kernelspec": {
   "display_name": "Python 3 (ipykernel)",
   "language": "python",
   "name": "python3"
  },
  "language_info": {
   "codemirror_mode": {
    "name": "ipython",
    "version": 3
   },
   "file_extension": ".py",
   "mimetype": "text/x-python",
   "name": "python",
   "nbconvert_exporter": "python",
   "pygments_lexer": "ipython3",
   "version": "3.10.9"
  }
 },
 "nbformat": 4,
 "nbformat_minor": 5
}
