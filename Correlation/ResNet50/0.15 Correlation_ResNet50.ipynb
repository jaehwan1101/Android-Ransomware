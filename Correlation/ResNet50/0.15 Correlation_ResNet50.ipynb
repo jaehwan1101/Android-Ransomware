{
 "cells": [
  {
   "cell_type": "code",
   "execution_count": 1,
   "id": "d31ee052",
   "metadata": {},
   "outputs": [],
   "source": [
    "import os\n",
    "from tensorflow.keras.preprocessing.image import ImageDataGenerator\n",
    "from tensorflow.keras.applications import ResNet50\n",
    "from tensorflow.keras.applications.resnet50 import preprocess_input\n",
    "from tensorflow.keras.layers import Dense, GlobalAveragePooling2D\n",
    "from tensorflow.keras.models import Model\n",
    "from tensorflow.keras.optimizers import Adam\n",
    "from tensorflow.keras.metrics import AUC\n",
    "import time\n",
    "\n",
    "def image_data_generator(data_folder, img_size=(224, 224), batch_size=32, color_mode='rgb'):\n",
    "    datagen = ImageDataGenerator(preprocessing_function=preprocess_input)\n",
    "    generator = datagen.flow_from_directory(\n",
    "        data_folder,\n",
    "        target_size=img_size,\n",
    "        batch_size=batch_size,\n",
    "        class_mode='binary',\n",
    "        color_mode=color_mode\n",
    "    )\n",
    "    return generator"
   ]
  },
  {
   "cell_type": "code",
   "execution_count": 2,
   "id": "4e015b51",
   "metadata": {},
   "outputs": [],
   "source": [
    "def ResNet50_model(input_shape):\n",
    "    base_model = ResNet50(weights='imagenet', include_top=False, input_shape=input_shape)\n",
    "    for layer in base_model.layers:\n",
    "        layer.trainable = False\n",
    "    x = base_model.output\n",
    "    x = GlobalAveragePooling2D()(x)\n",
    "    x = Dense(1024, activation='relu')(x)\n",
    "    predictions = Dense(1, activation='sigmoid')(x)\n",
    "    model = Model(inputs=base_model.input, outputs=predictions)\n",
    "    model.compile(optimizer=Adam(), loss='binary_crossentropy', metrics=['accuracy', AUC(name='auc')])\n",
    "    return model"
   ]
  },
  {
   "cell_type": "code",
   "execution_count": 3,
   "id": "45922099",
   "metadata": {},
   "outputs": [
    {
     "name": "stdout",
     "output_type": "stream",
     "text": [
      "Found 320000 images belonging to 2 classes.\n",
      "Found 40000 images belonging to 2 classes.\n",
      "Found 40000 images belonging to 2 classes.\n",
      "Epoch 1/10\n",
      "2500/2500 [==============================] - 689s 274ms/step - loss: 0.6963 - accuracy: 0.5528 - auc: 0.5716 - val_loss: 0.6840 - val_accuracy: 0.5565 - val_auc: 0.5893\n",
      "Epoch 2/10\n",
      "2500/2500 [==============================] - 507s 203ms/step - loss: 0.6791 - accuracy: 0.5624 - auc: 0.5909 - val_loss: 0.6742 - val_accuracy: 0.5699 - val_auc: 0.6047\n",
      "Epoch 3/10\n",
      "2500/2500 [==============================] - 511s 204ms/step - loss: 0.6760 - accuracy: 0.5680 - auc: 0.5982 - val_loss: 0.6749 - val_accuracy: 0.5718 - val_auc: 0.6016\n",
      "Epoch 4/10\n",
      "2500/2500 [==============================] - 514s 205ms/step - loss: 0.6722 - accuracy: 0.5730 - auc: 0.6057 - val_loss: 0.6712 - val_accuracy: 0.5693 - val_auc: 0.6149\n",
      "Epoch 5/10\n",
      "2500/2500 [==============================] - 513s 205ms/step - loss: 0.6700 - accuracy: 0.5747 - auc: 0.6094 - val_loss: 0.6696 - val_accuracy: 0.5753 - val_auc: 0.6186\n",
      "Epoch 6/10\n",
      "2500/2500 [==============================] - 513s 205ms/step - loss: 0.6682 - accuracy: 0.5770 - auc: 0.6133 - val_loss: 0.6655 - val_accuracy: 0.5829 - val_auc: 0.6213\n",
      "Epoch 7/10\n",
      "2500/2500 [==============================] - 514s 205ms/step - loss: 0.6670 - accuracy: 0.5793 - auc: 0.6158 - val_loss: 0.6708 - val_accuracy: 0.5686 - val_auc: 0.6147\n",
      "Epoch 8/10\n",
      "2500/2500 [==============================] - 513s 205ms/step - loss: 0.6662 - accuracy: 0.5804 - auc: 0.6177 - val_loss: 0.6657 - val_accuracy: 0.5809 - val_auc: 0.6235\n",
      "Epoch 9/10\n",
      "2500/2500 [==============================] - 514s 205ms/step - loss: 0.6646 - accuracy: 0.5823 - auc: 0.6204 - val_loss: 0.6640 - val_accuracy: 0.5783 - val_auc: 0.6243\n",
      "Epoch 10/10\n",
      "2500/2500 [==============================] - 511s 204ms/step - loss: 0.6640 - accuracy: 0.5824 - auc: 0.6208 - val_loss: 0.6621 - val_accuracy: 0.5878 - val_auc: 0.6280\n",
      "313/313 [==============================] - 74s 236ms/step - loss: 0.6619 - accuracy: 0.5872 - auc: 0.6277\n",
      "Test Loss: 0.6619045734405518\n",
      "Test Accuracy: 0.5871750116348267\n",
      "Test AUC: 0.6276934742927551\n",
      "Test Duration: 74.0559 seconds\n"
     ]
    }
   ],
   "source": [
    "base_path = r'C:\\Users\\pc\\Desktop\\CNN\\Correlation\\0.15_threshold'\n",
    "train_data_folder = os.path.join(base_path, 'Train_Image')\n",
    "val_data_folder = os.path.join(base_path, 'Validation_Image')\n",
    "test_data_folder = os.path.join(base_path, 'Test_Image')\n",
    "\n",
    "# 데이터 제너레이터 생성\n",
    "train_generator = image_data_generator(train_data_folder, batch_size=128)\n",
    "val_generator = image_data_generator(val_data_folder, batch_size=128)\n",
    "test_generator = image_data_generator(test_data_folder, batch_size=128)\n",
    "\n",
    "# 모델 정의\n",
    "# Input shape은 (None, None, None)으로 설정하여 모든 크기의 이미지를 받을 수 있게 합니다.\n",
    "# 실제 이미지 크기는 제너레이터가 알아서 조절합니다.\n",
    "model = ResNet50_model(input_shape=(224, 224, 3))\n",
    "\n",
    "# 배치 크기와 에포크 설정\n",
    "epochs = 10\n",
    "\n",
    "# 모델 훈련\n",
    "history = model.fit(\n",
    "    train_generator,\n",
    "    epochs=epochs,\n",
    "    validation_data=val_generator\n",
    ")\n",
    "\n",
    "# 테스트하기 전에 시간 측정 시작\n",
    "start_time = time.time()\n",
    "\n",
    "# 모델 평가\n",
    "test_loss, test_accuracy, test_auc = model.evaluate(test_generator)\n",
    "\n",
    "# 시간 측정 종료 및 결과 출력\n",
    "end_time = time.time()\n",
    "elapsed_time = end_time - start_time\n",
    "\n",
    "print(\"Test Loss:\", test_loss)\n",
    "print(\"Test Accuracy:\", test_accuracy)\n",
    "print(\"Test AUC:\", test_auc)\n",
    "print(f\"Test Duration: {elapsed_time:.4f} seconds\")"
   ]
  },
  {
   "cell_type": "code",
   "execution_count": 4,
   "id": "db3fb298",
   "metadata": {},
   "outputs": [
    {
     "name": "stdout",
     "output_type": "stream",
     "text": [
      "313/313 [==============================] - 55s 174ms/step\n",
      "Confusion Matrix:\n",
      "[[10363  9637]\n",
      " [10160  9840]]\n"
     ]
    }
   ],
   "source": [
    "from sklearn.metrics import confusion_matrix\n",
    "\n",
    "predictions = model.predict(test_generator, steps=len(test_generator))\n",
    "\n",
    "# 예측된 레이블을 이진 레이블로 변환합니다.\n",
    "# 이진 분류에서는 0.5를 기준으로 설정합니다.\n",
    "predicted_classes = (predictions > 0.5).astype(int)\n",
    "\n",
    "# 실제 레이블을 얻습니다.\n",
    "true_classes = test_generator.classes\n",
    "\n",
    "# 혼동 행렬 생성\n",
    "conf_matrix = confusion_matrix(true_classes, predicted_classes)\n",
    "\n",
    "# 혼동 행렬 출력\n",
    "print(\"Confusion Matrix:\")\n",
    "print(conf_matrix)"
   ]
  }
 ],
 "metadata": {
  "kernelspec": {
   "display_name": "Python 3 (ipykernel)",
   "language": "python",
   "name": "python3"
  },
  "language_info": {
   "codemirror_mode": {
    "name": "ipython",
    "version": 3
   },
   "file_extension": ".py",
   "mimetype": "text/x-python",
   "name": "python",
   "nbconvert_exporter": "python",
   "pygments_lexer": "ipython3",
   "version": "3.10.9"
  }
 },
 "nbformat": 4,
 "nbformat_minor": 5
}
