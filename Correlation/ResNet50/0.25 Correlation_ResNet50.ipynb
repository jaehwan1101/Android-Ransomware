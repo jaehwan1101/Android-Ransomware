{
 "cells": [
  {
   "cell_type": "code",
   "execution_count": 27,
   "id": "0845a216",
   "metadata": {},
   "outputs": [],
   "source": [
    "import os\n",
    "from tensorflow.keras.preprocessing.image import ImageDataGenerator\n",
    "from tensorflow.keras.applications import ResNet50\n",
    "from tensorflow.keras.applications.resnet50 import preprocess_input\n",
    "from tensorflow.keras.layers import Dense, GlobalAveragePooling2D\n",
    "from tensorflow.keras.models import Model\n",
    "from tensorflow.keras.optimizers import Adam\n",
    "from tensorflow.keras.metrics import AUC\n",
    "import time\n",
    "\n",
    "def image_data_generator(data_folder, img_size=(224, 224), batch_size=32, color_mode='rgb'):\n",
    "    datagen = ImageDataGenerator(preprocessing_function=preprocess_input)\n",
    "    generator = datagen.flow_from_directory(\n",
    "        data_folder,\n",
    "        target_size=img_size,\n",
    "        batch_size=batch_size,\n",
    "        class_mode='binary',\n",
    "        color_mode=color_mode\n",
    "    )\n",
    "    return generator"
   ]
  },
  {
   "cell_type": "code",
   "execution_count": 28,
   "id": "1db5423d",
   "metadata": {},
   "outputs": [],
   "source": [
    "def ResNet50_model(input_shape):\n",
    "    base_model = ResNet50(weights='imagenet', include_top=False, input_shape=input_shape)\n",
    "    for layer in base_model.layers:\n",
    "        layer.trainable = False\n",
    "    x = base_model.output\n",
    "    x = GlobalAveragePooling2D()(x)\n",
    "    x = Dense(1024, activation='relu')(x)\n",
    "    predictions = Dense(1, activation='sigmoid')(x)\n",
    "    model = Model(inputs=base_model.input, outputs=predictions)\n",
    "    model.compile(optimizer=Adam(), loss='binary_crossentropy', metrics=['accuracy', AUC(name='auc')])\n",
    "    return model"
   ]
  },
  {
   "cell_type": "code",
   "execution_count": 29,
   "id": "097295dc",
   "metadata": {},
   "outputs": [
    {
     "name": "stdout",
     "output_type": "stream",
     "text": [
      "Found 320000 images belonging to 2 classes.\n",
      "Found 40000 images belonging to 2 classes.\n",
      "Found 37500 images belonging to 2 classes.\n",
      "Epoch 1/10\n",
      "2500/2500 [==============================] - 478s 190ms/step - loss: 0.6954 - accuracy: 0.5336 - auc: 0.5468 - val_loss: 0.6875 - val_accuracy: 0.5415 - val_auc: 0.5728\n",
      "Epoch 2/10\n",
      "2500/2500 [==============================] - 475s 190ms/step - loss: 0.6868 - accuracy: 0.5417 - auc: 0.5603 - val_loss: 0.6850 - val_accuracy: 0.5500 - val_auc: 0.5725\n",
      "Epoch 3/10\n",
      "2500/2500 [==============================] - 476s 191ms/step - loss: 0.6859 - accuracy: 0.5442 - auc: 0.5633 - val_loss: 0.6846 - val_accuracy: 0.5467 - val_auc: 0.5749\n",
      "Epoch 4/10\n",
      "2500/2500 [==============================] - 476s 191ms/step - loss: 0.6838 - accuracy: 0.5481 - auc: 0.5700 - val_loss: 0.6819 - val_accuracy: 0.5533 - val_auc: 0.5819\n",
      "Epoch 5/10\n",
      "2500/2500 [==============================] - 479s 191ms/step - loss: 0.6822 - accuracy: 0.5533 - auc: 0.5753 - val_loss: 0.6832 - val_accuracy: 0.5607 - val_auc: 0.5799\n",
      "Epoch 6/10\n",
      "2500/2500 [==============================] - 477s 191ms/step - loss: 0.6810 - accuracy: 0.5552 - auc: 0.5789 - val_loss: 0.6798 - val_accuracy: 0.5622 - val_auc: 0.5872\n",
      "Epoch 7/10\n",
      "2500/2500 [==============================] - 477s 191ms/step - loss: 0.6803 - accuracy: 0.5561 - auc: 0.5804 - val_loss: 0.6801 - val_accuracy: 0.5597 - val_auc: 0.5871\n",
      "Epoch 8/10\n",
      "2500/2500 [==============================] - 492s 197ms/step - loss: 0.6793 - accuracy: 0.5581 - auc: 0.5831 - val_loss: 0.6783 - val_accuracy: 0.5630 - val_auc: 0.5874\n",
      "Epoch 9/10\n",
      "2500/2500 [==============================] - 478s 191ms/step - loss: 0.6784 - accuracy: 0.5596 - auc: 0.5847 - val_loss: 0.6776 - val_accuracy: 0.5625 - val_auc: 0.5876\n",
      "Epoch 10/10\n",
      "2500/2500 [==============================] - 476s 190ms/step - loss: 0.6776 - accuracy: 0.5600 - auc: 0.5866 - val_loss: 0.6780 - val_accuracy: 0.5583 - val_auc: 0.5849\n",
      "293/293 [==============================] - 50s 170ms/step - loss: 0.7153 - accuracy: 0.5277 - auc: 0.5158\n",
      "Test Loss: 0.7153162360191345\n",
      "Test Accuracy: 0.5276533365249634\n",
      "Test AUC: 0.5157697200775146\n",
      "Test Duration: 50.0390 seconds\n"
     ]
    }
   ],
   "source": [
    "base_path = r'C:\\Users\\pc\\Desktop\\CNN\\Correlation\\0.25_threshold'\n",
    "train_data_folder = os.path.join(base_path, 'Train_Image')\n",
    "val_data_folder = os.path.join(base_path, 'Validation_Image')\n",
    "test_data_folder = os.path.join(base_path, 'Test_Image')\n",
    "\n",
    "# 데이터 제너레이터 생성\n",
    "train_generator = image_data_generator(train_data_folder, batch_size=128)\n",
    "val_generator = image_data_generator(val_data_folder, batch_size=128)\n",
    "test_generator = image_data_generator(test_data_folder, batch_size=128)\n",
    "\n",
    "# 모델 정의\n",
    "# Input shape은 (None, None, None)으로 설정하여 모든 크기의 이미지를 받을 수 있게 합니다.\n",
    "# 실제 이미지 크기는 제너레이터가 알아서 조절합니다.\n",
    "model = ResNet50_model(input_shape=(224, 224, 3))\n",
    "\n",
    "# 배치 크기와 에포크 설정\n",
    "epochs = 10\n",
    "\n",
    "# 모델 훈련\n",
    "history = model.fit(\n",
    "    train_generator,\n",
    "    epochs=epochs,\n",
    "    validation_data=val_generator\n",
    ")\n",
    "\n",
    "# 테스트하기 전에 시간 측정 시작\n",
    "start_time = time.time()\n",
    "\n",
    "# 모델 평가\n",
    "test_loss, test_accuracy, test_auc = model.evaluate(test_generator)\n",
    "\n",
    "# 시간 측정 종료 및 결과 출력\n",
    "end_time = time.time()\n",
    "elapsed_time = end_time - start_time\n",
    "\n",
    "print(\"Test Loss:\", test_loss)\n",
    "print(\"Test Accuracy:\", test_accuracy)\n",
    "print(\"Test AUC:\", test_auc)\n",
    "print(f\"Test Duration: {elapsed_time:.4f} seconds\")"
   ]
  },
  {
   "cell_type": "code",
   "execution_count": 30,
   "id": "9c954c0f",
   "metadata": {},
   "outputs": [
    {
     "name": "stdout",
     "output_type": "stream",
     "text": [
      "293/293 [==============================] - 49s 166ms/step\n",
      "Confusion Matrix:\n",
      "[[13423  6577]\n",
      " [11622  5878]]\n"
     ]
    }
   ],
   "source": [
    "from sklearn.metrics import confusion_matrix\n",
    "\n",
    "predictions = model.predict(test_generator, steps=len(test_generator))\n",
    "\n",
    "# 예측된 레이블을 이진 레이블로 변환합니다.\n",
    "# 이진 분류에서는 0.5를 기준으로 설정합니다.\n",
    "predicted_classes = (predictions > 0.5).astype(int)\n",
    "\n",
    "# 실제 레이블을 얻습니다.\n",
    "true_classes = test_generator.classes\n",
    "\n",
    "# 혼동 행렬 생성\n",
    "conf_matrix = confusion_matrix(true_classes, predicted_classes)\n",
    "\n",
    "# 혼동 행렬 출력\n",
    "print(\"Confusion Matrix:\")\n",
    "print(conf_matrix)"
   ]
  },
  {
   "cell_type": "code",
   "execution_count": null,
   "id": "e3c19192",
   "metadata": {},
   "outputs": [],
   "source": []
  },
  {
   "cell_type": "code",
   "execution_count": null,
   "id": "224cbdc1",
   "metadata": {},
   "outputs": [],
   "source": []
  }
 ],
 "metadata": {
  "kernelspec": {
   "display_name": "Python 3 (ipykernel)",
   "language": "python",
   "name": "python3"
  },
  "language_info": {
   "codemirror_mode": {
    "name": "ipython",
    "version": 3
   },
   "file_extension": ".py",
   "mimetype": "text/x-python",
   "name": "python",
   "nbconvert_exporter": "python",
   "pygments_lexer": "ipython3",
   "version": "3.10.9"
  }
 },
 "nbformat": 4,
 "nbformat_minor": 5
}
