{
 "cells": [
  {
   "cell_type": "code",
   "execution_count": 34,
   "id": "e872bc04",
   "metadata": {},
   "outputs": [],
   "source": [
    "import os\n",
    "from tensorflow.keras.preprocessing.image import ImageDataGenerator\n",
    "from tensorflow.keras.applications import ResNet50\n",
    "from tensorflow.keras.applications.resnet50 import preprocess_input\n",
    "from tensorflow.keras.layers import Dense, GlobalAveragePooling2D\n",
    "from tensorflow.keras.models import Model\n",
    "from tensorflow.keras.optimizers import Adam\n",
    "from tensorflow.keras.metrics import AUC\n",
    "import time\n",
    "\n",
    "def image_data_generator(data_folder, img_size=(224, 224), batch_size=32, color_mode='rgb'):\n",
    "    datagen = ImageDataGenerator(preprocessing_function=preprocess_input)\n",
    "    generator = datagen.flow_from_directory(\n",
    "        data_folder,\n",
    "        target_size=img_size,\n",
    "        batch_size=batch_size,\n",
    "        class_mode='binary',\n",
    "        color_mode=color_mode\n",
    "    )\n",
    "    return generator"
   ]
  },
  {
   "cell_type": "code",
   "execution_count": 35,
   "id": "50d1774e",
   "metadata": {},
   "outputs": [],
   "source": [
    "def ResNet50_model(input_shape):\n",
    "    base_model = ResNet50(weights='imagenet', include_top=False, input_shape=input_shape)\n",
    "    for layer in base_model.layers:\n",
    "        layer.trainable = False\n",
    "    x = base_model.output\n",
    "    x = GlobalAveragePooling2D()(x)\n",
    "    x = Dense(1024, activation='relu')(x)\n",
    "    predictions = Dense(1, activation='sigmoid')(x)\n",
    "    model = Model(inputs=base_model.input, outputs=predictions)\n",
    "    model.compile(optimizer=Adam(), loss='binary_crossentropy', metrics=['accuracy', AUC(name='auc')])\n",
    "    return model"
   ]
  },
  {
   "cell_type": "code",
   "execution_count": 36,
   "id": "1deda9e3",
   "metadata": {},
   "outputs": [
    {
     "name": "stdout",
     "output_type": "stream",
     "text": [
      "Found 320000 images belonging to 2 classes.\n",
      "Found 40000 images belonging to 2 classes.\n",
      "Found 40000 images belonging to 2 classes.\n",
      "Epoch 1/10\n",
      "2500/2500 [==============================] - 519s 207ms/step - loss: 0.6955 - accuracy: 0.5374 - auc: 0.5531 - val_loss: 0.6865 - val_accuracy: 0.5538 - val_auc: 0.5778\n",
      "Epoch 2/10\n",
      "2500/2500 [==============================] - 518s 207ms/step - loss: 0.6853 - accuracy: 0.5446 - auc: 0.5656 - val_loss: 0.6895 - val_accuracy: 0.5191 - val_auc: 0.5782\n",
      "Epoch 3/10\n",
      "2500/2500 [==============================] - 518s 207ms/step - loss: 0.6835 - accuracy: 0.5502 - auc: 0.5721 - val_loss: 0.6816 - val_accuracy: 0.5576 - val_auc: 0.5770\n",
      "Epoch 4/10\n",
      "2500/2500 [==============================] - 518s 207ms/step - loss: 0.6812 - accuracy: 0.5547 - auc: 0.5791 - val_loss: 0.6799 - val_accuracy: 0.5558 - val_auc: 0.5884\n",
      "Epoch 5/10\n",
      "2500/2500 [==============================] - 523s 209ms/step - loss: 0.6791 - accuracy: 0.5585 - auc: 0.5842 - val_loss: 0.6780 - val_accuracy: 0.5616 - val_auc: 0.5905\n",
      "Epoch 6/10\n",
      "2500/2500 [==============================] - 523s 209ms/step - loss: 0.6777 - accuracy: 0.5613 - auc: 0.5881 - val_loss: 0.6756 - val_accuracy: 0.5651 - val_auc: 0.5947\n",
      "Epoch 7/10\n",
      "2500/2500 [==============================] - 520s 208ms/step - loss: 0.6765 - accuracy: 0.5632 - auc: 0.5908 - val_loss: 0.6739 - val_accuracy: 0.5687 - val_auc: 0.5992\n",
      "Epoch 8/10\n",
      "2500/2500 [==============================] - 519s 208ms/step - loss: 0.6754 - accuracy: 0.5642 - auc: 0.5933 - val_loss: 0.6740 - val_accuracy: 0.5627 - val_auc: 0.5953\n",
      "Epoch 9/10\n",
      "2500/2500 [==============================] - 518s 207ms/step - loss: 0.6745 - accuracy: 0.5654 - auc: 0.5953 - val_loss: 0.6757 - val_accuracy: 0.5671 - val_auc: 0.6019\n",
      "Epoch 10/10\n",
      "2500/2500 [==============================] - 519s 207ms/step - loss: 0.6743 - accuracy: 0.5654 - auc: 0.5959 - val_loss: 0.6749 - val_accuracy: 0.5659 - val_auc: 0.5994\n",
      "313/313 [==============================] - 58s 184ms/step - loss: 0.6764 - accuracy: 0.5627 - auc: 0.5943\n",
      "Test Loss: 0.6763691306114197\n",
      "Test Accuracy: 0.5626749992370605\n",
      "Test AUC: 0.5943077206611633\n",
      "Test Duration: 57.8945 seconds\n"
     ]
    }
   ],
   "source": [
    "base_path = r'C:\\Users\\pc\\Desktop\\CNN\\Correlation\\0.2_threshold'\n",
    "train_data_folder = os.path.join(base_path, 'Train_Image')\n",
    "val_data_folder = os.path.join(base_path, 'Validation_Image')\n",
    "test_data_folder = os.path.join(base_path, 'Test_Image')\n",
    "\n",
    "# 데이터 제너레이터 생성\n",
    "train_generator = image_data_generator(train_data_folder, batch_size=128)\n",
    "val_generator = image_data_generator(val_data_folder, batch_size=128)\n",
    "test_generator = image_data_generator(test_data_folder, batch_size=128)\n",
    "\n",
    "# 모델 정의\n",
    "# Input shape은 (None, None, None)으로 설정하여 모든 크기의 이미지를 받을 수 있게 합니다.\n",
    "# 실제 이미지 크기는 제너레이터가 알아서 조절합니다.\n",
    "model = ResNet50_model(input_shape=(224, 224, 3))\n",
    "\n",
    "# 배치 크기와 에포크 설정\n",
    "epochs = 10\n",
    "\n",
    "# 모델 훈련\n",
    "history = model.fit(\n",
    "    train_generator,\n",
    "    epochs=epochs,\n",
    "    validation_data=val_generator\n",
    ")\n",
    "\n",
    "# 테스트하기 전에 시간 측정 시작\n",
    "start_time = time.time()\n",
    "\n",
    "# 모델 평가\n",
    "test_loss, test_accuracy, test_auc = model.evaluate(test_generator)\n",
    "\n",
    "# 시간 측정 종료 및 결과 출력\n",
    "end_time = time.time()\n",
    "elapsed_time = end_time - start_time\n",
    "\n",
    "print(\"Test Loss:\", test_loss)\n",
    "print(\"Test Accuracy:\", test_accuracy)\n",
    "print(\"Test AUC:\", test_auc)\n",
    "print(f\"Test Duration: {elapsed_time:.4f} seconds\")"
   ]
  },
  {
   "cell_type": "code",
   "execution_count": 37,
   "id": "aafeddff",
   "metadata": {},
   "outputs": [
    {
     "name": "stdout",
     "output_type": "stream",
     "text": [
      "313/313 [==============================] - 58s 181ms/step\n",
      "Confusion Matrix:\n",
      "[[14205  5795]\n",
      " [14270  5730]]\n"
     ]
    }
   ],
   "source": [
    "from sklearn.metrics import confusion_matrix\n",
    "\n",
    "predictions = model.predict(test_generator, steps=len(test_generator))\n",
    "\n",
    "# 예측된 레이블을 이진 레이블로 변환합니다.\n",
    "# 이진 분류에서는 0.5를 기준으로 설정합니다.\n",
    "predicted_classes = (predictions > 0.5).astype(int)\n",
    "\n",
    "# 실제 레이블을 얻습니다.\n",
    "true_classes = test_generator.classes\n",
    "\n",
    "# 혼동 행렬 생성\n",
    "conf_matrix = confusion_matrix(true_classes, predicted_classes)\n",
    "\n",
    "# 혼동 행렬 출력\n",
    "print(\"Confusion Matrix:\")\n",
    "print(conf_matrix)"
   ]
  }
 ],
 "metadata": {
  "kernelspec": {
   "display_name": "Python 3 (ipykernel)",
   "language": "python",
   "name": "python3"
  },
  "language_info": {
   "codemirror_mode": {
    "name": "ipython",
    "version": 3
   },
   "file_extension": ".py",
   "mimetype": "text/x-python",
   "name": "python",
   "nbconvert_exporter": "python",
   "pygments_lexer": "ipython3",
   "version": "3.10.9"
  }
 },
 "nbformat": 4,
 "nbformat_minor": 5
}
