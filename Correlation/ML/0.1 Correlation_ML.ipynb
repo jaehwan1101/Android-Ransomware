{
 "cells": [
  {
   "cell_type": "code",
   "execution_count": 21,
   "metadata": {},
   "outputs": [],
   "source": [
    "import glob\n",
    "import numpy as np\n",
    "import pandas as pd\n",
    "from sklearn.feature_selection import SelectKBest, chi2\n",
    "from sklearn.preprocessing import MinMaxScaler\n",
    "\n",
    "# 폴더 경로 지정\n",
    "folder_path = r'C:\\Users\\pc\\Desktop\\CNN\\CIC-AndMal2017'"
   ]
  },
  {
   "cell_type": "code",
   "execution_count": 22,
   "metadata": {},
   "outputs": [
    {
     "name": "stdout",
     "output_type": "stream",
     "text": [
      "Charger 클래스의 샘플 개수: 39551\n",
      "Jisut 클래스의 샘플 개수: 25672\n",
      "Koler 클래스의 샘플 개수: 44555\n",
      "Lockerpin 클래스의 샘플 개수: 25307\n",
      "Pletor 클래스의 샘플 개수: 4715\n",
      "PornDroid 클래스의 샘플 개수: 46082\n",
      "RansomBO 클래스의 샘플 개수: 39859\n",
      "Simplocker 클래스의 샘플 개수: 36340\n",
      "SVpeng 클래스의 샘플 개수: 54161\n",
      "WannaLocker 클래스의 샘플 개수: 32701\n"
     ]
    }
   ],
   "source": [
    "# 랜섬웨어 클래스별 파일에 있는 샘플 개수를 확인하기 위한 딕셔너리\n",
    "samples_per_class = {}\n",
    "\n",
    "# Ransomware 폴더 내의 10개 폴더 경로 리스트 받아오기\n",
    "ransomware_folder_list = glob.glob(folder_path + '\\\\Ransomware\\\\*')\n",
    "\n",
    "# 모든 파일 로드 및 샘플 개수 확인\n",
    "for folder in ransomware_folder_list:\n",
    "    ransomware_class = folder.split('\\\\')[-1]  # 랜섬웨어 클래스명 추출\n",
    "\n",
    "    file_paths = glob.glob(folder + '\\\\*.csv')\n",
    "    total_samples = 0  # 클래스별 전체 샘플 개수 초기화\n",
    "    for file_path in file_paths:\n",
    "        data = pd.read_csv(file_path)\n",
    "        total_samples += data.shape[0]  # 데이터프레임의 행 수 / 샘플 개수 더하기\n",
    "\n",
    "    samples_per_class[ransomware_class] = total_samples\n",
    "\n",
    "# 클래스별 샘플 개수 출력\n",
    "for ransomware_class, num_samples in samples_per_class.items():\n",
    "    print(f\"{ransomware_class} 클래스의 샘플 개수: {num_samples}\")"
   ]
  },
  {
   "cell_type": "code",
   "execution_count": 23,
   "metadata": {},
   "outputs": [
    {
     "name": "stdout",
     "output_type": "stream",
     "text": [
      "benign_subset의 샘플 개수: 200000\n"
     ]
    }
   ],
   "source": [
    "benign_folder_path = r'C:\\Users\\pc\\Desktop\\CNN\\CIC-AndMal2017\\Benign'\n",
    "\n",
    "# 'Benign' 클래스의 파일 경로 리스트 받아오기\n",
    "benign_file_paths = glob.glob(benign_folder_path + '/*.csv')\n",
    "\n",
    "# 'Benign' 클래스의 데이터프레임 초기화\n",
    "benign_data = pd.DataFrame()\n",
    "\n",
    "# 'Benign' 클래스의 모든 파일 로드\n",
    "for file_path in benign_file_paths:\n",
    "    data = pd.read_csv(file_path)\n",
    "    benign_data = pd.concat([benign_data, data], ignore_index=True)\n",
    "\n",
    "# 'Benign' 클래스에서 200,000개 무작위 샘플 추출\n",
    "num_samples_benign = 200000\n",
    "if len(benign_data) > num_samples_benign:\n",
    "    benign_subset = benign_data.sample(n=num_samples_benign, random_state=42)\n",
    "else:\n",
    "    benign_subset = benign_data.copy()\n",
    "\n",
    "print(\"benign_subset의 샘플 개수:\", len(benign_subset))"
   ]
  },
  {
   "cell_type": "code",
   "execution_count": 24,
   "metadata": {},
   "outputs": [
    {
     "name": "stdout",
     "output_type": "stream",
     "text": [
      "all_ransomware_subset의 샘플 개수: 200000\n"
     ]
    }
   ],
   "source": [
    "ransomware_folder_list = glob.glob(folder_path + '\\\\Ransomware\\\\*')\n",
    "all_ransomware_data = pd.DataFrame()\n",
    "\n",
    "for ransomware_folder_path in ransomware_folder_list:\n",
    "    ransomware_file_paths = glob.glob(ransomware_folder_path + '/*.csv')\n",
    "    \n",
    "    # 각 랜섬웨어 클래스의 모든 파일 로드\n",
    "    for file_path in ransomware_file_paths:\n",
    "        data = pd.read_csv(file_path)\n",
    "        all_ransomware_data = pd.concat([all_ransomware_data, data], ignore_index=True)\n",
    "\n",
    "# 전체 랜섬웨어 데이터에서 200,000개 샘플 무작위로 추출\n",
    "if len(all_ransomware_data) > 200000:\n",
    "    all_ransomware_subset = all_ransomware_data.sample(n=200000, random_state=42, replace=False)\n",
    "else:\n",
    "    all_ransomware_subset = all_ransomware_data.copy()\n",
    "\n",
    "print(\"all_ransomware_subset의 샘플 개수:\", len(all_ransomware_subset))"
   ]
  },
  {
   "cell_type": "code",
   "execution_count": 25,
   "metadata": {},
   "outputs": [
    {
     "name": "stdout",
     "output_type": "stream",
     "text": [
      "최종 특성추출 데이터세트의 샘플 개수: 400000\n"
     ]
    }
   ],
   "source": [
    "# 'Benign' 클래스와 랜섬웨어 클래스의 데이터프레임들을 합치기\n",
    "sub_dataset = pd.concat([benign_subset, all_ransomware_subset], ignore_index=True)\n",
    "\n",
    "print(\"최종 특성추출 데이터세트의 샘플 개수:\", len(sub_dataset))"
   ]
  },
  {
   "cell_type": "code",
   "execution_count": 30,
   "metadata": {},
   "outputs": [
    {
     "name": "stdout",
     "output_type": "stream",
     "text": [
      "정규화된 선택된 특성들의 데이터프레임:\n",
      "   Destination IP   ACK Flag Count   Active Max   Active Min   Active Std  \\\n",
      "0       170524673                0          0.0          0.0          0.0   \n",
      "1      3029698754                1          0.0          0.0          0.0   \n",
      "2      1760832259                0     152071.0     152071.0          0.0   \n",
      "3      2362304008                0          0.0          0.0          0.0   \n",
      "4      2899904270                1          0.0          0.0          0.0   \n",
      "\n",
      "    Average Packet Size   Avg Bwd Segment Size   Avg Fwd Segment Size  \\\n",
      "0             90.500000                 103.00                   39.0   \n",
      "1              0.000000                   0.00                    0.0   \n",
      "2             75.500000                  37.40                  113.6   \n",
      "3            214.142857                 130.25                  326.0   \n",
      "4             34.500000                   0.00                   23.0   \n",
      "\n",
      "    Bwd Header Length   Bwd IAT Max  ...  Bwd IAT Total  \\\n",
      "0                  20           0.0  ...            0.0   \n",
      "1                  20           0.0  ...            0.0   \n",
      "2                 168    10094193.0  ...     10222773.0   \n",
      "3                 100      245730.0  ...       247458.0   \n",
      "4                   0           0.0  ...            0.0   \n",
      "\n",
      "   Bwd Packet Length Max  Flow Bytes/s  Fwd IAT Total  Fwd PSH Flags  \\\n",
      "0                  103.0   1489.765729            0.0              0   \n",
      "1                    0.0      0.000000            0.0              0   \n",
      "2                  156.0     73.683848        90225.0              0   \n",
      "3                  521.0   2992.858269       256931.0              0   \n",
      "4                    0.0     15.490166      2969626.0              1   \n",
      "\n",
      "   Fwd Packets/s   Idle Mean  Init_Win_bytes_forward  Subflow Fwd Packets  \\\n",
      "0      10.491308         0.0                      -1                    1   \n",
      "1       3.869655         0.0                    1386                    1   \n",
      "2       0.487973  10094193.0                   65535                    5   \n",
      "3       5.989710         0.0                   65535                    3   \n",
      "4       0.673485         0.0                    1486                    2   \n",
      "\n",
      "   Total Length of Fwd Packets  \n",
      "0                         39.0  \n",
      "1                          0.0  \n",
      "2                        568.0  \n",
      "3                        978.0  \n",
      "4                         46.0  \n",
      "\n",
      "[5 rows x 52 columns]\n"
     ]
    }
   ],
   "source": [
    "from sklearn.preprocessing import MinMaxScaler\n",
    "from sklearn.impute import SimpleImputer\n",
    "\n",
    "# IP 주소를 수치형 데이터로 변환하는 함수\n",
    "def ip_to_numeric(ip):\n",
    "    if not isinstance(ip, str):\n",
    "        return np.nan\n",
    "    return sum(int(octet) * 256 ** (3 - index) for index, octet in enumerate(ip.split('.')))\n",
    "\n",
    "# Apply the ip_to_numeric function to the 'Destination IP' column\n",
    "sub_dataset['Destination IP'] = sub_dataset[' Destination IP'].apply(ip_to_numeric)\n",
    "\n",
    "\n",
    "# 상관분석으로 선택된 특성들만 사용\n",
    "selected_features = [\n",
    "    'Destination IP',\n",
    "    ' ACK Flag Count',\n",
    "    ' Active Max',\n",
    "    ' Active Min',\n",
    "    ' Active Std',\n",
    "    ' Average Packet Size',\n",
    "    ' Avg Bwd Segment Size',\n",
    "    ' Avg Fwd Segment Size',\n",
    "    ' Bwd Header Length',\n",
    "    ' Bwd IAT Max',\n",
    "    ' Bwd IAT Mean',\n",
    "    ' Bwd Packet Length Mean',\n",
    "    ' Bwd Packet Length Std',\n",
    "    ' Bwd Packets/s',\n",
    "    ' Flow Duration',\n",
    "    ' Flow Packets/s',\n",
    "    ' Fwd Header Length',\n",
    "    ' Fwd IAT Mean',\n",
    "    ' Fwd Packet Length Max',\n",
    "    ' Fwd Packet Length Mean',\n",
    "    ' Fwd Packet Length Std',\n",
    "    ' Idle Max',\n",
    "    ' Idle Min',\n",
    "    ' Idle Std',\n",
    "    ' Max Packet Length',\n",
    "    ' Min Packet Length',\n",
    "    ' PSH Flag Count',\n",
    "    ' Packet Length Mean',\n",
    "    ' Packet Length Std',\n",
    "    ' Packet Length Variance',\n",
    "    ' Protocol',\n",
    "    ' SYN Flag Count',\n",
    "    ' Subflow Bwd Bytes',\n",
    "    ' Subflow Bwd Packets',\n",
    "    ' Subflow Fwd Bytes',\n",
    "    ' Total Backward Packets',\n",
    "    ' Total Fwd Packets',\n",
    "    ' Total Length of Bwd Packets',\n",
    "    ' URG Flag Count',\n",
    "    ' act_data_pkt_fwd',\n",
    "    ' min_seg_size_forward',\n",
    "    'Active Mean',\n",
    "    'Bwd IAT Total',\n",
    "    'Bwd Packet Length Max',\n",
    "    'Flow Bytes/s',\n",
    "    'Fwd IAT Total',\n",
    "    'Fwd PSH Flags',\n",
    "    'Fwd Packets/s',\n",
    "    'Idle Mean',\n",
    "    'Init_Win_bytes_forward',\n",
    "    'Subflow Fwd Packets',\n",
    "    'Total Length of Fwd Packets'\n",
    "]\n",
    "\n",
    "# 선택된 특성만 포함하는 데이터프레임 생성\n",
    "X_selected = sub_dataset[selected_features]\n",
    "\n",
    "# 결과 출력\n",
    "print(\"정규화된 선택된 특성들의 데이터프레임:\")\n",
    "print(X_selected.head())"
   ]
  },
  {
   "cell_type": "code",
   "execution_count": 31,
   "metadata": {},
   "outputs": [
    {
     "name": "stdout",
     "output_type": "stream",
     "text": [
      "Train samples: 320000\n",
      "Validation samples: 40000\n",
      "Test samples: 40000\n"
     ]
    }
   ],
   "source": [
    "from sklearn.model_selection import train_test_split\n",
    "\n",
    "# 학습 및 임시 데이터 분할 (80% 학습, 20% 임시)\n",
    "train_benign, temp_benign = train_test_split(benign_subset, test_size=0.20, random_state=42)\n",
    "train_ransomware, temp_ransomware = train_test_split(all_ransomware_subset, test_size=0.20, random_state=42)\n",
    "\n",
    "# 임시 데이터를 검증 및 테스트 데이터로 분할 (각각 50%, 합쳐서 20%를 10% 검증, 10% 테스트로 분할)\n",
    "val_benign, test_benign = train_test_split(temp_benign, test_size=0.50, random_state=42)\n",
    "val_ransomware, test_ransomware = train_test_split(temp_ransomware, test_size=0.50, random_state=42)\n",
    "\n",
    "# 각 분할된 데이터 세트를 병합하여 최종 학습, 검증, 테스트 데이터 세트 생성\n",
    "train_data = pd.concat([train_benign, train_ransomware], ignore_index=True)\n",
    "val_data = pd.concat([val_benign, val_ransomware], ignore_index=True)\n",
    "test_data = pd.concat([test_benign, test_ransomware], ignore_index=True)\n",
    "\n",
    "print(\"Train samples:\", len(train_data))\n",
    "print(\"Validation samples:\", len(val_data))\n",
    "print(\"Test samples:\", len(test_data))"
   ]
  },
  {
   "cell_type": "code",
   "execution_count": 33,
   "metadata": {},
   "outputs": [],
   "source": [
    "# 학습, 검증, 테스트 데이터의 타겟 변수 추출\n",
    "y_train = train_data[' Label']\n",
    "y_val = val_data[' Label']\n",
    "y_test = test_data[' Label']\n",
    "\n",
    "# 타겟 변수에서 'benign'이 아닌 모든 값들을 'ransomware'로 변경\n",
    "y_train = y_train.apply(lambda x: 'RANSOMWARE' if x != 'BENIGN' else 'BENIGN')\n",
    "y_val = y_val.apply(lambda x: 'RANSOMWARE' if x != 'BENIGN' else 'BENIGN')\n",
    "y_test = y_test.apply(lambda x: 'RANSOMWARE' if x != 'BENIGN' else 'BENIGN')"
   ]
  },
  {
   "cell_type": "code",
   "execution_count": 34,
   "metadata": {},
   "outputs": [
    {
     "name": "stdout",
     "output_type": "stream",
     "text": [
      "Decision Tree - Validation Accuracy: 0.671275\n",
      "Decision Tree - Validation Report:\n",
      "               precision    recall  f1-score   support\n",
      "\n",
      "      BENIGN       0.67      0.67      0.67     20000\n",
      "  RANSOMWARE       0.67      0.68      0.67     20000\n",
      "\n",
      "    accuracy                           0.67     40000\n",
      "   macro avg       0.67      0.67      0.67     40000\n",
      "weighted avg       0.67      0.67      0.67     40000\n",
      "\n",
      "Decision Tree - Test Accuracy: 0.6743\n",
      "Decision Tree - Test Report:\n",
      "               precision    recall  f1-score   support\n",
      "\n",
      "      BENIGN       0.67      0.67      0.67     20000\n",
      "  RANSOMWARE       0.67      0.68      0.67     20000\n",
      "\n",
      "    accuracy                           0.67     40000\n",
      "   macro avg       0.67      0.67      0.67     40000\n",
      "weighted avg       0.67      0.67      0.67     40000\n",
      "\n",
      "Decision Tree training and evaluation took 7.96 seconds\n"
     ]
    }
   ],
   "source": [
    "import time\n",
    "from sklearn.tree import DecisionTreeClassifier\n",
    "from sklearn.ensemble import RandomForestClassifier\n",
    "from sklearn.metrics import accuracy_score, classification_report\n",
    "\n",
    "# 시작 시간 기록\n",
    "start_time = time.time()\n",
    "\n",
    "# 2. Decision Tree 학습 및 평가\n",
    "dt_classifier = DecisionTreeClassifier(random_state=42)\n",
    "dt_classifier.fit(X_train, y_train)\n",
    "\n",
    "dt_val_predictions = dt_classifier.predict(X_val)\n",
    "print(\"Decision Tree - Validation Accuracy:\", accuracy_score(y_val, dt_val_predictions))\n",
    "print(\"Decision Tree - Validation Report:\\n\", classification_report(y_val, dt_val_predictions))\n",
    "\n",
    "dt_test_predictions = dt_classifier.predict(X_test)\n",
    "print(\"Decision Tree - Test Accuracy:\", accuracy_score(y_test, dt_test_predictions))\n",
    "print(\"Decision Tree - Test Report:\\n\", classification_report(y_test, dt_test_predictions))\n",
    "\n",
    "# 종료 시간 기록 및 소요 시간 계산\n",
    "end_time = time.time()\n",
    "elapsed_time = end_time - start_time\n",
    "\n",
    "print(f\"Decision Tree training and evaluation took {elapsed_time:.2f} seconds\")"
   ]
  },
  {
   "cell_type": "code",
   "execution_count": 35,
   "metadata": {},
   "outputs": [
    {
     "name": "stdout",
     "output_type": "stream",
     "text": [
      "Random Forest - Validation Accuracy: 0.699675\n",
      "Random Forest - Validation Report:\n",
      "               precision    recall  f1-score   support\n",
      "\n",
      "      BENIGN       0.70      0.70      0.70     20000\n",
      "  RANSOMWARE       0.70      0.70      0.70     20000\n",
      "\n",
      "    accuracy                           0.70     40000\n",
      "   macro avg       0.70      0.70      0.70     40000\n",
      "weighted avg       0.70      0.70      0.70     40000\n",
      "\n",
      "Random Forest - Test Accuracy: 0.703025\n",
      "Random Forest - Test Report:\n",
      "               precision    recall  f1-score   support\n",
      "\n",
      "      BENIGN       0.70      0.70      0.70     20000\n",
      "  RANSOMWARE       0.70      0.70      0.70     20000\n",
      "\n",
      "    accuracy                           0.70     40000\n",
      "   macro avg       0.70      0.70      0.70     40000\n",
      "weighted avg       0.70      0.70      0.70     40000\n",
      "\n",
      "Random Forest training and evaluation took 83.72 seconds\n"
     ]
    }
   ],
   "source": [
    "import time\n",
    "from sklearn.ensemble import RandomForestClassifier\n",
    "from sklearn.metrics import accuracy_score, classification_report\n",
    "\n",
    "# 시작 시간 기록\n",
    "start_time = time.time()\n",
    "\n",
    "# 3. Random Forest 학습 및 평가\n",
    "rf_classifier = RandomForestClassifier(n_estimators=100, random_state=42)\n",
    "rf_classifier.fit(X_train, y_train)\n",
    "\n",
    "rf_val_predictions = rf_classifier.predict(X_val)\n",
    "print(\"Random Forest - Validation Accuracy:\", accuracy_score(y_val, rf_val_predictions))\n",
    "print(\"Random Forest - Validation Report:\\n\", classification_report(y_val, rf_val_predictions))\n",
    "\n",
    "rf_test_predictions = rf_classifier.predict(X_test)\n",
    "print(\"Random Forest - Test Accuracy:\", accuracy_score(y_test, rf_test_predictions))\n",
    "print(\"Random Forest - Test Report:\\n\", classification_report(y_test, rf_test_predictions))\n",
    "\n",
    "# 종료 시간 기록 및 소요 시간 계산\n",
    "end_time = time.time()\n",
    "elapsed_time = end_time - start_time\n",
    "\n",
    "print(f\"Random Forest training and evaluation took {elapsed_time:.2f} seconds\")"
   ]
  },
  {
   "cell_type": "code",
   "execution_count": 36,
   "metadata": {},
   "outputs": [
    {
     "name": "stdout",
     "output_type": "stream",
     "text": [
      "KNN - Validation Accuracy: 0.64455\n",
      "KNN - Validation Report:\n",
      "               precision    recall  f1-score   support\n",
      "\n",
      "      BENIGN       0.64      0.66      0.65     20000\n",
      "  RANSOMWARE       0.65      0.63      0.64     20000\n",
      "\n",
      "    accuracy                           0.64     40000\n",
      "   macro avg       0.64      0.64      0.64     40000\n",
      "weighted avg       0.64      0.64      0.64     40000\n",
      "\n",
      "KNN - Test Accuracy: 0.64595\n",
      "KNN - Test Report:\n",
      "               precision    recall  f1-score   support\n",
      "\n",
      "      BENIGN       0.64      0.66      0.65     20000\n",
      "  RANSOMWARE       0.65      0.63      0.64     20000\n",
      "\n",
      "    accuracy                           0.65     40000\n",
      "   macro avg       0.65      0.65      0.65     40000\n",
      "weighted avg       0.65      0.65      0.65     40000\n",
      "\n",
      "KNN training and evaluation took 20.20 seconds\n"
     ]
    }
   ],
   "source": [
    "from sklearn.neighbors import KNeighborsClassifier\n",
    "\n",
    "# 시작 시간 기록\n",
    "start_time = time.time()\n",
    "\n",
    "# 4. K-Nearest Neighbors 학습 및 평가\n",
    "knn_classifier = KNeighborsClassifier(n_neighbors=5)\n",
    "knn_classifier.fit(X_train, y_train)\n",
    "\n",
    "knn_val_predictions = knn_classifier.predict(X_val)\n",
    "print(\"KNN - Validation Accuracy:\", accuracy_score(y_val, knn_val_predictions))\n",
    "print(\"KNN - Validation Report:\\n\", classification_report(y_val, knn_val_predictions))\n",
    "\n",
    "knn_test_predictions = knn_classifier.predict(X_test)\n",
    "print(\"KNN - Test Accuracy:\", accuracy_score(y_test, knn_test_predictions))\n",
    "print(\"KNN - Test Report:\\n\", classification_report(y_test, knn_test_predictions))\n",
    "\n",
    "# 종료 시간 기록 및 소요 시간 계산\n",
    "end_time = time.time()\n",
    "elapsed_time = end_time - start_time\n",
    "\n",
    "print(f\"KNN training and evaluation took {elapsed_time:.2f} seconds\")"
   ]
  }
 ],
 "metadata": {
  "kernelspec": {
   "display_name": "Python 3 (ipykernel)",
   "language": "python",
   "name": "python3"
  }
 },
 "nbformat": 4,
 "nbformat_minor": 2
}
