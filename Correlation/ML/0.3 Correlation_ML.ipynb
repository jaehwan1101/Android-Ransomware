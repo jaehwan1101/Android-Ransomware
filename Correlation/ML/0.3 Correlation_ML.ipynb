{
 "cells": [
  {
   "cell_type": "code",
   "execution_count": 1,
   "id": "d91dcd98",
   "metadata": {},
   "outputs": [],
   "source": [
    "import glob\n",
    "import numpy as np\n",
    "import pandas as pd\n",
    "from sklearn.feature_selection import SelectKBest, chi2\n",
    "from sklearn.preprocessing import MinMaxScaler\n",
    "\n",
    "# 폴더 경로 지정\n",
    "folder_path = r'C:\\Users\\pc\\Desktop\\CNN\\CIC-AndMal2017'"
   ]
  },
  {
   "cell_type": "code",
   "execution_count": 2,
   "id": "c6fea556",
   "metadata": {},
   "outputs": [
    {
     "name": "stdout",
     "output_type": "stream",
     "text": [
      "Charger 클래스의 샘플 개수: 39551\n",
      "Jisut 클래스의 샘플 개수: 25672\n",
      "Koler 클래스의 샘플 개수: 44555\n",
      "Lockerpin 클래스의 샘플 개수: 25307\n",
      "Pletor 클래스의 샘플 개수: 4715\n",
      "PornDroid 클래스의 샘플 개수: 46082\n",
      "RansomBO 클래스의 샘플 개수: 39859\n",
      "Simplocker 클래스의 샘플 개수: 36340\n",
      "SVpeng 클래스의 샘플 개수: 54161\n",
      "WannaLocker 클래스의 샘플 개수: 32701\n"
     ]
    }
   ],
   "source": [
    "# 랜섬웨어 클래스별 파일에 있는 샘플 개수를 확인하기 위한 딕셔너리\n",
    "samples_per_class = {}\n",
    "\n",
    "# Ransomware 폴더 내의 10개 폴더 경로 리스트 받아오기\n",
    "ransomware_folder_list = glob.glob(folder_path + '\\\\Ransomware\\\\*')\n",
    "\n",
    "# 모든 파일 로드 및 샘플 개수 확인\n",
    "for folder in ransomware_folder_list:\n",
    "    ransomware_class = folder.split('\\\\')[-1]  # 랜섬웨어 클래스명 추출\n",
    "\n",
    "    file_paths = glob.glob(folder + '\\\\*.csv')\n",
    "    total_samples = 0  # 클래스별 전체 샘플 개수 초기화\n",
    "    for file_path in file_paths:\n",
    "        data = pd.read_csv(file_path)\n",
    "        total_samples += data.shape[0]  # 데이터프레임의 행 수 / 샘플 개수 더하기\n",
    "\n",
    "    samples_per_class[ransomware_class] = total_samples\n",
    "\n",
    "# 클래스별 샘플 개수 출력\n",
    "for ransomware_class, num_samples in samples_per_class.items():\n",
    "    print(f\"{ransomware_class} 클래스의 샘플 개수: {num_samples}\")"
   ]
  },
  {
   "cell_type": "code",
   "execution_count": 3,
   "id": "405e7f9f",
   "metadata": {},
   "outputs": [
    {
     "name": "stdout",
     "output_type": "stream",
     "text": [
      "benign_subset의 샘플 개수: 200000\n"
     ]
    }
   ],
   "source": [
    "benign_folder_path = r'C:\\Users\\pc\\Desktop\\CNN\\CIC-AndMal2017\\Benign'\n",
    "\n",
    "# 'Benign' 클래스의 파일 경로 리스트 받아오기\n",
    "benign_file_paths = glob.glob(benign_folder_path + '/*.csv')\n",
    "\n",
    "# 'Benign' 클래스의 데이터프레임 초기화\n",
    "benign_data = pd.DataFrame()\n",
    "\n",
    "# 'Benign' 클래스의 모든 파일 로드\n",
    "for file_path in benign_file_paths:\n",
    "    data = pd.read_csv(file_path)\n",
    "    benign_data = pd.concat([benign_data, data], ignore_index=True)\n",
    "\n",
    "# 'Benign' 클래스에서 200,000개 무작위 샘플 추출\n",
    "num_samples_benign = 200000\n",
    "if len(benign_data) > num_samples_benign:\n",
    "    benign_subset = benign_data.sample(n=num_samples_benign, random_state=42)\n",
    "else:\n",
    "    benign_subset = benign_data.copy()\n",
    "\n",
    "print(\"benign_subset의 샘플 개수:\", len(benign_subset))"
   ]
  },
  {
   "cell_type": "code",
   "execution_count": 4,
   "id": "a4d9ec90",
   "metadata": {},
   "outputs": [
    {
     "name": "stdout",
     "output_type": "stream",
     "text": [
      "all_ransomware_subset의 샘플 개수: 200000\n"
     ]
    }
   ],
   "source": [
    "ransomware_folder_list = glob.glob(folder_path + '\\\\Ransomware\\\\*')\n",
    "all_ransomware_data = pd.DataFrame()\n",
    "\n",
    "for ransomware_folder_path in ransomware_folder_list:\n",
    "    ransomware_file_paths = glob.glob(ransomware_folder_path + '/*.csv')\n",
    "    \n",
    "    # 각 랜섬웨어 클래스의 모든 파일 로드\n",
    "    for file_path in ransomware_file_paths:\n",
    "        data = pd.read_csv(file_path)\n",
    "        all_ransomware_data = pd.concat([all_ransomware_data, data], ignore_index=True)\n",
    "\n",
    "# 전체 랜섬웨어 데이터에서 200,000개 샘플 무작위로 추출\n",
    "if len(all_ransomware_data) > 200000:\n",
    "    all_ransomware_subset = all_ransomware_data.sample(n=200000, random_state=42, replace=False)\n",
    "else:\n",
    "    all_ransomware_subset = all_ransomware_data.copy()\n",
    "\n",
    "print(\"all_ransomware_subset의 샘플 개수:\", len(all_ransomware_subset))"
   ]
  },
  {
   "cell_type": "code",
   "execution_count": 5,
   "id": "0a150e5c",
   "metadata": {},
   "outputs": [
    {
     "name": "stdout",
     "output_type": "stream",
     "text": [
      "최종 특성추출 데이터세트의 샘플 개수: 400000\n"
     ]
    }
   ],
   "source": [
    "# 'Benign' 클래스와 랜섬웨어 클래스의 데이터프레임들을 합치기\n",
    "sub_dataset = pd.concat([benign_subset, all_ransomware_subset], ignore_index=True)\n",
    "\n",
    "print(\"최종 특성추출 데이터세트의 샘플 개수:\", len(sub_dataset))"
   ]
  },
  {
   "cell_type": "code",
   "execution_count": 6,
   "id": "cecbed17",
   "metadata": {},
   "outputs": [
    {
     "name": "stdout",
     "output_type": "stream",
     "text": [
      "정규화된 선택된 특성들의 데이터프레임:\n",
      "    Bwd Header Length   Fwd Header Length   Total Fwd Packets  \\\n",
      "0                  20                  20                   1   \n",
      "1                  20                  20                   1   \n",
      "2                 168                 168                   5   \n",
      "3                 100                  80                   3   \n",
      "4                   0                  64                   2   \n",
      "\n",
      "    act_data_pkt_fwd   min_seg_size_forward  Subflow Fwd Packets  \n",
      "0                  0                     20                    1  \n",
      "1                  0                     20                    1  \n",
      "2                  2                     32                    5  \n",
      "3                  1                     20                    3  \n",
      "4                  1                     32                    2  \n"
     ]
    }
   ],
   "source": [
    "from sklearn.preprocessing import MinMaxScaler\n",
    "from sklearn.impute import SimpleImputer\n",
    "\n",
    "# 상관분석으로 선택된 특성들만 사용\n",
    "selected_features = [\n",
    "    ' Bwd Header Length',\n",
    "    ' Fwd Header Length',\n",
    "    ' Total Fwd Packets',\n",
    "    ' act_data_pkt_fwd',\n",
    "    ' min_seg_size_forward',\n",
    "    'Subflow Fwd Packets'\n",
    "]\n",
    "\n",
    "# 선택된 특성만 포함하는 데이터프레임 생성\n",
    "X_selected = sub_dataset[selected_features]\n",
    "\n",
    "# 결과 출력\n",
    "print(\"정규화된 선택된 특성들의 데이터프레임:\")\n",
    "print(X_selected.head())"
   ]
  },
  {
   "cell_type": "code",
   "execution_count": 7,
   "id": "8d70a700",
   "metadata": {},
   "outputs": [
    {
     "name": "stdout",
     "output_type": "stream",
     "text": [
      "Train samples: 320000\n",
      "Validation samples: 40000\n",
      "Test samples: 40000\n"
     ]
    }
   ],
   "source": [
    "from sklearn.model_selection import train_test_split\n",
    "\n",
    "# 학습 및 임시 데이터 분할 (80% 학습, 20% 임시)\n",
    "train_benign, temp_benign = train_test_split(benign_subset, test_size=0.20, random_state=42)\n",
    "train_ransomware, temp_ransomware = train_test_split(all_ransomware_subset, test_size=0.20, random_state=42)\n",
    "\n",
    "# 임시 데이터를 검증 및 테스트 데이터로 분할 (각각 50%, 합쳐서 20%를 10% 검증, 10% 테스트로 분할)\n",
    "val_benign, test_benign = train_test_split(temp_benign, test_size=0.50, random_state=42)\n",
    "val_ransomware, test_ransomware = train_test_split(temp_ransomware, test_size=0.50, random_state=42)\n",
    "\n",
    "# 각 분할된 데이터 세트를 병합하여 최종 학습, 검증, 테스트 데이터 세트 생성\n",
    "train_data = pd.concat([train_benign, train_ransomware], ignore_index=True)\n",
    "val_data = pd.concat([val_benign, val_ransomware], ignore_index=True)\n",
    "test_data = pd.concat([test_benign, test_ransomware], ignore_index=True)\n",
    "\n",
    "print(\"Train samples:\", len(train_data))\n",
    "print(\"Validation samples:\", len(val_data))\n",
    "print(\"Test samples:\", len(test_data))"
   ]
  },
  {
   "cell_type": "code",
   "execution_count": 9,
   "id": "69501d78",
   "metadata": {},
   "outputs": [
    {
     "name": "stdout",
     "output_type": "stream",
     "text": [
      "학습 데이터:\n",
      "    Bwd Header Length   Fwd Header Length   Total Fwd Packets  \\\n",
      "0                 104                 136                   4   \n",
      "1                 328                 296                   9   \n",
      "2                   0                  64                   2   \n",
      "3                  32                  80                   3   \n",
      "4                   0                 288                   9   \n",
      "\n",
      "    act_data_pkt_fwd   min_seg_size_forward  Subflow Fwd Packets  \n",
      "0                  1                     32                    4  \n",
      "1                  3                     32                    9  \n",
      "2                  0                     32                    2  \n",
      "3                  0                     20                    3  \n",
      "4                  8                     32                    9  \n",
      "\n",
      "검증 데이터:\n",
      "    Bwd Header Length   Fwd Header Length   Total Fwd Packets  \\\n",
      "0                   0                  64                   2   \n",
      "1                  40                  20                   1   \n",
      "2                 152                 120                   5   \n",
      "3                 392                 456                  14   \n",
      "4                  32                  44                   1   \n",
      "\n",
      "    act_data_pkt_fwd   min_seg_size_forward  Subflow Fwd Packets  \n",
      "0                  0                     32                    2  \n",
      "1                  0                     20                    1  \n",
      "2                  1                     20                    5  \n",
      "3                  7                     32                   14  \n",
      "4                  0                     44                    1  \n",
      "\n",
      "테스트 데이터:\n",
      "    Bwd Header Length   Fwd Header Length   Total Fwd Packets  \\\n",
      "0                 552                 488                  15   \n",
      "1                   0                   0                   3   \n",
      "2                   0                  64                   2   \n",
      "3                  20                  20                   1   \n",
      "4                  20                  20                   1   \n",
      "\n",
      "    act_data_pkt_fwd   min_seg_size_forward  Subflow Fwd Packets  \n",
      "0                  4                     32                   15  \n",
      "1                  0                      0                    3  \n",
      "2                  0                     32                    2  \n",
      "3                  0                     20                    1  \n",
      "4                  0                     20                    1  \n"
     ]
    }
   ],
   "source": [
    "# 선택된 36가지 특성에 해당하는 열만 추출\n",
    "selected_feature_columns = X_selected.columns\n",
    "\n",
    "# 학습, 검증, 테스트 데이터 추출\n",
    "X_train = train_data[selected_feature_columns]\n",
    "X_val = val_data[selected_feature_columns]\n",
    "X_test = test_data[selected_feature_columns]\n",
    "\n",
    "# 결과 출력\n",
    "print(\"학습 데이터:\")\n",
    "print(X_train.head())\n",
    "print(\"\\n검증 데이터:\")\n",
    "print(X_val.head())\n",
    "print(\"\\n테스트 데이터:\")\n",
    "print(X_test.head())"
   ]
  },
  {
   "cell_type": "code",
   "execution_count": 10,
   "id": "77cfe814",
   "metadata": {},
   "outputs": [],
   "source": [
    "# 학습, 검증, 테스트 데이터의 타겟 변수 추출\n",
    "y_train = train_data[' Label']\n",
    "y_val = val_data[' Label']\n",
    "y_test = test_data[' Label']\n",
    "\n",
    "# 타겟 변수에서 'benign'이 아닌 모든 값들을 'ransomware'로 변경\n",
    "y_train = y_train.apply(lambda x: 'RANSOMWARE' if x != 'BENIGN' else 'BENIGN')\n",
    "y_val = y_val.apply(lambda x: 'RANSOMWARE' if x != 'BENIGN' else 'BENIGN')\n",
    "y_test = y_test.apply(lambda x: 'RANSOMWARE' if x != 'BENIGN' else 'BENIGN')"
   ]
  },
  {
   "cell_type": "code",
   "execution_count": 11,
   "id": "9c6964e1",
   "metadata": {},
   "outputs": [
    {
     "name": "stdout",
     "output_type": "stream",
     "text": [
      "Decision Tree - Validation Accuracy: 0.571725\n",
      "Decision Tree - Validation Report:\n",
      "               precision    recall  f1-score   support\n",
      "\n",
      "      BENIGN       0.56      0.67      0.61     20000\n",
      "  RANSOMWARE       0.59      0.48      0.53     20000\n",
      "\n",
      "    accuracy                           0.57     40000\n",
      "   macro avg       0.57      0.57      0.57     40000\n",
      "weighted avg       0.57      0.57      0.57     40000\n",
      "\n",
      "Decision Tree - Test Accuracy: 0.571675\n",
      "Decision Tree - Test Report:\n",
      "               precision    recall  f1-score   support\n",
      "\n",
      "      BENIGN       0.56      0.67      0.61     20000\n",
      "  RANSOMWARE       0.59      0.48      0.53     20000\n",
      "\n",
      "    accuracy                           0.57     40000\n",
      "   macro avg       0.57      0.57      0.57     40000\n",
      "weighted avg       0.57      0.57      0.57     40000\n",
      "\n",
      "Decision Tree training and evaluation took 2.61 seconds\n"
     ]
    }
   ],
   "source": [
    "import time\n",
    "from sklearn.tree import DecisionTreeClassifier\n",
    "from sklearn.ensemble import RandomForestClassifier\n",
    "from sklearn.metrics import accuracy_score, classification_report\n",
    "\n",
    "# 시작 시간 기록\n",
    "start_time = time.time()\n",
    "\n",
    "# 2. Decision Tree 학습 및 평가\n",
    "dt_classifier = DecisionTreeClassifier(random_state=42)\n",
    "dt_classifier.fit(X_train, y_train)\n",
    "\n",
    "dt_val_predictions = dt_classifier.predict(X_val)\n",
    "print(\"Decision Tree - Validation Accuracy:\", accuracy_score(y_val, dt_val_predictions))\n",
    "print(\"Decision Tree - Validation Report:\\n\", classification_report(y_val, dt_val_predictions))\n",
    "\n",
    "dt_test_predictions = dt_classifier.predict(X_test)\n",
    "print(\"Decision Tree - Test Accuracy:\", accuracy_score(y_test, dt_test_predictions))\n",
    "print(\"Decision Tree - Test Report:\\n\", classification_report(y_test, dt_test_predictions))\n",
    "\n",
    "# 종료 시간 기록 및 소요 시간 계산\n",
    "end_time = time.time()\n",
    "elapsed_time = end_time - start_time\n",
    "\n",
    "print(f\"Decision Tree training and evaluation took {elapsed_time:.2f} seconds\")"
   ]
  },
  {
   "cell_type": "code",
   "execution_count": 12,
   "id": "5591dff0",
   "metadata": {},
   "outputs": [
    {
     "name": "stdout",
     "output_type": "stream",
     "text": [
      "Random Forest - Validation Accuracy: 0.572\n",
      "Random Forest - Validation Report:\n",
      "               precision    recall  f1-score   support\n",
      "\n",
      "      BENIGN       0.56      0.66      0.61     20000\n",
      "  RANSOMWARE       0.59      0.48      0.53     20000\n",
      "\n",
      "    accuracy                           0.57     40000\n",
      "   macro avg       0.57      0.57      0.57     40000\n",
      "weighted avg       0.57      0.57      0.57     40000\n",
      "\n",
      "Random Forest - Test Accuracy: 0.573075\n",
      "Random Forest - Test Report:\n",
      "               precision    recall  f1-score   support\n",
      "\n",
      "      BENIGN       0.56      0.66      0.61     20000\n",
      "  RANSOMWARE       0.59      0.48      0.53     20000\n",
      "\n",
      "    accuracy                           0.57     40000\n",
      "   macro avg       0.58      0.57      0.57     40000\n",
      "weighted avg       0.58      0.57      0.57     40000\n",
      "\n",
      "Random Forest training and evaluation took 15.05 seconds\n"
     ]
    }
   ],
   "source": [
    "import time\n",
    "from sklearn.ensemble import RandomForestClassifier\n",
    "from sklearn.metrics import accuracy_score, classification_report\n",
    "\n",
    "# 시작 시간 기록\n",
    "start_time = time.time()\n",
    "\n",
    "# 3. Random Forest 학습 및 평가\n",
    "rf_classifier = RandomForestClassifier(n_estimators=100, random_state=42)\n",
    "rf_classifier.fit(X_train, y_train)\n",
    "\n",
    "rf_val_predictions = rf_classifier.predict(X_val)\n",
    "print(\"Random Forest - Validation Accuracy:\", accuracy_score(y_val, rf_val_predictions))\n",
    "print(\"Random Forest - Validation Report:\\n\", classification_report(y_val, rf_val_predictions))\n",
    "\n",
    "rf_test_predictions = rf_classifier.predict(X_test)\n",
    "print(\"Random Forest - Test Accuracy:\", accuracy_score(y_test, rf_test_predictions))\n",
    "print(\"Random Forest - Test Report:\\n\", classification_report(y_test, rf_test_predictions))\n",
    "\n",
    "# 종료 시간 기록 및 소요 시간 계산\n",
    "end_time = time.time()\n",
    "elapsed_time = end_time - start_time\n",
    "\n",
    "print(f\"Random Forest training and evaluation took {elapsed_time:.2f} seconds\")"
   ]
  },
  {
   "cell_type": "code",
   "execution_count": 13,
   "id": "d49d5f55",
   "metadata": {},
   "outputs": [
    {
     "name": "stdout",
     "output_type": "stream",
     "text": [
      "KNN - Validation Accuracy: 0.517475\n",
      "KNN - Validation Report:\n",
      "               precision    recall  f1-score   support\n",
      "\n",
      "      BENIGN       0.51      0.96      0.67     20000\n",
      "  RANSOMWARE       0.65      0.08      0.14     20000\n",
      "\n",
      "    accuracy                           0.52     40000\n",
      "   macro avg       0.58      0.52      0.40     40000\n",
      "weighted avg       0.58      0.52      0.40     40000\n",
      "\n",
      "KNN - Test Accuracy: 0.517025\n",
      "KNN - Test Report:\n",
      "               precision    recall  f1-score   support\n",
      "\n",
      "      BENIGN       0.51      0.96      0.66     20000\n",
      "  RANSOMWARE       0.64      0.08      0.14     20000\n",
      "\n",
      "    accuracy                           0.52     40000\n",
      "   macro avg       0.58      0.52      0.40     40000\n",
      "weighted avg       0.58      0.52      0.40     40000\n",
      "\n",
      "KNN training and evaluation took 21.58 seconds\n"
     ]
    }
   ],
   "source": [
    "from sklearn.neighbors import KNeighborsClassifier\n",
    "\n",
    "# 시작 시간 기록\n",
    "start_time = time.time()\n",
    "\n",
    "# 4. K-Nearest Neighbors 학습 및 평가\n",
    "knn_classifier = KNeighborsClassifier(n_neighbors=5)\n",
    "knn_classifier.fit(X_train, y_train)\n",
    "\n",
    "knn_val_predictions = knn_classifier.predict(X_val)\n",
    "print(\"KNN - Validation Accuracy:\", accuracy_score(y_val, knn_val_predictions))\n",
    "print(\"KNN - Validation Report:\\n\", classification_report(y_val, knn_val_predictions))\n",
    "\n",
    "knn_test_predictions = knn_classifier.predict(X_test)\n",
    "print(\"KNN - Test Accuracy:\", accuracy_score(y_test, knn_test_predictions))\n",
    "print(\"KNN - Test Report:\\n\", classification_report(y_test, knn_test_predictions))\n",
    "\n",
    "# 종료 시간 기록 및 소요 시간 계산\n",
    "end_time = time.time()\n",
    "elapsed_time = end_time - start_time\n",
    "\n",
    "print(f\"KNN training and evaluation took {elapsed_time:.2f} seconds\")"
   ]
  },
  {
   "cell_type": "code",
   "execution_count": 14,
   "id": "1d6e8590",
   "metadata": {},
   "outputs": [
    {
     "name": "stdout",
     "output_type": "stream",
     "text": [
      "XGBoost - Validation Accuracy: 0.56995\n",
      "XGBoost - Validation Report:\n",
      "               precision    recall  f1-score   support\n",
      "\n",
      "           0       0.55      0.74      0.63     20000\n",
      "           1       0.61      0.40      0.48     20000\n",
      "\n",
      "    accuracy                           0.57     40000\n",
      "   macro avg       0.58      0.57      0.56     40000\n",
      "weighted avg       0.58      0.57      0.56     40000\n",
      "\n",
      "XGBoost - Test Accuracy: 0.56855\n",
      "XGBoost - Test Report:\n",
      "               precision    recall  f1-score   support\n",
      "\n",
      "           0       0.55      0.73      0.63     20000\n",
      "           1       0.60      0.40      0.48     20000\n",
      "\n",
      "    accuracy                           0.57     40000\n",
      "   macro avg       0.58      0.57      0.56     40000\n",
      "weighted avg       0.58      0.57      0.56     40000\n",
      "\n",
      "Gradient Boosting training and evaluation took 0.48 seconds\n"
     ]
    }
   ],
   "source": [
    "import xgboost as xgb\n",
    "\n",
    "# 타겟 변수를 수치형으로 변환 (BENIGN: 0, RANSOMWARE: 1)\n",
    "y_train = y_train.map({'BENIGN': 0, 'RANSOMWARE': 1})\n",
    "y_val = y_val.map({'BENIGN': 0, 'RANSOMWARE': 1})\n",
    "y_test = y_test.map({'BENIGN': 0, 'RANSOMWARE': 1})\n",
    "\n",
    "# 시작 시간 기록\n",
    "start_time = time.time()\n",
    "\n",
    "# 5. Gradient Boosting (using XGBoost) 학습 및 평가\n",
    "xg_classifier = xgb.XGBClassifier(random_state=42)\n",
    "xg_classifier.fit(X_train, y_train)\n",
    "\n",
    "xg_val_predictions = xg_classifier.predict(X_val)\n",
    "print(\"XGBoost - Validation Accuracy:\", accuracy_score(y_val, xg_val_predictions))\n",
    "print(\"XGBoost - Validation Report:\\n\", classification_report(y_val, xg_val_predictions))\n",
    "\n",
    "xg_test_predictions = xg_classifier.predict(X_test)\n",
    "print(\"XGBoost - Test Accuracy:\", accuracy_score(y_test, xg_test_predictions))\n",
    "print(\"XGBoost - Test Report:\\n\", classification_report(y_test, xg_test_predictions))\n",
    "\n",
    "#종료 시간 기록 및 소요 시간 계산\n",
    "end_time = time.time()\n",
    "elapsed_time = end_time - start_time\n",
    "\n",
    "print(f\"Gradient Boosting training and evaluation took {elapsed_time:.2f} seconds\")"
   ]
  },
  {
   "cell_type": "code",
   "execution_count": 15,
   "id": "2ecbc100",
   "metadata": {},
   "outputs": [
    {
     "name": "stdout",
     "output_type": "stream",
     "text": [
      "Gaussian Naive Bayes - Validation Accuracy: 0.49995\n",
      "Gaussian Naive Bayes - Validation Report:\n",
      "               precision    recall  f1-score   support\n",
      "\n",
      "           0       0.25      0.00      0.00     20000\n",
      "           1       0.50      1.00      0.67     20000\n",
      "\n",
      "    accuracy                           0.50     40000\n",
      "   macro avg       0.37      0.50      0.33     40000\n",
      "weighted avg       0.37      0.50      0.33     40000\n",
      "\n",
      "Gaussian Naive Bayes - Test Accuracy: 0.49995\n",
      "Gaussian Naive Bayes - Test Report:\n",
      "               precision    recall  f1-score   support\n",
      "\n",
      "           0       0.33      0.00      0.00     20000\n",
      "           1       0.50      1.00      0.67     20000\n",
      "\n",
      "    accuracy                           0.50     40000\n",
      "   macro avg       0.42      0.50      0.33     40000\n",
      "weighted avg       0.42      0.50      0.33     40000\n",
      "\n",
      "Gaussian Navie Bayes training and evaluation took 0.11 seconds\n"
     ]
    }
   ],
   "source": [
    "from sklearn.naive_bayes import GaussianNB\n",
    "\n",
    "# 시작 시간 기록\n",
    "start_time = time.time()\n",
    "\n",
    "# 6. Gaussian Naive Bayes 학습 및 평가\n",
    "gnb_classifier = GaussianNB()\n",
    "gnb_classifier.fit(X_train, y_train)\n",
    "\n",
    "gnb_val_predictions = gnb_classifier.predict(X_val)\n",
    "print(\"Gaussian Naive Bayes - Validation Accuracy:\", accuracy_score(y_val, gnb_val_predictions))\n",
    "print(\"Gaussian Naive Bayes - Validation Report:\\n\", classification_report(y_val, gnb_val_predictions))\n",
    "\n",
    "gnb_test_predictions = gnb_classifier.predict(X_test)\n",
    "print(\"Gaussian Naive Bayes - Test Accuracy:\", accuracy_score(y_test, gnb_test_predictions))\n",
    "print(\"Gaussian Naive Bayes - Test Report:\\n\", classification_report(y_test, gnb_test_predictions))\n",
    "\n",
    "#종료 시간 기록 및 소요 시간 계산\n",
    "end_time = time.time()\n",
    "elapsed_time = end_time - start_time\n",
    "\n",
    "print(f\"Gaussian Navie Bayes training and evaluation took {elapsed_time:.2f} seconds\")"
   ]
  }
 ],
 "metadata": {
  "kernelspec": {
   "display_name": "Python 3 (ipykernel)",
   "language": "python",
   "name": "python3"
  },
  "language_info": {
   "codemirror_mode": {
    "name": "ipython",
    "version": 3
   },
   "file_extension": ".py",
   "mimetype": "text/x-python",
   "name": "python",
   "nbconvert_exporter": "python",
   "pygments_lexer": "ipython3",
   "version": "3.10.9"
  }
 },
 "nbformat": 4,
 "nbformat_minor": 5
}
