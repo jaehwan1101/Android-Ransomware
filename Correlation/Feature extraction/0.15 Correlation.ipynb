{
 "cells": [
  {
   "cell_type": "code",
   "execution_count": 1,
   "id": "4e601f88",
   "metadata": {},
   "outputs": [],
   "source": [
    "import glob\n",
    "import numpy as np\n",
    "import pandas as pd\n",
    "from sklearn.feature_selection import SelectKBest, chi2\n",
    "from sklearn.preprocessing import MinMaxScaler\n",
    "\n",
    "# 폴더 경로 지정\n",
    "folder_path = r'C:\\Users\\pc\\Desktop\\CNN\\CIC-AndMal2017'"
   ]
  },
  {
   "cell_type": "code",
   "execution_count": 2,
   "id": "a4a518b0",
   "metadata": {},
   "outputs": [
    {
     "name": "stdout",
     "output_type": "stream",
     "text": [
      "train_benign_subset의 샘플 개수: 160000\n"
     ]
    }
   ],
   "source": [
    "benign_folder_path = r'C:\\Users\\pc\\Desktop\\CNN\\CIC-AndMal2017\\Benign'\n",
    "\n",
    "# 'Benign' 클래스의 파일 경로 리스트 받아오기\n",
    "benign_file_paths = glob.glob(benign_folder_path + '/*.csv')\n",
    "\n",
    "# 'Benign' 클래스의 데이터프레임 초기화\n",
    "benign_data = pd.DataFrame()\n",
    "\n",
    "# 'Benign' 클래스의 모든 파일 로드\n",
    "for file_path in benign_file_paths:\n",
    "    data = pd.read_csv(file_path)\n",
    "    benign_data = pd.concat([benign_data, data], ignore_index=True)\n",
    "\n",
    "# 'Benign' 클래스에서 160,000개 무작위 샘플 추출\n",
    "num_samples_benign = 160000\n",
    "labels = []\n",
    "\n",
    "if len(benign_data) > num_samples_benign:\n",
    "    train_benign_subset = benign_data.sample(n=num_samples_benign, random_state=42)\n",
    "else:\n",
    "    train_benign_subset = benign_data.copy()\n",
    "\n",
    "# Benign 데이터의 라벨을 labels 리스트에 추가\n",
    "labels.extend(train_benign_subset[' Label'].tolist())\n",
    "\n",
    "print(\"train_benign_subset의 샘플 개수:\", len(train_benign_subset))"
   ]
  },
  {
   "cell_type": "code",
   "execution_count": 3,
   "id": "d24813c1",
   "metadata": {},
   "outputs": [
    {
     "name": "stdout",
     "output_type": "stream",
     "text": [
      "train_ransomware_subset의 샘플 개수: 160000\n"
     ]
    }
   ],
   "source": [
    "ransomware_folder_list = glob.glob(folder_path + '\\\\Ransomware\\\\*')\n",
    "all_ransomware_data = pd.DataFrame()\n",
    "\n",
    "for ransomware_folder_path in ransomware_folder_list:\n",
    "    ransomware_file_paths = glob.glob(ransomware_folder_path + '/*.csv')\n",
    "    \n",
    "    # 각 랜섬웨어 클래스의 모든 파일 로드\n",
    "    for file_path in ransomware_file_paths:\n",
    "        data = pd.read_csv(file_path)\n",
    "        all_ransomware_data = pd.concat([all_ransomware_data, data], ignore_index=True)\n",
    "\n",
    "# 전체 랜섬웨어 데이터에서 160,000개 샘플 무작위로 추출\n",
    "if len(all_ransomware_data) > 160000:\n",
    "    train_ransomware_subset = all_ransomware_data.sample(n=160000, random_state=42, replace=False)\n",
    "else:\n",
    "    train_ransomware_subset = all_ransomware_data.copy()\n",
    "\n",
    "# 랜섬웨어 데이터의 라벨을 labels 리스트에 추가\n",
    "labels.extend(train_ransomware_subset[' Label'].tolist())\n",
    "\n",
    "print(\"train_ransomware_subset의 샘플 개수:\", len(train_ransomware_subset))"
   ]
  },
  {
   "cell_type": "code",
   "execution_count": 4,
   "id": "35c6c7b2",
   "metadata": {},
   "outputs": [
    {
     "name": "stdout",
     "output_type": "stream",
     "text": [
      "최종 train 데이터세트의 샘플 개수: 320000\n"
     ]
    }
   ],
   "source": [
    "# 'Benign' 클래스와 랜섬웨어 클래스의 데이터프레임들을 합치기\n",
    "train_dataset = pd.concat([train_benign_subset, train_ransomware_subset], ignore_index=True)\n",
    "\n",
    "print(\"최종 train 데이터세트의 샘플 개수:\", len(train_dataset))"
   ]
  },
  {
   "cell_type": "code",
   "execution_count": 5,
   "id": "304fb3e7",
   "metadata": {},
   "outputs": [
    {
     "name": "stdout",
     "output_type": "stream",
     "text": [
      "정규화된 선택된 특성들의 데이터프레임:\n",
      "    ACK Flag Count   Active Max   Active Min   Active Std  \\\n",
      "0              0.0     0.000000     0.000000          0.0   \n",
      "1              1.0     0.000000     0.000000          0.0   \n",
      "2              0.0     0.001415     0.001415          0.0   \n",
      "3              0.0     0.000000     0.000000          0.0   \n",
      "4              1.0     0.000000     0.000000          0.0   \n",
      "\n",
      "    Average Packet Size   Avg Bwd Segment Size   Bwd Header Length  \\\n",
      "0              0.050957               0.070548            0.999152   \n",
      "1              0.000000               0.000000            0.999152   \n",
      "2              0.042511               0.025616            0.999152   \n",
      "3              0.120576               0.089212            0.999152   \n",
      "4              0.019426               0.000000            0.999152   \n",
      "\n",
      "    Bwd Packet Length Mean   Bwd Packet Length Std   Bwd Packets/s  ...  \\\n",
      "0                 0.070548                0.000000    1.049131e-05  ...   \n",
      "1                 0.000000                0.000000    3.869655e-06  ...   \n",
      "2                 0.025616                0.059695    4.879725e-07  ...   \n",
      "3                 0.089212                0.229885    7.986280e-06  ...   \n",
      "4                 0.000000                0.000000    0.000000e+00  ...   \n",
      "\n",
      "    Total Fwd Packets   Total Length of Bwd Packets   act_data_pkt_fwd  \\\n",
      "0            0.000000                      0.000005           0.000000   \n",
      "1            0.000000                      0.000000           0.000000   \n",
      "2            0.000594                      0.000009           0.000297   \n",
      "3            0.000297                      0.000024           0.000149   \n",
      "4            0.000149                      0.000000           0.000149   \n",
      "\n",
      "    min_seg_size_forward  Active Mean  Bwd Packet Length Max  Flow Bytes/s  \\\n",
      "0               0.891079     0.000000               0.007904  1.124351e-05   \n",
      "1               0.891079     0.000000               0.000000  0.000000e+00   \n",
      "2               0.891079     0.001415               0.011971  5.561045e-07   \n",
      "3               0.891079     0.000000               0.039979  2.258761e-05   \n",
      "4               0.891079     0.000000               0.000000  1.169069e-07   \n",
      "\n",
      "   Init_Win_bytes_forward  Subflow Fwd Packets  Total Length of Fwd Packets  \n",
      "0                0.000000             0.000000                     0.000004  \n",
      "1                0.021164             0.000000                     0.000000  \n",
      "2                1.000000             0.000594                     0.000058  \n",
      "3                1.000000             0.000297                     0.000101  \n",
      "4                0.022690             0.000149                     0.000005  \n",
      "\n",
      "[5 rows x 32 columns]\n"
     ]
    }
   ],
   "source": [
    "from sklearn.preprocessing import MinMaxScaler\n",
    "from sklearn.impute import SimpleImputer\n",
    "\n",
    "# 상관분석으로 선택된 특성들만 사용\n",
    "selected_features = [\n",
    "    ' ACK Flag Count',\n",
    "    ' Active Max',\n",
    "    ' Active Min',\n",
    "    ' Active Std',\n",
    "    ' Average Packet Size',\n",
    "    ' Avg Bwd Segment Size',\n",
    "    ' Bwd Header Length',\n",
    "    ' Bwd Packet Length Mean',\n",
    "    ' Bwd Packet Length Std',\n",
    "    ' Bwd Packets/s',\n",
    "    ' Flow Packets/s',\n",
    "    ' Fwd Header Length',\n",
    "    ' Fwd Packet Length Max',\n",
    "    ' Idle Std',\n",
    "    ' Max Packet Length',\n",
    "    ' PSH Flag Count',\n",
    "    ' Packet Length Mean',\n",
    "    ' Packet Length Variance',\n",
    "    ' Subflow Bwd Bytes',\n",
    "    ' Subflow Bwd Packets',\n",
    "    ' Subflow Fwd Bytes',\n",
    "    ' Total Backward Packets',\n",
    "    ' Total Fwd Packets',\n",
    "    ' Total Length of Bwd Packets',\n",
    "    ' act_data_pkt_fwd',\n",
    "    ' min_seg_size_forward',\n",
    "    'Active Mean',\n",
    "    'Bwd Packet Length Max',\n",
    "    'Flow Bytes/s',\n",
    "    'Init_Win_bytes_forward',\n",
    "    'Subflow Fwd Packets',\n",
    "    'Total Length of Fwd Packets'\n",
    "]\n",
    "\n",
    "# 선택된 특성만 포함하는 데이터프레임 생성\n",
    "X_selected = train_dataset[selected_features]\n",
    "\n",
    "# 데이터 스케일링\n",
    "scaler = MinMaxScaler()\n",
    "scaler.fit(train_dataset[selected_features])  # 스케일러 학습\n",
    "X_scaled = scaler.transform(train_dataset[selected_features])  # 훈련 데이터에 스케일러 적용\n",
    "\n",
    "# 정규화된 특성들을 데이터프레임으로 변환\n",
    "X_normalized = pd.DataFrame(X_scaled, columns=selected_features)\n",
    "\n",
    "# 타깃 변수 데이터로 변환\n",
    "y = np.array(labels)\n",
    "\n",
    "# 결과 출력\n",
    "print(\"정규화된 선택된 특성들의 데이터프레임:\")\n",
    "print(X_normalized.head())"
   ]
  },
  {
   "cell_type": "code",
   "execution_count": 6,
   "id": "d449925c",
   "metadata": {},
   "outputs": [
    {
     "name": "stdout",
     "output_type": "stream",
     "text": [
      "6x6 크기의 2차원 행렬:\n",
      "[0.         0.         0.         0.         0.05095721 0.07054795]\n",
      "[9.99151869e-01 7.05479452e-02 0.00000000e+00 1.04913080e-05\n",
      " 1.04829678e-05 9.93128604e-01]\n",
      "[0.00192384 0.         0.0050809  0.         0.04295206 0.00019831]\n",
      "[4.79270392e-06 6.70690812e-05 4.00783933e-06 6.70690812e-05\n",
      " 0.00000000e+00 4.79270392e-06]\n",
      "[0.00000000e+00 8.91079304e-01 0.00000000e+00 7.90362185e-03\n",
      " 1.12435149e-05 0.00000000e+00]\n",
      "[0.00000000e+00 4.00783933e-06 0.00000000e+00 0.00000000e+00\n",
      " 0.00000000e+00 0.00000000e+00]\n"
     ]
    }
   ],
   "source": [
    "X_padded = np.pad(X_normalized.values, ((0, 0), (0, 4)), mode='constant', constant_values=0)\n",
    "\n",
    "# 선택된 특성을 6x6 크기의 2차원 행렬로 변환\n",
    "num_rows = 6\n",
    "num_columns = 6\n",
    "X_final_reshaped = X_padded.reshape(-1, num_rows, num_columns)\n",
    "\n",
    "# 결과 출력\n",
    "print(\"6x6 크기의 2차원 행렬:\")\n",
    "for i in range(num_rows):\n",
    "    print(X_final_reshaped[0][i])  # 첫 번째 샘플에 해당하는 2x3 행렬 출력"
   ]
  },
  {
   "cell_type": "code",
   "execution_count": 7,
   "id": "6e595ec5",
   "metadata": {},
   "outputs": [
    {
     "name": "stdout",
     "output_type": "stream",
     "text": [
      "이미지 변환 및 저장이 완료되었습니다.\n"
     ]
    }
   ],
   "source": [
    "from PIL import Image\n",
    "import os\n",
    "\n",
    "# 이미지를 저장할 폴더를 생성합니다.\n",
    "save_folder = r'C:\\Users\\pc\\Desktop\\CNN\\Correlation\\0.15_threshold\\Train_Image\\\\'\n",
    "os.makedirs(os.path.join(save_folder, \"Benign\"), exist_ok=True)\n",
    "os.makedirs(os.path.join(save_folder, \"Ransomware\"), exist_ok=True)\n",
    "\n",
    "# 이미지 확대 비율 설정\n",
    "resize_factor = 10  # 10배 확대\n",
    "\n",
    "# X_final_reshaped를 이미지로 변환하여 저장합니다.\n",
    "num_samples = X_final_reshaped.shape[0]\n",
    "for i in range(num_samples):\n",
    "    # 1채널 16비트 PNG 이미지 생성\n",
    "    image_data = X_final_reshaped[i]\n",
    "    image_data = (image_data * 65535).astype('uint16')  # 16비트로 변환\n",
    "    image = Image.fromarray(image_data, 'I;16')  # 16비트 단일 채널 이미지로 변환\n",
    "\n",
    "    # 이미지 데이터 확대\n",
    "    image_data = np.repeat(image_data, resize_factor, axis=0)  # 행 확대\n",
    "    image_data = np.repeat(image_data, resize_factor, axis=1)  # 열 확대\n",
    "    \n",
    "    # 확대된 데이터를 다시 이미지로 변환\n",
    "    image = Image.fromarray(image_data, 'I;16')  # 16비트 단일 채널 이미지로 변환\n",
    "    \n",
    "    # 이미지의 라벨에 따라서 저장 위치 및 파일명 설정\n",
    "    if i < 160000:\n",
    "        label = \"Benign\"\n",
    "    else:\n",
    "        label = \"Ransomware\"\n",
    "\n",
    "    image_filename = f\"image_{i}.png\"\n",
    "    image_filepath = os.path.join(save_folder, label, image_filename)\n",
    "\n",
    "    # 해당 경로에 이미지가 이미 존재하는 경우 건너뛴다.\n",
    "    if os.path.exists(image_filepath):\n",
    "        continue\n",
    "\n",
    "    image.save(image_filepath)\n",
    "\n",
    "print(\"이미지 변환 및 저장이 완료되었습니다.\")"
   ]
  },
  {
   "cell_type": "code",
   "execution_count": 8,
   "id": "7e228173",
   "metadata": {},
   "outputs": [],
   "source": [
    "import os\n",
    "import cv2\n",
    "import numpy as np\n",
    "\n",
    "# 라벨 목록 및 해당 라벨에 대한 정수 값 지정\n",
    "label_mapping = {\n",
    "    \"Benign\": 0,\n",
    "    \"Ransomware\": 1\n",
    "}\n",
    "\n",
    "# 이미지 데이터를 저장한 폴더 경로\n",
    "image_folder = r'C:\\Users\\pc\\Desktop\\CNN\\Correlation\\0.15_threshold\\Train_Image\\\\'\n",
    "X_data = []\n",
    "y_labels = []\n",
    "\n",
    "# 모든 라벨마다 폴더를 순회합니다.\n",
    "for label_str, label_int in label_mapping.items():\n",
    "    folder_path = os.path.join(image_folder, label_str)  # 해당 라벨의 폴더 경로\n",
    "    \n",
    "    # 해당 폴더 내의 모든 이미지 파일을 순차적으로 처리\n",
    "    for filename in os.listdir(folder_path):\n",
    "        image_path = os.path.join(folder_path, filename)\n",
    "        \n",
    "        # 16-bit 이미지 로딩\n",
    "        image = cv2.imread(image_path, cv2.IMREAD_UNCHANGED)\n",
    "        \n",
    "        if image is None:  # 이미지 로딩 실패\n",
    "            print(f\"Failed to load image at path: {image_path}\")\n",
    "            continue\n",
    "        \n",
    "        X_data.append(image)\n",
    "        y_labels.append(label_int)\n",
    "\n",
    "X_data = np.array(X_data, dtype=np.uint16)  # uint16 형태로 이미지 데이터 저장\n",
    "y_labels = np.array(y_labels)"
   ]
  },
  {
   "cell_type": "code",
   "execution_count": 9,
   "id": "dd7bff3c",
   "metadata": {},
   "outputs": [
    {
     "name": "stdout",
     "output_type": "stream",
     "text": [
      "Label 0 has 160000 samples\n",
      "Label 1 has 160000 samples\n",
      "Showing images for label: Benign\n"
     ]
    },
    {
     "data": {
      "image/png": "[encoded data removed]",
      "text/plain": [
       "<Figure size 1500x300 with 5 Axes>"
      ]
     },
     "metadata": {},
     "output_type": "display_data"
    },
    {
     "name": "stdout",
     "output_type": "stream",
     "text": [
      "Showing images for label: Ransomware\n"
     ]
    },
    {
     "data": {
      "image/png": "[encoded data removed]",
      "text/plain": [
       "<Figure size 1500x300 with 5 Axes>"
      ]
     },
     "metadata": {},
     "output_type": "display_data"
    }
   ],
   "source": [
    "import numpy as np\n",
    "from collections import Counter\n",
    "import matplotlib.pyplot as plt\n",
    "\n",
    "# 라벨의 분포를 확인합니다.\n",
    "label_counts = Counter(y_labels)\n",
    "for label, count in label_counts.items():\n",
    "    print(f\"Label {label} has {count} samples\")\n",
    "\n",
    "# 라벨별로 이미지 몇 개를 시각화합니다.\n",
    "num_images_to_show = 5  # 시각화할 이미지의 수를 설정합니다.\n",
    "\n",
    "for label in label_mapping:\n",
    "    print(f\"Showing images for label: {label}\")\n",
    "    indices = [i for i, l in enumerate(y_labels) if l == label_mapping[label]]\n",
    "    fig, axes = plt.subplots(1, num_images_to_show, figsize=(15, 3))\n",
    "    for ax, idx in zip(axes, indices[:num_images_to_show]):\n",
    "        ax.imshow(X_data[idx], cmap='gray')  # 16비트 이미지이므로 cmap='gray'를 사용합니다.\n",
    "        ax.axis('off')\n",
    "    plt.show()"
   ]
  },
  {
   "cell_type": "code",
   "execution_count": 10,
   "id": "b900c422",
   "metadata": {},
   "outputs": [
    {
     "name": "stdout",
     "output_type": "stream",
     "text": [
      "validation_benign_subset의 샘플 개수: 20000\n"
     ]
    }
   ],
   "source": [
    "# train_benign_subset에 포함되지 않은 데이터 선택\n",
    "validation_data_candidate = benign_data.drop(train_benign_subset.index)\n",
    "\n",
    "# 선택된 데이터 중에서 20,000개를 무작위로 선택\n",
    "num_samples_validation = 20000\n",
    "if len(validation_data_candidate) > num_samples_validation:\n",
    "    validation_benign_subset = validation_data_candidate.sample(n=num_samples_validation, random_state=42)\n",
    "else:\n",
    "    validation_benign_subset = validation_data_candidate.copy()\n",
    "\n",
    "print(\"validation_benign_subset의 샘플 개수:\", len(validation_benign_subset))"
   ]
  },
  {
   "cell_type": "code",
   "execution_count": 11,
   "id": "c69ba35e",
   "metadata": {},
   "outputs": [
    {
     "name": "stdout",
     "output_type": "stream",
     "text": [
      "validation_ransomware_subset의 샘플 개수: 20000\n"
     ]
    }
   ],
   "source": [
    "# train_ransomware_subset에 포함되지 않은 랜섬웨어 데이터 선택\n",
    "validation_ransomware_candidate = all_ransomware_data.drop(train_ransomware_subset.index)\n",
    "\n",
    "# 선택된 데이터 중에서 20,000개를 무작위로 선택\n",
    "num_samples_validation_ransomware = 20000\n",
    "if len(validation_ransomware_candidate) > num_samples_validation_ransomware:\n",
    "    validation_ransomware_subset = validation_ransomware_candidate.sample(n=num_samples_validation_ransomware, random_state=42)\n",
    "else:\n",
    "    validation_ransomware_subset = validation_ransomware_candidate.copy()\n",
    "\n",
    "print(\"validation_ransomware_subset의 샘플 개수:\", len(validation_ransomware_subset))"
   ]
  },
  {
   "cell_type": "code",
   "execution_count": 12,
   "id": "f5e58aa2",
   "metadata": {},
   "outputs": [
    {
     "name": "stdout",
     "output_type": "stream",
     "text": [
      "RANSOMWARE_SVPENG         3114\n",
      "RANSOMWARE_PORNDROID      2664\n",
      "RANSOMWARE_KOLER          2542\n",
      "RANSOMWARE_RANSOMBO       2248\n",
      "RANSOMWARE_CHARGER        2219\n",
      "RANSOMWARE_SIMPLOCKER     2086\n",
      "RANSOMWARE_WANNALOCKER    1893\n",
      "RANSOMWARE_LOCKERPIN      1495\n",
      "RANSOMWARE_JISUT          1477\n",
      "RANSOMWARE_PLETOR          262\n",
      "Name:  Label, dtype: int64\n"
     ]
    }
   ],
   "source": [
    "class_counts = validation_ransomware_subset[' Label'].value_counts()\n",
    "print(class_counts)"
   ]
  },
  {
   "cell_type": "code",
   "execution_count": 13,
   "id": "63a24b90",
   "metadata": {},
   "outputs": [
    {
     "name": "stdout",
     "output_type": "stream",
     "text": [
      "최종 validation 데이터세트의 샘플 개수: 40000\n"
     ]
    }
   ],
   "source": [
    "# 'Benign' 클래스와 랜섬웨어 클래스의 데이터프레임들을 합치기\n",
    "validation_dataset = pd.concat([validation_benign_subset, validation_ransomware_subset], ignore_index=True)\n",
    "\n",
    "print(\"최종 validation 데이터세트의 샘플 개수:\", len(validation_dataset))"
   ]
  },
  {
   "cell_type": "code",
   "execution_count": 14,
   "id": "18c470d1",
   "metadata": {},
   "outputs": [
    {
     "name": "stdout",
     "output_type": "stream",
     "text": [
      "정규화된 선택된 특성들의 데이터프레임:\n",
      "    ACK Flag Count   Active Max   Active Min   Active Std  \\\n",
      "0              0.0          0.0          0.0          0.0   \n",
      "1              0.0          0.0          0.0          0.0   \n",
      "2              1.0          0.0          0.0          0.0   \n",
      "3              0.0          0.0          0.0          0.0   \n",
      "4              0.0          0.0          0.0          0.0   \n",
      "\n",
      "    Average Packet Size   Avg Bwd Segment Size   Bwd Header Length  \\\n",
      "0              0.240616               0.339937            0.999152   \n",
      "1              0.000000               0.000000            0.999152   \n",
      "2              0.000000               0.000000            0.999152   \n",
      "3              0.096284               0.168493            0.999152   \n",
      "4              0.000000               0.000000            0.999152   \n",
      "\n",
      "    Bwd Packet Length Mean   Bwd Packet Length Std   Bwd Packets/s  ...  \\\n",
      "0                 0.339937                0.543822    5.774921e-06  ...   \n",
      "1                 0.000000                0.000000    5.228724e-08  ...   \n",
      "2                 0.000000                0.000000    4.636069e-04  ...   \n",
      "3                 0.168493                0.000000    1.629567e-05  ...   \n",
      "4                 0.000000                0.000000    0.000000e+00  ...   \n",
      "\n",
      "    Total Fwd Packets   Total Length of Bwd Packets   act_data_pkt_fwd  \\\n",
      "0            0.001485                      0.000300           0.000891   \n",
      "1            0.000297                      0.000000           0.000000   \n",
      "2            0.000000                      0.000000           0.000000   \n",
      "3            0.000000                      0.000011           0.000000   \n",
      "4            0.000149                      0.000000           0.000000   \n",
      "\n",
      "    min_seg_size_forward  Active Mean  Bwd Packet Length Max  Flow Bytes/s  \\\n",
      "0               0.891079          0.0               0.098297      0.000034   \n",
      "1               0.891079          0.0               0.000000      0.000000   \n",
      "2               0.891079          0.0               0.000000      0.000000   \n",
      "3               0.891079          0.0               0.018877      0.000036   \n",
      "4               0.891079          0.0               0.000000      0.000000   \n",
      "\n",
      "   Init_Win_bytes_forward  Subflow Fwd Packets  Total Length of Fwd Packets  \n",
      "0                1.000000             0.001485                     0.000391  \n",
      "1                1.000000             0.000297                     0.000000  \n",
      "2                0.005463             0.000000                     0.000000  \n",
      "3                0.000000             0.000000                     0.000005  \n",
      "4                0.000000             0.000149                     0.000000  \n",
      "\n",
      "[5 rows x 32 columns]\n"
     ]
    }
   ],
   "source": [
    "from sklearn.preprocessing import MinMaxScaler\n",
    "from sklearn.impute import SimpleImputer\n",
    "\n",
    "# 상관분석으로 선택된 특성들만 사용\n",
    "selected_features = [\n",
    "    ' ACK Flag Count',\n",
    "    ' Active Max',\n",
    "    ' Active Min',\n",
    "    ' Active Std',\n",
    "    ' Average Packet Size',\n",
    "    ' Avg Bwd Segment Size',\n",
    "    ' Bwd Header Length',\n",
    "    ' Bwd Packet Length Mean',\n",
    "    ' Bwd Packet Length Std',\n",
    "    ' Bwd Packets/s',\n",
    "    ' Flow Packets/s',\n",
    "    ' Fwd Header Length',\n",
    "    ' Fwd Packet Length Max',\n",
    "    ' Idle Std',\n",
    "    ' Max Packet Length',\n",
    "    ' PSH Flag Count',\n",
    "    ' Packet Length Mean',\n",
    "    ' Packet Length Variance',\n",
    "    ' Subflow Bwd Bytes',\n",
    "    ' Subflow Bwd Packets',\n",
    "    ' Subflow Fwd Bytes',\n",
    "    ' Total Backward Packets',\n",
    "    ' Total Fwd Packets',\n",
    "    ' Total Length of Bwd Packets',\n",
    "    ' act_data_pkt_fwd',\n",
    "    ' min_seg_size_forward',\n",
    "    'Active Mean',\n",
    "    'Bwd Packet Length Max',\n",
    "    'Flow Bytes/s',\n",
    "    'Init_Win_bytes_forward',\n",
    "    'Subflow Fwd Packets',\n",
    "    'Total Length of Fwd Packets'\n",
    "]\n",
    "\n",
    "# 선택된 특성만 포함하는 데이터프레임 생성\n",
    "val_X_selected = validation_dataset[selected_features]\n",
    "\n",
    "# 앞서 훈련 데이터에 대해 학습한 MinMaxScaler 인스턴스를 사용하여 검증 데이터를 변환\n",
    "val_X_scaled = scaler.transform(val_X_selected)\n",
    "\n",
    "# 정규화된 특성들을 데이터프레임으로 변환\n",
    "val_X_normalized = pd.DataFrame(val_X_scaled, columns=selected_features)\n",
    "\n",
    "# 타깃 변수 데이터로 변환\n",
    "y = np.array(labels)\n",
    "\n",
    "# 결과 출력\n",
    "print(\"정규화된 선택된 특성들의 데이터프레임:\")\n",
    "print(val_X_normalized.head())"
   ]
  },
  {
   "cell_type": "code",
   "execution_count": 15,
   "id": "3e8d48d3",
   "metadata": {},
   "outputs": [
    {
     "name": "stdout",
     "output_type": "stream",
     "text": [
      "6x6 크기의 2차원 행렬:\n",
      "[0.         0.         0.         0.         0.24061562 0.33993678]\n",
      "[9.99151871e-01 3.39936776e-01 5.43821623e-01 5.77492112e-06\n",
      " 5.32235618e-06 9.93128606e-01]\n",
      "[0.03413575 0.         0.06319061 1.         0.29205505 0.03621741]\n",
      "[0.00030022 0.0008719  0.00039092 0.0008719  0.001485   0.00030022]\n",
      "[8.91000891e-04 8.91079311e-01 0.00000000e+00 9.82965009e-02\n",
      " 3.43846682e-05 1.00000000e+00]\n",
      "[0.001485   0.00039092 0.         0.         0.         0.        ]\n"
     ]
    }
   ],
   "source": [
    "val_X_padded = np.pad(val_X_normalized.values, ((0, 0), (0, 4)), mode='constant', constant_values=0)\n",
    "\n",
    "# 선택된 특성을 6x6 크기의 2차원 행렬로 변환\n",
    "num_rows = 6\n",
    "num_columns = 6\n",
    "X_val_reshaped = val_X_padded.reshape(-1, num_rows, num_columns)\n",
    "\n",
    "# 결과 출력\n",
    "print(\"6x6 크기의 2차원 행렬:\")\n",
    "for i in range(num_rows):\n",
    "    print(X_val_reshaped[0][i])  # 첫 번째 샘플에 해당하는 2x3 행렬 출력"
   ]
  },
  {
   "cell_type": "code",
   "execution_count": 16,
   "id": "ad5a3629",
   "metadata": {},
   "outputs": [
    {
     "name": "stdout",
     "output_type": "stream",
     "text": [
      "이미지 변환 및 저장이 완료되었습니다.\n"
     ]
    }
   ],
   "source": [
    "from PIL import Image\n",
    "import os\n",
    "\n",
    "# 이미지를 저장할 폴더를 생성합니다.\n",
    "save_folder = r'C:\\Users\\pc\\Desktop\\CNN\\Correlation\\0.15_threshold\\Validation_Image\\\\'\n",
    "os.makedirs(os.path.join(save_folder, \"Benign\"), exist_ok=True)\n",
    "os.makedirs(os.path.join(save_folder, \"Ransomware\"), exist_ok=True)\n",
    "\n",
    "# 이미지 확대 비율 설정\n",
    "resize_factor = 10  # 10배 확대\n",
    "\n",
    "# X_final_reshaped를 이미지로 변환하여 저장합니다.\n",
    "num_samples = X_val_reshaped.shape[0]\n",
    "for i in range(num_samples):\n",
    "    # 1채널 16비트 PNG 이미지 생성\n",
    "    image_data = X_val_reshaped[i]\n",
    "    image_data = (image_data * 65535).astype('uint16')  # 16비트로 변환\n",
    "    image = Image.fromarray(image_data, 'I;16')  # 16비트 단일 채널 이미지로 변환\n",
    "\n",
    "    # 이미지 데이터 확대\n",
    "    image_data = np.repeat(image_data, resize_factor, axis=0)  # 행 확대\n",
    "    image_data = np.repeat(image_data, resize_factor, axis=1)  # 열 확대\n",
    "    \n",
    "    # 확대된 데이터를 다시 이미지로 변환\n",
    "    image = Image.fromarray(image_data, 'I;16')  # 16비트 단일 채널 이미지로 변환\n",
    "    \n",
    "    # 이미지의 라벨에 따라서 저장 위치 및 파일명 설정\n",
    "    if i < 20000:\n",
    "        label = \"Benign\"\n",
    "    else:\n",
    "        label = \"Ransomware\"\n",
    "\n",
    "    image_filename = f\"image_{i}.png\"\n",
    "    image_filepath = os.path.join(save_folder, label, image_filename)\n",
    "\n",
    "    # 해당 경로에 이미지가 이미 존재하는 경우 건너뛴다.\n",
    "    if os.path.exists(image_filepath):\n",
    "        continue\n",
    "\n",
    "    image.save(image_filepath)\n",
    "\n",
    "print(\"이미지 변환 및 저장이 완료되었습니다.\")"
   ]
  },
  {
   "cell_type": "code",
   "execution_count": 17,
   "id": "ed8eb97b",
   "metadata": {},
   "outputs": [],
   "source": [
    "import os\n",
    "import cv2\n",
    "import numpy as np\n",
    "\n",
    "# 라벨 목록 및 해당 라벨에 대한 정수 값 지정\n",
    "label_mapping = {\n",
    "    \"Benign\": 0,\n",
    "    \"Ransomware\": 1\n",
    "}\n",
    "\n",
    "# 이미지 데이터를 저장한 폴더 경로\n",
    "image_folder = r'C:\\Users\\pc\\Desktop\\CNN\\Correlation\\0.15_threshold\\Validation_Image\\\\'  # Modified path to \"Validation_Image\"\n",
    "\n",
    "X_val_data = []  # Changed variable name to X_val_data for clarity\n",
    "y_val_labels = []  # Changed variable name to y_val_labels for clarity\n",
    "\n",
    "# 모든 라벨마다 폴더를 순회합니다.\n",
    "for label_str, label_int in label_mapping.items():\n",
    "    folder_path = os.path.join(image_folder, label_str)  # 해당 라벨의 폴더 경로\n",
    "    \n",
    "    # 해당 폴더 내의 모든 이미지 파일을 순차적으로 처리\n",
    "    for filename in os.listdir(folder_path):\n",
    "        image_path = os.path.join(folder_path, filename)\n",
    "        \n",
    "        # 16-bit 이미지 로딩\n",
    "        image = cv2.imread(image_path, cv2.IMREAD_UNCHANGED)\n",
    "        \n",
    "        if image is None:  # 이미지 로딩 실패\n",
    "            print(f\"Failed to load image at path: {image_path}\")\n",
    "            continue\n",
    "        \n",
    "        X_val_data.append(image)  # Changed variable name\n",
    "        y_val_labels.append(label_int)  # Changed variable name\n",
    "\n",
    "X_val_data = np.array(X_val_data, dtype=np.uint16)  # uint16 형태로 이미지 데이터 저장, changed variable name\n",
    "y_val_labels = np.array(y_val_labels)  # Changed variable name"
   ]
  },
  {
   "cell_type": "code",
   "execution_count": 18,
   "id": "b773cbbe",
   "metadata": {},
   "outputs": [
    {
     "name": "stdout",
     "output_type": "stream",
     "text": [
      "Label 0 has 160000 samples\n",
      "Label 1 has 160000 samples\n",
      "Showing images for label: Benign\n"
     ]
    },
    {
     "data": {
      "image/png": "[encoded data removed]",
      "text/plain": [
       "<Figure size 1500x300 with 5 Axes>"
      ]
     },
     "metadata": {},
     "output_type": "display_data"
    },
    {
     "name": "stdout",
     "output_type": "stream",
     "text": [
      "Showing images for label: Ransomware\n"
     ]
    },
    {
     "data": {
      "image/png": "[encoded data removed]",
      "text/plain": [
       "<Figure size 1500x300 with 5 Axes>"
      ]
     },
     "metadata": {},
     "output_type": "display_data"
    }
   ],
   "source": [
    "import numpy as np\n",
    "from collections import Counter\n",
    "import matplotlib.pyplot as plt\n",
    "\n",
    "# 라벨의 분포를 확인합니다.\n",
    "label_counts = Counter(y_labels)\n",
    "for label, count in label_counts.items():\n",
    "    print(f\"Label {label} has {count} samples\")\n",
    "\n",
    "# 라벨별로 이미지 몇 개를 시각화합니다.\n",
    "num_images_to_show = 5  # 시각화할 이미지의 수를 설정합니다.\n",
    "\n",
    "for label in label_mapping:\n",
    "    print(f\"Showing images for label: {label}\")\n",
    "    indices = [i for i, l in enumerate(y_val_labels) if l == label_mapping[label]]\n",
    "    fig, axes = plt.subplots(1, num_images_to_show, figsize=(15, 3))\n",
    "    for ax, idx in zip(axes, indices[:num_images_to_show]):\n",
    "        ax.imshow(X_val_data[idx], cmap='gray')  # 16비트 이미지이므로 cmap='gray'를 사용합니다.\n",
    "        ax.axis('off')\n",
    "    plt.show()"
   ]
  },
  {
   "cell_type": "code",
   "execution_count": 19,
   "id": "7eeea6d5",
   "metadata": {},
   "outputs": [
    {
     "name": "stdout",
     "output_type": "stream",
     "text": [
      "test_benign_subset의 샘플 개수: 20000\n"
     ]
    }
   ],
   "source": [
    "# train_benign_subset 및 validation_benign_subset에 포함되지 않은 데이터 선택\n",
    "test_data_candidate = benign_data.drop(train_benign_subset.index).drop(validation_benign_subset.index)\n",
    "\n",
    "# 선택된 데이터 중에서 20,000개를 무작위로 선택\n",
    "num_samples_test = 20000\n",
    "if len(test_data_candidate) > num_samples_test:\n",
    "    test_benign_subset = test_data_candidate.sample(n=num_samples_test, random_state=42)\n",
    "else:\n",
    "    test_benign_subset = test_data_candidate.copy()\n",
    "\n",
    "print(\"test_benign_subset의 샘플 개수:\", len(test_benign_subset))"
   ]
  },
  {
   "cell_type": "code",
   "execution_count": 20,
   "id": "db914c7e",
   "metadata": {},
   "outputs": [
    {
     "name": "stdout",
     "output_type": "stream",
     "text": [
      "test_ransomware_subset의 샘플 개수: 20000\n"
     ]
    }
   ],
   "source": [
    "# validation_ransomware_subset에 포함되지 않은 랜섬웨어 데이터 선택\n",
    "test_ransomware_candidate = validation_ransomware_candidate.drop(validation_ransomware_subset.index)\n",
    "\n",
    "# 선택된 데이터 중에서 20,000개를 무작위로 선택\n",
    "num_samples_test_ransomware = 20000\n",
    "if len(test_ransomware_candidate) > num_samples_test_ransomware:\n",
    "    test_ransomware_subset = test_ransomware_candidate.sample(n=num_samples_test_ransomware, random_state=42)\n",
    "else:\n",
    "    test_ransomware_subset = test_ransomware_candidate.copy()\n",
    "\n",
    "print(\"test_ransomware_subset의 샘플 개수:\", len(test_ransomware_subset))"
   ]
  },
  {
   "cell_type": "code",
   "execution_count": 21,
   "id": "0983322f",
   "metadata": {},
   "outputs": [
    {
     "name": "stdout",
     "output_type": "stream",
     "text": [
      "최종 test 데이터세트의 샘플 개수: 40000\n"
     ]
    }
   ],
   "source": [
    "# 'Benign' 클래스와 랜섬웨어 클래스의 데이터프레임들을 합치기\n",
    "test_dataset = pd.concat([test_benign_subset, test_ransomware_subset], ignore_index=True)\n",
    "\n",
    "print(\"최종 test 데이터세트의 샘플 개수:\", len(test_dataset))"
   ]
  },
  {
   "cell_type": "code",
   "execution_count": 22,
   "id": "d41bd096",
   "metadata": {},
   "outputs": [
    {
     "name": "stdout",
     "output_type": "stream",
     "text": [
      "정규화된 선택된 특성들의 데이터프레임:\n",
      "    ACK Flag Count   Active Max   Active Min   Active Std  \\\n",
      "0              0.0          0.0          0.0          0.0   \n",
      "1              0.0          0.0          0.0          0.0   \n",
      "2              0.0          0.0          0.0          0.0   \n",
      "3              0.0          0.0          0.0          0.0   \n",
      "4              0.0          0.0          0.0          0.0   \n",
      "\n",
      "    Average Packet Size   Avg Bwd Segment Size   Bwd Header Length  \\\n",
      "0              0.196767               0.341324            0.999152   \n",
      "1              0.169388               0.434075            0.999152   \n",
      "2              0.089527               0.165753            0.999152   \n",
      "3              0.331300               0.394178            0.999152   \n",
      "4              0.000000               0.000000            0.999152   \n",
      "\n",
      "    Bwd Packet Length Mean   Bwd Packet Length Std   Bwd Packets/s  ...  \\\n",
      "0                 0.341324                0.526239    4.671853e-06  ...   \n",
      "1                 0.434075                0.632206    7.629267e-07  ...   \n",
      "2                 0.165753                0.000000    9.624639e-04  ...   \n",
      "3                 0.394178                0.589968    2.005033e-05  ...   \n",
      "4                 0.000000                0.000000    9.884990e-08  ...   \n",
      "\n",
      "    Total Fwd Packets   Total Length of Bwd Packets   act_data_pkt_fwd  \\\n",
      "0            0.001634                      0.000278           0.000594   \n",
      "1            0.001337                      0.000236           0.000297   \n",
      "2            0.000000                      0.000011           0.000000   \n",
      "3            0.001040                      0.000268           0.001040   \n",
      "4            0.000297                      0.000000           0.000000   \n",
      "\n",
      "    min_seg_size_forward  Active Mean  Bwd Packet Length Max  Flow Bytes/s  \\\n",
      "0               0.891079          0.0               0.111111      0.000025   \n",
      "1               0.891079          0.0               0.112032      0.000004   \n",
      "2               0.891079          0.0               0.018570      0.002034   \n",
      "3               0.891079          0.0               0.103591      0.000140   \n",
      "4               0.891079          0.0               0.000000      0.000000   \n",
      "\n",
      "   Init_Win_bytes_forward  Subflow Fwd Packets  Total Length of Fwd Packets  \n",
      "0                     1.0             0.001634                     0.000247  \n",
      "1                     1.0             0.001337                     0.000035  \n",
      "2                     0.0             0.000000                     0.000004  \n",
      "3                     0.0             0.001040                     0.000358  \n",
      "4                     1.0             0.000297                     0.000000  \n",
      "\n",
      "[5 rows x 32 columns]\n"
     ]
    }
   ],
   "source": [
    "from sklearn.preprocessing import MinMaxScaler\n",
    "from sklearn.impute import SimpleImputer\n",
    "\n",
    "# 상관분석으로 선택된 특성들만 사용\n",
    "selected_features = [\n",
    "    ' ACK Flag Count',\n",
    "    ' Active Max',\n",
    "    ' Active Min',\n",
    "    ' Active Std',\n",
    "    ' Average Packet Size',\n",
    "    ' Avg Bwd Segment Size',\n",
    "    ' Bwd Header Length',\n",
    "    ' Bwd Packet Length Mean',\n",
    "    ' Bwd Packet Length Std',\n",
    "    ' Bwd Packets/s',\n",
    "    ' Flow Packets/s',\n",
    "    ' Fwd Header Length',\n",
    "    ' Fwd Packet Length Max',\n",
    "    ' Idle Std',\n",
    "    ' Max Packet Length',\n",
    "    ' PSH Flag Count',\n",
    "    ' Packet Length Mean',\n",
    "    ' Packet Length Variance',\n",
    "    ' Subflow Bwd Bytes',\n",
    "    ' Subflow Bwd Packets',\n",
    "    ' Subflow Fwd Bytes',\n",
    "    ' Total Backward Packets',\n",
    "    ' Total Fwd Packets',\n",
    "    ' Total Length of Bwd Packets',\n",
    "    ' act_data_pkt_fwd',\n",
    "    ' min_seg_size_forward',\n",
    "    'Active Mean',\n",
    "    'Bwd Packet Length Max',\n",
    "    'Flow Bytes/s',\n",
    "    'Init_Win_bytes_forward',\n",
    "    'Subflow Fwd Packets',\n",
    "    'Total Length of Fwd Packets'\n",
    "]\n",
    "\n",
    "# 선택된 특성만 포함하는 데이터프레임 생성\n",
    "test_X_selected = test_dataset[selected_features]\n",
    "\n",
    "# 앞서 훈련 데이터에 대해 학습한 MinMaxScaler 인스턴스를 사용하여 테스트 데이터를 변환\n",
    "test_X_scaled = scaler.transform(test_X_selected)\n",
    "\n",
    "# 정규화된 특성들을 데이터프레임으로 변환\n",
    "test_X_normalized = pd.DataFrame(test_X_scaled, columns=selected_features)\n",
    "\n",
    "# 타깃 변수 데이터로 변환\n",
    "y = np.array(labels)\n",
    "\n",
    "# 결과 출력\n",
    "print(\"정규화된 선택된 특성들의 데이터프레임:\")\n",
    "print(test_X_normalized.head())"
   ]
  },
  {
   "cell_type": "code",
   "execution_count": 25,
   "id": "28b392cd",
   "metadata": {},
   "outputs": [
    {
     "name": "stdout",
     "output_type": "stream",
     "text": [
      "6x6 크기의 2차원 행렬:\n",
      "[0.         0.         0.         0.         0.19676708 0.3413242 ]\n",
      "[9.99151871e-01 3.41324201e-01 5.26239224e-01 4.67185294e-06\n",
      " 4.66351271e-06 9.93128606e-01]\n",
      "[0.05880032 0.         0.07142857 1.         0.23883246 0.03838331]\n",
      "[0.00027826 0.00080483 0.00024736 0.00080483 0.0016335  0.00027826]\n",
      "[5.94000594e-04 8.91079311e-01 0.00000000e+00 1.11111111e-01\n",
      " 2.46432897e-05 1.00000000e+00]\n",
      "[0.0016335  0.00024736 0.         0.         0.         0.        ]\n"
     ]
    }
   ],
   "source": [
    "test_X_padded = np.pad(test_X_normalized.values, ((0, 0), (0, 4)), mode='constant', constant_values=0)\n",
    "\n",
    "# 선택된 특성을 6x6 크기의 2차원 행렬로 변환\n",
    "num_rows = 6\n",
    "num_columns = 6\n",
    "X_test_reshaped = test_X_padded.reshape(-1, num_rows, num_columns)\n",
    "\n",
    "# 결과 출력\n",
    "print(\"6x6 크기의 2차원 행렬:\")\n",
    "for i in range(num_rows):\n",
    "    print(X_test_reshaped[0][i])  # 첫 번째 샘플에 해당하는 2x3 행렬 출력"
   ]
  },
  {
   "cell_type": "code",
   "execution_count": 26,
   "id": "e41bc6fd",
   "metadata": {},
   "outputs": [
    {
     "name": "stdout",
     "output_type": "stream",
     "text": [
      "이미지 변환 및 저장이 완료되었습니다.\n"
     ]
    }
   ],
   "source": [
    "from PIL import Image\n",
    "import os\n",
    "\n",
    "# 이미지를 저장할 폴더를 생성합니다.\n",
    "save_folder = r'C:\\Users\\pc\\Desktop\\CNN\\Correlation\\0.15_threshold\\Test_Image\\\\'\n",
    "os.makedirs(os.path.join(save_folder, \"Benign\"), exist_ok=True)\n",
    "os.makedirs(os.path.join(save_folder, \"Ransomware\"), exist_ok=True)\n",
    "\n",
    "# 이미지 확대 비율 설정\n",
    "resize_factor = 10  # 10배 확대\n",
    "\n",
    "# X_final_reshaped를 이미지로 변환하여 저장합니다.\n",
    "num_samples = X_test_reshaped.shape[0]\n",
    "for i in range(num_samples):\n",
    "    # 1채널 16비트 PNG 이미지 생성\n",
    "    image_data = X_test_reshaped[i]\n",
    "    image_data = (image_data * 65535).astype('uint16')  # 16비트로 변환\n",
    "    image = Image.fromarray(image_data, 'I;16')  # 16비트 단일 채널 이미지로 변환\n",
    "\n",
    "    # 이미지 데이터 확대\n",
    "    image_data = np.repeat(image_data, resize_factor, axis=0)  # 행 확대\n",
    "    image_data = np.repeat(image_data, resize_factor, axis=1)  # 열 확대\n",
    "    \n",
    "    # 확대된 데이터를 다시 이미지로 변환\n",
    "    image = Image.fromarray(image_data, 'I;16')  # 16비트 단일 채널 이미지로 변환\n",
    "    \n",
    "    # 이미지의 라벨에 따라서 저장 위치 및 파일명 설정\n",
    "    if i < 20000:\n",
    "        label = \"Benign\"\n",
    "    else:\n",
    "        label = \"Ransomware\"\n",
    "\n",
    "    image_filename = f\"image_{i}.png\"\n",
    "    image_filepath = os.path.join(save_folder, label, image_filename)\n",
    "\n",
    "    # 해당 경로에 이미지가 이미 존재하는 경우 건너뛴다.\n",
    "    if os.path.exists(image_filepath):\n",
    "        continue\n",
    "\n",
    "    image.save(image_filepath)\n",
    "\n",
    "print(\"이미지 변환 및 저장이 완료되었습니다.\")"
   ]
  },
  {
   "cell_type": "code",
   "execution_count": 27,
   "id": "886446e0",
   "metadata": {},
   "outputs": [],
   "source": [
    "import os\n",
    "import cv2\n",
    "import numpy as np\n",
    "\n",
    "# 라벨 목록 및 해당 라벨에 대한 정수 값 지정\n",
    "label_mapping = {\n",
    "    \"Benign\": 0,\n",
    "    \"Ransomware\": 1\n",
    "}\n",
    "\n",
    "# 이미지 데이터를 저장한 폴더 경로\n",
    "image_folder = r'C:\\Users\\pc\\Desktop\\CNN\\Correlation\\0.15_threshold\\Test_Image\\\\'  # Modified path to \"Test_Image\"\n",
    "\n",
    "X_test_data = []  # Changed variable name to X_test_data for clarity\n",
    "y_test_labels = []  # Changed variable name to y_test_labels for clarity\n",
    "\n",
    "# 모든 라벨마다 폴더를 순회합니다.\n",
    "for label_str, label_int in label_mapping.items():\n",
    "    folder_path = os.path.join(image_folder, label_str)  # 해당 라벨의 폴더 경로\n",
    "    \n",
    "    # 해당 폴더 내의 모든 이미지 파일을 순차적으로 처리\n",
    "    for filename in os.listdir(folder_path):\n",
    "        image_path = os.path.join(folder_path, filename)\n",
    "        \n",
    "        # 16-bit 이미지 로딩\n",
    "        image = cv2.imread(image_path, cv2.IMREAD_UNCHANGED)\n",
    "        \n",
    "        if image is None:  # 이미지 로딩 실패\n",
    "            print(f\"Failed to load image at path: {image_path}\")\n",
    "            continue\n",
    "        \n",
    "        X_test_data.append(image)  # Changed variable name\n",
    "        y_test_labels.append(label_int)  # Changed variable name\n",
    "\n",
    "X_test_data = np.array(X_test_data, dtype=np.uint16)  # uint16 형태로 이미지 데이터 저장, changed variable name\n",
    "y_test_labels = np.array(y_test_labels)  # Changed variable name"
   ]
  }
 ],
 "metadata": {
  "kernelspec": {
   "display_name": "Python 3 (ipykernel)",
   "language": "python",
   "name": "python3"
  },
  "language_info": {
   "codemirror_mode": {
    "name": "ipython",
    "version": 3
   },
   "file_extension": ".py",
   "mimetype": "text/x-python",
   "name": "python",
   "nbconvert_exporter": "python",
   "pygments_lexer": "ipython3",
   "version": "3.10.9"
  }
 },
 "nbformat": 4,
 "nbformat_minor": 5
}
